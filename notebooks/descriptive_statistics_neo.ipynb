{
 "cells": [
  {
   "cell_type": "markdown",
   "id": "circular-somerset",
   "metadata": {},
   "source": [
    "# Import librairies & data"
   ]
  },
  {
   "cell_type": "code",
   "execution_count": 106,
   "id": "confused-music",
   "metadata": {},
   "outputs": [],
   "source": [
    "import pandas as pd\n",
    "import numpy as np\n",
    "import seaborn as sns\n",
    "import matplotlib.pyplot as plt"
   ]
  },
  {
   "cell_type": "code",
   "execution_count": 107,
   "id": "ceramic-potato",
   "metadata": {},
   "outputs": [],
   "source": [
    "from data import Data"
   ]
  },
  {
   "cell_type": "code",
   "execution_count": 108,
   "id": "simplified-accent",
   "metadata": {},
   "outputs": [
    {
     "name": "stderr",
     "output_type": "stream",
     "text": [
      "/home/corentin/.pyenv/versions/3.8.6/envs/lewagon/lib/python3.8/site-packages/IPython/core/interactiveshell.py:3338: DtypeWarning: Columns (5,17,24,25) have mixed types.Specify dtype option on import or set low_memory=False.\n",
      "  if (await self.run_code(code, result,  async_=asy)):\n"
     ]
    }
   ],
   "source": [
    "df_neo = Data().get_neo_data()"
   ]
  },
  {
   "cell_type": "code",
   "execution_count": 109,
   "id": "after-mediterranean",
   "metadata": {},
   "outputs": [],
   "source": [
    "df_acc = Data().get_acc_data()"
   ]
  },
  {
   "cell_type": "markdown",
   "id": "latter-couple",
   "metadata": {},
   "source": [
    "# Describe DataFrame"
   ]
  },
  {
   "cell_type": "code",
   "execution_count": 111,
   "id": "prime-subdivision",
   "metadata": {},
   "outputs": [
    {
     "data": {
      "text/plain": [
       "name              653\n",
       "prefix            659\n",
       "G                 657\n",
       "M1                659\n",
       "M2                659\n",
       "K1                659\n",
       "K2                659\n",
       "PC                659\n",
       "diameter          636\n",
       "extent            657\n",
       "albedo            639\n",
       "rot_per           591\n",
       "GM                657\n",
       "BV                657\n",
       "UB                657\n",
       "IR                658\n",
       "spec_B            650\n",
       "spec_T            659\n",
       "H_sigma           640\n",
       "diameter_sigma    639\n",
       "n_del_obs_used    604\n",
       "n_dop_obs_used    604\n",
       "two_body          659\n",
       "A1                659\n",
       "A2                648\n",
       "A3                659\n",
       "DT                659\n",
       "dtype: int64"
      ]
     },
     "execution_count": 111,
     "metadata": {},
     "output_type": "execute_result"
    }
   ],
   "source": [
    "a = df_acc.isnull().sum()\n",
    "a[a>1]"
   ]
  },
  {
   "cell_type": "code",
   "execution_count": 113,
   "id": "incredible-relief",
   "metadata": {},
   "outputs": [
    {
     "data": {
      "text/plain": [
       "(659, 86)"
      ]
     },
     "execution_count": 113,
     "metadata": {},
     "output_type": "execute_result"
    }
   ],
   "source": [
    "df_acc.shape"
   ]
  },
  {
   "cell_type": "code",
   "execution_count": 114,
   "id": "tight-hearing",
   "metadata": {},
   "outputs": [
    {
     "data": {
      "text/plain": [
       "spec_B    18448\n",
       "spec_T    18722\n",
       "dtype: int64"
      ]
     },
     "execution_count": 114,
     "metadata": {},
     "output_type": "execute_result"
    }
   ],
   "source": [
    "df_neo[df_neo['neo']=='Y'][['spec_B', 'spec_T']].isnull().sum()"
   ]
  },
  {
   "cell_type": "code",
   "execution_count": 110,
   "id": "simplified-backing",
   "metadata": {},
   "outputs": [
    {
     "data": {
      "text/plain": [
       "18478"
      ]
     },
     "execution_count": 110,
     "metadata": {},
     "output_type": "execute_result"
    }
   ],
   "source": [
    "df_neo['spec_B'].isnull().sum()"
   ]
  },
  {
   "cell_type": "code",
   "execution_count": 115,
   "id": "distinct-coordinate",
   "metadata": {},
   "outputs": [],
   "source": [
    "def clean_spec(x):\n",
    "    x = str(x).replace(':', '')\n",
    "    x = str(x).replace('(IV)', '')\n",
    "    return x"
   ]
  },
  {
   "cell_type": "code",
   "execution_count": 116,
   "id": "elect-navigator",
   "metadata": {},
   "outputs": [],
   "source": [
    "df_neo['spec_B_clean'] = df_neo['spec_B'].apply(clean_spec)"
   ]
  },
  {
   "cell_type": "code",
   "execution_count": 117,
   "id": "bibliographic-tamil",
   "metadata": {},
   "outputs": [
    {
     "data": {
      "text/html": [
       "<div>\n",
       "<style scoped>\n",
       "    .dataframe tbody tr th:only-of-type {\n",
       "        vertical-align: middle;\n",
       "    }\n",
       "\n",
       "    .dataframe tbody tr th {\n",
       "        vertical-align: top;\n",
       "    }\n",
       "\n",
       "    .dataframe thead th {\n",
       "        text-align: right;\n",
       "    }\n",
       "</style>\n",
       "<table border=\"1\" class=\"dataframe\">\n",
       "  <thead>\n",
       "    <tr style=\"text-align: right;\">\n",
       "      <th></th>\n",
       "      <th>spec_B_clean</th>\n",
       "      <th>id</th>\n",
       "    </tr>\n",
       "  </thead>\n",
       "  <tbody>\n",
       "    <tr>\n",
       "      <th>0</th>\n",
       "      <td>A</td>\n",
       "      <td>1</td>\n",
       "    </tr>\n",
       "    <tr>\n",
       "      <th>1</th>\n",
       "      <td>B</td>\n",
       "      <td>5</td>\n",
       "    </tr>\n",
       "    <tr>\n",
       "      <th>2</th>\n",
       "      <td>C</td>\n",
       "      <td>13</td>\n",
       "    </tr>\n",
       "    <tr>\n",
       "      <th>3</th>\n",
       "      <td>Cb</td>\n",
       "      <td>3</td>\n",
       "    </tr>\n",
       "    <tr>\n",
       "      <th>4</th>\n",
       "      <td>Cg</td>\n",
       "      <td>1</td>\n",
       "    </tr>\n",
       "    <tr>\n",
       "      <th>5</th>\n",
       "      <td>Ch</td>\n",
       "      <td>1</td>\n",
       "    </tr>\n",
       "    <tr>\n",
       "      <th>6</th>\n",
       "      <td>D</td>\n",
       "      <td>4</td>\n",
       "    </tr>\n",
       "    <tr>\n",
       "      <th>7</th>\n",
       "      <td>K</td>\n",
       "      <td>7</td>\n",
       "    </tr>\n",
       "    <tr>\n",
       "      <th>8</th>\n",
       "      <td>L</td>\n",
       "      <td>6</td>\n",
       "    </tr>\n",
       "    <tr>\n",
       "      <th>9</th>\n",
       "      <td>Ld</td>\n",
       "      <td>2</td>\n",
       "    </tr>\n",
       "    <tr>\n",
       "      <th>10</th>\n",
       "      <td>O</td>\n",
       "      <td>6</td>\n",
       "    </tr>\n",
       "    <tr>\n",
       "      <th>11</th>\n",
       "      <td>Q</td>\n",
       "      <td>18</td>\n",
       "    </tr>\n",
       "    <tr>\n",
       "      <th>12</th>\n",
       "      <td>R</td>\n",
       "      <td>1</td>\n",
       "    </tr>\n",
       "    <tr>\n",
       "      <th>13</th>\n",
       "      <td>S</td>\n",
       "      <td>77</td>\n",
       "    </tr>\n",
       "    <tr>\n",
       "      <th>14</th>\n",
       "      <td>Sa</td>\n",
       "      <td>3</td>\n",
       "    </tr>\n",
       "    <tr>\n",
       "      <th>15</th>\n",
       "      <td>Sk</td>\n",
       "      <td>13</td>\n",
       "    </tr>\n",
       "    <tr>\n",
       "      <th>16</th>\n",
       "      <td>Sl</td>\n",
       "      <td>6</td>\n",
       "    </tr>\n",
       "    <tr>\n",
       "      <th>17</th>\n",
       "      <td>Sq</td>\n",
       "      <td>63</td>\n",
       "    </tr>\n",
       "    <tr>\n",
       "      <th>18</th>\n",
       "      <td>Sr</td>\n",
       "      <td>12</td>\n",
       "    </tr>\n",
       "    <tr>\n",
       "      <th>19</th>\n",
       "      <td>T</td>\n",
       "      <td>5</td>\n",
       "    </tr>\n",
       "    <tr>\n",
       "      <th>20</th>\n",
       "      <td>U</td>\n",
       "      <td>3</td>\n",
       "    </tr>\n",
       "    <tr>\n",
       "      <th>21</th>\n",
       "      <td>V</td>\n",
       "      <td>14</td>\n",
       "    </tr>\n",
       "    <tr>\n",
       "      <th>22</th>\n",
       "      <td>X</td>\n",
       "      <td>29</td>\n",
       "    </tr>\n",
       "    <tr>\n",
       "      <th>23</th>\n",
       "      <td>Xc</td>\n",
       "      <td>7</td>\n",
       "    </tr>\n",
       "    <tr>\n",
       "      <th>24</th>\n",
       "      <td>Xe</td>\n",
       "      <td>2</td>\n",
       "    </tr>\n",
       "    <tr>\n",
       "      <th>25</th>\n",
       "      <td>Xk</td>\n",
       "      <td>8</td>\n",
       "    </tr>\n",
       "    <tr>\n",
       "      <th>26</th>\n",
       "      <td>nan</td>\n",
       "      <td>18478</td>\n",
       "    </tr>\n",
       "  </tbody>\n",
       "</table>\n",
       "</div>"
      ],
      "text/plain": [
       "   spec_B_clean     id\n",
       "0             A      1\n",
       "1             B      5\n",
       "2             C     13\n",
       "3            Cb      3\n",
       "4            Cg      1\n",
       "5            Ch      1\n",
       "6             D      4\n",
       "7             K      7\n",
       "8             L      6\n",
       "9            Ld      2\n",
       "10            O      6\n",
       "11            Q     18\n",
       "12            R      1\n",
       "13            S     77\n",
       "14           Sa      3\n",
       "15           Sk     13\n",
       "16           Sl      6\n",
       "17           Sq     63\n",
       "18           Sr     12\n",
       "19            T      5\n",
       "20            U      3\n",
       "21            V     14\n",
       "22            X     29\n",
       "23           Xc      7\n",
       "24           Xe      2\n",
       "25           Xk      8\n",
       "26          nan  18478"
      ]
     },
     "execution_count": 117,
     "metadata": {},
     "output_type": "execute_result"
    }
   ],
   "source": [
    "spec_counts = df_neo[['id', 'spec_B_clean']].groupby(['spec_B_clean']).count().reset_index()\n",
    "spec_counts"
   ]
  },
  {
   "cell_type": "code",
   "execution_count": 118,
   "id": "persistent-binary",
   "metadata": {},
   "outputs": [],
   "source": [
    "index_to_del = spec_counts[ spec_counts['spec_B_clean'] == 'nan' ].index"
   ]
  },
  {
   "cell_type": "code",
   "execution_count": 119,
   "id": "supreme-reservation",
   "metadata": {},
   "outputs": [
    {
     "data": {
      "text/plain": [
       "Int64Index([26], dtype='int64')"
      ]
     },
     "execution_count": 119,
     "metadata": {},
     "output_type": "execute_result"
    }
   ],
   "source": [
    "index_to_del"
   ]
  },
  {
   "cell_type": "code",
   "execution_count": 120,
   "id": "green-girlfriend",
   "metadata": {},
   "outputs": [],
   "source": [
    "spec_counts.drop(index_to_del , inplace=True)"
   ]
  },
  {
   "cell_type": "code",
   "execution_count": 121,
   "id": "still-cotton",
   "metadata": {},
   "outputs": [
    {
     "data": {
      "text/html": [
       "<div>\n",
       "<style scoped>\n",
       "    .dataframe tbody tr th:only-of-type {\n",
       "        vertical-align: middle;\n",
       "    }\n",
       "\n",
       "    .dataframe tbody tr th {\n",
       "        vertical-align: top;\n",
       "    }\n",
       "\n",
       "    .dataframe thead th {\n",
       "        text-align: right;\n",
       "    }\n",
       "</style>\n",
       "<table border=\"1\" class=\"dataframe\">\n",
       "  <thead>\n",
       "    <tr style=\"text-align: right;\">\n",
       "      <th></th>\n",
       "      <th>spec_B_clean</th>\n",
       "      <th>id</th>\n",
       "    </tr>\n",
       "  </thead>\n",
       "  <tbody>\n",
       "    <tr>\n",
       "      <th>0</th>\n",
       "      <td>A</td>\n",
       "      <td>1</td>\n",
       "    </tr>\n",
       "    <tr>\n",
       "      <th>1</th>\n",
       "      <td>B</td>\n",
       "      <td>5</td>\n",
       "    </tr>\n",
       "    <tr>\n",
       "      <th>2</th>\n",
       "      <td>C</td>\n",
       "      <td>13</td>\n",
       "    </tr>\n",
       "    <tr>\n",
       "      <th>3</th>\n",
       "      <td>Cb</td>\n",
       "      <td>3</td>\n",
       "    </tr>\n",
       "    <tr>\n",
       "      <th>4</th>\n",
       "      <td>Cg</td>\n",
       "      <td>1</td>\n",
       "    </tr>\n",
       "    <tr>\n",
       "      <th>5</th>\n",
       "      <td>Ch</td>\n",
       "      <td>1</td>\n",
       "    </tr>\n",
       "    <tr>\n",
       "      <th>6</th>\n",
       "      <td>D</td>\n",
       "      <td>4</td>\n",
       "    </tr>\n",
       "    <tr>\n",
       "      <th>7</th>\n",
       "      <td>K</td>\n",
       "      <td>7</td>\n",
       "    </tr>\n",
       "    <tr>\n",
       "      <th>8</th>\n",
       "      <td>L</td>\n",
       "      <td>6</td>\n",
       "    </tr>\n",
       "    <tr>\n",
       "      <th>9</th>\n",
       "      <td>Ld</td>\n",
       "      <td>2</td>\n",
       "    </tr>\n",
       "    <tr>\n",
       "      <th>10</th>\n",
       "      <td>O</td>\n",
       "      <td>6</td>\n",
       "    </tr>\n",
       "    <tr>\n",
       "      <th>11</th>\n",
       "      <td>Q</td>\n",
       "      <td>18</td>\n",
       "    </tr>\n",
       "    <tr>\n",
       "      <th>12</th>\n",
       "      <td>R</td>\n",
       "      <td>1</td>\n",
       "    </tr>\n",
       "    <tr>\n",
       "      <th>13</th>\n",
       "      <td>S</td>\n",
       "      <td>77</td>\n",
       "    </tr>\n",
       "    <tr>\n",
       "      <th>14</th>\n",
       "      <td>Sa</td>\n",
       "      <td>3</td>\n",
       "    </tr>\n",
       "    <tr>\n",
       "      <th>15</th>\n",
       "      <td>Sk</td>\n",
       "      <td>13</td>\n",
       "    </tr>\n",
       "    <tr>\n",
       "      <th>16</th>\n",
       "      <td>Sl</td>\n",
       "      <td>6</td>\n",
       "    </tr>\n",
       "    <tr>\n",
       "      <th>17</th>\n",
       "      <td>Sq</td>\n",
       "      <td>63</td>\n",
       "    </tr>\n",
       "    <tr>\n",
       "      <th>18</th>\n",
       "      <td>Sr</td>\n",
       "      <td>12</td>\n",
       "    </tr>\n",
       "    <tr>\n",
       "      <th>19</th>\n",
       "      <td>T</td>\n",
       "      <td>5</td>\n",
       "    </tr>\n",
       "    <tr>\n",
       "      <th>20</th>\n",
       "      <td>U</td>\n",
       "      <td>3</td>\n",
       "    </tr>\n",
       "    <tr>\n",
       "      <th>21</th>\n",
       "      <td>V</td>\n",
       "      <td>14</td>\n",
       "    </tr>\n",
       "    <tr>\n",
       "      <th>22</th>\n",
       "      <td>X</td>\n",
       "      <td>29</td>\n",
       "    </tr>\n",
       "    <tr>\n",
       "      <th>23</th>\n",
       "      <td>Xc</td>\n",
       "      <td>7</td>\n",
       "    </tr>\n",
       "    <tr>\n",
       "      <th>24</th>\n",
       "      <td>Xe</td>\n",
       "      <td>2</td>\n",
       "    </tr>\n",
       "    <tr>\n",
       "      <th>25</th>\n",
       "      <td>Xk</td>\n",
       "      <td>8</td>\n",
       "    </tr>\n",
       "  </tbody>\n",
       "</table>\n",
       "</div>"
      ],
      "text/plain": [
       "   spec_B_clean  id\n",
       "0             A   1\n",
       "1             B   5\n",
       "2             C  13\n",
       "3            Cb   3\n",
       "4            Cg   1\n",
       "5            Ch   1\n",
       "6             D   4\n",
       "7             K   7\n",
       "8             L   6\n",
       "9            Ld   2\n",
       "10            O   6\n",
       "11            Q  18\n",
       "12            R   1\n",
       "13            S  77\n",
       "14           Sa   3\n",
       "15           Sk  13\n",
       "16           Sl   6\n",
       "17           Sq  63\n",
       "18           Sr  12\n",
       "19            T   5\n",
       "20            U   3\n",
       "21            V  14\n",
       "22            X  29\n",
       "23           Xc   7\n",
       "24           Xe   2\n",
       "25           Xk   8"
      ]
     },
     "execution_count": 121,
     "metadata": {},
     "output_type": "execute_result"
    }
   ],
   "source": [
    "spec_counts"
   ]
  },
  {
   "cell_type": "code",
   "execution_count": 135,
   "id": "inappropriate-skirt",
   "metadata": {},
   "outputs": [
    {
     "data": {
      "text/plain": [
       "True"
      ]
     },
     "execution_count": 135,
     "metadata": {},
     "output_type": "execute_result"
    }
   ],
   "source": [
    "pd.isnull(df_acc.loc[500, 'spec_B'])"
   ]
  },
  {
   "cell_type": "code",
   "execution_count": 136,
   "id": "twenty-fundamentals",
   "metadata": {},
   "outputs": [],
   "source": [
    "spec_counts_acc = df_acc[['id', 'spec_B']].groupby(['spec_B']).count().reset_index()"
   ]
  },
  {
   "cell_type": "code",
   "execution_count": 137,
   "id": "varied-gambling",
   "metadata": {},
   "outputs": [
    {
     "data": {
      "text/html": [
       "<div>\n",
       "<style scoped>\n",
       "    .dataframe tbody tr th:only-of-type {\n",
       "        vertical-align: middle;\n",
       "    }\n",
       "\n",
       "    .dataframe tbody tr th {\n",
       "        vertical-align: top;\n",
       "    }\n",
       "\n",
       "    .dataframe thead th {\n",
       "        text-align: right;\n",
       "    }\n",
       "</style>\n",
       "<table border=\"1\" class=\"dataframe\">\n",
       "  <thead>\n",
       "    <tr style=\"text-align: right;\">\n",
       "      <th></th>\n",
       "      <th>spec_B</th>\n",
       "      <th>id</th>\n",
       "    </tr>\n",
       "  </thead>\n",
       "  <tbody>\n",
       "    <tr>\n",
       "      <th>0</th>\n",
       "      <td>B</td>\n",
       "      <td>1</td>\n",
       "    </tr>\n",
       "    <tr>\n",
       "      <th>1</th>\n",
       "      <td>Cg</td>\n",
       "      <td>1</td>\n",
       "    </tr>\n",
       "    <tr>\n",
       "      <th>2</th>\n",
       "      <td>S</td>\n",
       "      <td>2</td>\n",
       "    </tr>\n",
       "    <tr>\n",
       "      <th>3</th>\n",
       "      <td>S(IV)</td>\n",
       "      <td>1</td>\n",
       "    </tr>\n",
       "    <tr>\n",
       "      <th>4</th>\n",
       "      <td>S:</td>\n",
       "      <td>1</td>\n",
       "    </tr>\n",
       "    <tr>\n",
       "      <th>5</th>\n",
       "      <td>Sq</td>\n",
       "      <td>2</td>\n",
       "    </tr>\n",
       "    <tr>\n",
       "      <th>6</th>\n",
       "      <td>X</td>\n",
       "      <td>1</td>\n",
       "    </tr>\n",
       "  </tbody>\n",
       "</table>\n",
       "</div>"
      ],
      "text/plain": [
       "  spec_B  id\n",
       "0      B   1\n",
       "1     Cg   1\n",
       "2      S   2\n",
       "3  S(IV)   1\n",
       "4     S:   1\n",
       "5     Sq   2\n",
       "6      X   1"
      ]
     },
     "execution_count": 137,
     "metadata": {},
     "output_type": "execute_result"
    }
   ],
   "source": [
    "spec_counts_acc"
   ]
  },
  {
   "cell_type": "code",
   "execution_count": 122,
   "id": "acoustic-bailey",
   "metadata": {},
   "outputs": [],
   "source": [
    "sum_spec = spec_counts['id'].sum()"
   ]
  },
  {
   "cell_type": "code",
   "execution_count": 123,
   "id": "cross-floating",
   "metadata": {},
   "outputs": [],
   "source": [
    "spec_counts['per_spec'] = spec_counts['id'].apply(lambda x: x / sum_spec)"
   ]
  },
  {
   "cell_type": "code",
   "execution_count": 125,
   "id": "formal-lincoln",
   "metadata": {},
   "outputs": [],
   "source": [
    "spec_counts['cum_perc_spec'] = spec_counts['per_spec'].cumsum()"
   ]
  },
  {
   "cell_type": "code",
   "execution_count": 126,
   "id": "administrative-texture",
   "metadata": {},
   "outputs": [],
   "source": [
    "from random import uniform"
   ]
  },
  {
   "cell_type": "code",
   "execution_count": 127,
   "id": "moved-belly",
   "metadata": {},
   "outputs": [
    {
     "name": "stdout",
     "output_type": "stream",
     "text": [
      "0.963315491472732: Xc spec\n"
     ]
    }
   ],
   "source": [
    "a = uniform(0,1)\n",
    "\n",
    "for i in range(spec_counts.shape[0]):\n",
    "    if a > spec_counts.loc[i, 'cum_perc_spec']:\n",
    "        continue\n",
    "    else:\n",
    "        new_spec = spec_counts.loc[i, 'spec_B_clean']\n",
    "        break\n",
    "        \n",
    "print(f'{a}: {new_spec} spec')"
   ]
  },
  {
   "cell_type": "code",
   "execution_count": 128,
   "id": "offensive-board",
   "metadata": {},
   "outputs": [],
   "source": [
    "def new_spec_acc(x):\n",
    "    a = uniform(0,1)\n",
    "\n",
    "    for i in range(spec_counts.shape[0]):\n",
    "        if a > spec_counts.loc[i, 'cum_perc_spec']:\n",
    "            continue\n",
    "        else:\n",
    "            new_spec = spec_counts.loc[i, 'spec_B_clean']\n",
    "            break\n",
    "    return new_spec"
   ]
  },
  {
   "cell_type": "code",
   "execution_count": 45,
   "id": "useful-repeat",
   "metadata": {},
   "outputs": [],
   "source": [
    "df_acc['new_spec'] = df_acc['id'].apply(new_spec_acc)"
   ]
  },
  {
   "cell_type": "code",
   "execution_count": 46,
   "id": "continent-philip",
   "metadata": {
    "collapsed": true
   },
   "outputs": [
    {
     "data": {
      "text/plain": [
       "0      L\n",
       "1      V\n",
       "2      K\n",
       "3      Q\n",
       "4     Xe\n",
       "5      X\n",
       "6      V\n",
       "7     Sa\n",
       "8      Q\n",
       "9     Sl\n",
       "10     S\n",
       "11    Sq\n",
       "12     S\n",
       "13     X\n",
       "14     B\n",
       "15     S\n",
       "16    Sq\n",
       "17    Xe\n",
       "18     Q\n",
       "19     L\n",
       "20    Sq\n",
       "21     S\n",
       "22     S\n",
       "23     V\n",
       "24    Sq\n",
       "25     S\n",
       "26     S\n",
       "27     C\n",
       "28    Xc\n",
       "29     V\n",
       "30     S\n",
       "31     T\n",
       "32     B\n",
       "33     C\n",
       "34    Sq\n",
       "35     Q\n",
       "36     X\n",
       "37     S\n",
       "38     S\n",
       "39     C\n",
       "40     X\n",
       "41    Cb\n",
       "42     S\n",
       "43    Sq\n",
       "44     S\n",
       "45    Sa\n",
       "46    Sq\n",
       "47    Xk\n",
       "Name: new_spec, dtype: object"
      ]
     },
     "execution_count": 46,
     "metadata": {},
     "output_type": "execute_result"
    }
   ],
   "source": [
    "df_acc['new_spec']"
   ]
  },
  {
   "cell_type": "code",
   "execution_count": 56,
   "id": "premier-picnic",
   "metadata": {},
   "outputs": [
    {
     "data": {
      "text/plain": [
       "Index(['index', 0], dtype='object')"
      ]
     },
     "execution_count": 56,
     "metadata": {},
     "output_type": "execute_result"
    }
   ],
   "source": [
    "null_acc.columns"
   ]
  },
  {
   "cell_type": "code",
   "execution_count": 60,
   "id": "under-mapping",
   "metadata": {},
   "outputs": [
    {
     "data": {
      "text/plain": [
       "['name',\n",
       " 'prefix',\n",
       " 'G',\n",
       " 'M1',\n",
       " 'M2',\n",
       " 'K1',\n",
       " 'K2',\n",
       " 'PC',\n",
       " 'extent',\n",
       " 'GM',\n",
       " 'BV',\n",
       " 'UB',\n",
       " 'IR',\n",
       " 'spec_B',\n",
       " 'spec_T',\n",
       " 'two_body',\n",
       " 'A1',\n",
       " 'A2',\n",
       " 'A3',\n",
       " 'DT']"
      ]
     },
     "execution_count": 60,
     "metadata": {},
     "output_type": "execute_result"
    }
   ],
   "source": [
    "null_acc = df_acc.isnull().sum().reset_index()"
   ]
  },
  {
   "cell_type": "code",
   "execution_count": 61,
   "id": "ranging-triangle",
   "metadata": {},
   "outputs": [],
   "source": [
    "df_acc = df_acc.drop(columns=list(null_acc[null_acc[0] == 48]['index']))"
   ]
  },
  {
   "cell_type": "code",
   "execution_count": 73,
   "id": "progressive-balance",
   "metadata": {},
   "outputs": [],
   "source": [
    "df_acc['delta_v'] = df_acc['Min. delta-V [delta-V, dur.] (km/s), (d)'].apply(lambda x: float(x[:3]))"
   ]
  },
  {
   "cell_type": "code",
   "execution_count": 74,
   "id": "aerial-garden",
   "metadata": {
    "collapsed": true
   },
   "outputs": [
    {
     "data": {
      "text/plain": [
       "0     5.0\n",
       "1     5.2\n",
       "2     3.5\n",
       "3     5.8\n",
       "4     4.6\n",
       "5     5.6\n",
       "6     5.5\n",
       "7     5.9\n",
       "8     4.2\n",
       "9     5.4\n",
       "10    5.6\n",
       "11    5.4\n",
       "12    5.9\n",
       "13    5.3\n",
       "14    4.5\n",
       "15    5.6\n",
       "16    5.5\n",
       "17    5.1\n",
       "18    5.8\n",
       "19    5.1\n",
       "20    5.9\n",
       "21    5.1\n",
       "22    5.3\n",
       "23    5.9\n",
       "24    5.8\n",
       "25    5.8\n",
       "26    5.3\n",
       "27    5.3\n",
       "28    5.1\n",
       "29    5.0\n",
       "30    5.9\n",
       "31    5.7\n",
       "32    5.9\n",
       "33    5.4\n",
       "34    5.3\n",
       "35    5.5\n",
       "36    4.7\n",
       "37    5.6\n",
       "38    5.8\n",
       "39    5.4\n",
       "40    5.9\n",
       "41    5.3\n",
       "42    5.1\n",
       "43    4.8\n",
       "44    5.3\n",
       "45    5.3\n",
       "46    5.9\n",
       "47    4.2\n",
       "Name: delta_v, dtype: float64"
      ]
     },
     "execution_count": 74,
     "metadata": {},
     "output_type": "execute_result"
    }
   ],
   "source": [
    "df_acc['delta_v']"
   ]
  },
  {
   "cell_type": "code",
   "execution_count": 78,
   "id": "advanced-translation",
   "metadata": {},
   "outputs": [
    {
     "data": {
      "image/png": "[encoded data removed]",
      "text/plain": [
       "<Figure size 432x288 with 1 Axes>"
      ]
     },
     "metadata": {
      "needs_background": "light"
     },
     "output_type": "display_data"
    }
   ],
   "source": [
    "sns.histplot(df_acc['delta_v'], bins=6);"
   ]
  },
  {
   "cell_type": "code",
   "execution_count": 79,
   "id": "adequate-supplier",
   "metadata": {},
   "outputs": [
    {
     "name": "stderr",
     "output_type": "stream",
     "text": [
      "/home/corentin/.pyenv/versions/3.8.6/envs/lewagon/lib/python3.8/site-packages/seaborn/_decorators.py:36: FutureWarning: Pass the following variable as a keyword arg: x. From version 0.12, the only valid positional argument will be `data`, and passing other arguments without an explicit keyword will result in an error or misinterpretation.\n",
      "  warnings.warn(\n"
     ]
    },
    {
     "data": {
      "image/png": "[encoded data removed]",
      "text/plain": [
       "<Figure size 432x288 with 1 Axes>"
      ]
     },
     "metadata": {
      "needs_background": "light"
     },
     "output_type": "display_data"
    }
   ],
   "source": [
    "sns.boxplot(df_acc['delta_v']);"
   ]
  },
  {
   "cell_type": "code",
   "execution_count": 105,
   "id": "disabled-collaboration",
   "metadata": {},
   "outputs": [
    {
     "data": {
      "text/plain": [
       "Index(['Unnamed: 0', 'id', 'spkid', 'full_name', 'pdes', 'neo', 'pha', 'H',\n",
       "       'diameter', 'albedo', 'rot_per', 'H_sigma', 'diameter_sigma',\n",
       "       'orbit_id', 'epoch', 'epoch_mjd', 'epoch_cal', 'equinox', 'e', 'a', 'q',\n",
       "       'i', 'om', 'w', 'ma', 'ad', 'n', 'tp', 'tp_cal', 'per', 'per_y', 'moid',\n",
       "       'moid_ld', 'moid_jup', 't_jup', 'sigma_e', 'sigma_a', 'sigma_q',\n",
       "       'sigma_i', 'sigma_om', 'sigma_w', 'sigma_ma', 'sigma_ad', 'sigma_n',\n",
       "       'sigma_tp', 'sigma_per', 'class', 'producer', 'data_arc', 'first_obs',\n",
       "       'last_obs', 'n_obs_used', 'n_del_obs_used', 'n_dop_obs_used',\n",
       "       'condition_code', 'rms', 'Object', 'Orbit ID', 'H (mag)',\n",
       "       'Estimated Diameter (m)', 'OCC',\n",
       "       'Min. delta-V [delta-V, dur.] (km/s), (d)',\n",
       "       'Min. Duration [delta-V, dur.] (km/s), (d)', 'Viable Trajectories',\n",
       "       'Next Optical Opportunity (yyyy-mm [Vp])',\n",
       "       'Next Goldstone Radar Opportunity (yyyy-mm [SNR])', 'new_spec',\n",
       "       'delta_v', 'diameter_clean'],\n",
       "      dtype='object')"
      ]
     },
     "execution_count": 105,
     "metadata": {},
     "output_type": "execute_result"
    }
   ],
   "source": [
    "df_acc.columns"
   ]
  },
  {
   "cell_type": "code",
   "execution_count": 94,
   "id": "damaged-chicago",
   "metadata": {},
   "outputs": [
    {
     "ename": "TypeError",
     "evalue": "unsupported operand type(s) for +: 'int' and 'str'",
     "output_type": "error",
     "traceback": [
      "\u001b[0;31m---------------------------------------------------------------------------\u001b[0m",
      "\u001b[0;31mTypeError\u001b[0m                                 Traceback (most recent call last)",
      "\u001b[0;32m<ipython-input-94-69bb78cd7d52>\u001b[0m in \u001b[0;36m<module>\u001b[0;34m\u001b[0m\n\u001b[0;32m----> 1\u001b[0;31m \u001b[0mclean_diameter_acc\u001b[0m\u001b[0;34m(\u001b[0m\u001b[0;34m'26 - 118'\u001b[0m\u001b[0;34m)\u001b[0m\u001b[0;34m\u001b[0m\u001b[0;34m\u001b[0m\u001b[0m\n\u001b[0m",
      "\u001b[0;32m<ipython-input-90-77cdd36be83c>\u001b[0m in \u001b[0;36mclean_diameter_acc\u001b[0;34m(x)\u001b[0m\n\u001b[1;32m      5\u001b[0m         \u001b[0mi\u001b[0m \u001b[0;34m=\u001b[0m \u001b[0mint\u001b[0m\u001b[0;34m(\u001b[0m\u001b[0mi\u001b[0m\u001b[0;34m.\u001b[0m\u001b[0mstrip\u001b[0m\u001b[0;34m(\u001b[0m\u001b[0;34m)\u001b[0m\u001b[0;34m)\u001b[0m\u001b[0;34m\u001b[0m\u001b[0;34m\u001b[0m\u001b[0m\n\u001b[1;32m      6\u001b[0m \u001b[0;34m\u001b[0m\u001b[0m\n\u001b[0;32m----> 7\u001b[0;31m     \u001b[0;32mreturn\u001b[0m \u001b[0msum\u001b[0m\u001b[0;34m(\u001b[0m\u001b[0mitems\u001b[0m\u001b[0;34m)\u001b[0m \u001b[0;34m/\u001b[0m \u001b[0mlen\u001b[0m\u001b[0;34m(\u001b[0m\u001b[0mitems\u001b[0m\u001b[0;34m)\u001b[0m\u001b[0;34m\u001b[0m\u001b[0;34m\u001b[0m\u001b[0m\n\u001b[0m",
      "\u001b[0;31mTypeError\u001b[0m: unsupported operand type(s) for +: 'int' and 'str'"
     ]
    }
   ],
   "source": [
    "clean_diameter_acc('26 - 118')"
   ]
  },
  {
   "cell_type": "code",
   "execution_count": 99,
   "id": "recovered-employment",
   "metadata": {},
   "outputs": [
    {
     "data": {
      "text/plain": [
       "[26, 118]"
      ]
     },
     "execution_count": 99,
     "metadata": {},
     "output_type": "execute_result"
    }
   ],
   "source": [
    "x = '26 - 118'\n",
    "\n",
    "items = x.split('-')\n",
    "    \n",
    "items_new = []\n",
    "for i in items:\n",
    "    items_new.append(int(i.strip()))\n",
    "        \n",
    "items_new"
   ]
  },
  {
   "cell_type": "code",
   "execution_count": 100,
   "id": "wanted-freeze",
   "metadata": {},
   "outputs": [],
   "source": [
    "def clean_diameter_acc(x):\n",
    "    items = x.split('-')\n",
    "    \n",
    "    items_new = []\n",
    "    for i in items:\n",
    "        items_new.append(int(i.strip()))\n",
    "    \n",
    "    return sum(items_new) / len(items_new)"
   ]
  },
  {
   "cell_type": "code",
   "execution_count": 101,
   "id": "generous-theater",
   "metadata": {
    "collapsed": true
   },
   "outputs": [
    {
     "data": {
      "text/plain": [
       "Index(['Unnamed: 0', 'id', 'spkid', 'full_name', 'pdes', 'neo', 'pha', 'H',\n",
       "       'diameter', 'albedo', 'rot_per', 'H_sigma', 'diameter_sigma',\n",
       "       'orbit_id', 'epoch', 'epoch_mjd', 'epoch_cal', 'equinox', 'e', 'a', 'q',\n",
       "       'i', 'om', 'w', 'ma', 'ad', 'n', 'tp', 'tp_cal', 'per', 'per_y', 'moid',\n",
       "       'moid_ld', 'moid_jup', 't_jup', 'sigma_e', 'sigma_a', 'sigma_q',\n",
       "       'sigma_i', 'sigma_om', 'sigma_w', 'sigma_ma', 'sigma_ad', 'sigma_n',\n",
       "       'sigma_tp', 'sigma_per', 'class', 'producer', 'data_arc', 'first_obs',\n",
       "       'last_obs', 'n_obs_used', 'n_del_obs_used', 'n_dop_obs_used',\n",
       "       'condition_code', 'rms', 'Object', 'Orbit ID', 'H (mag)',\n",
       "       'Estimated Diameter (m)', 'OCC',\n",
       "       'Min. delta-V [delta-V, dur.] (km/s), (d)',\n",
       "       'Min. Duration [delta-V, dur.] (km/s), (d)', 'Viable Trajectories',\n",
       "       'Next Optical Opportunity (yyyy-mm [Vp])',\n",
       "       'Next Goldstone Radar Opportunity (yyyy-mm [SNR])', 'new_spec',\n",
       "       'delta_v'],\n",
       "      dtype='object')"
      ]
     },
     "execution_count": 101,
     "metadata": {},
     "output_type": "execute_result"
    }
   ],
   "source": [
    "df_acc.columns"
   ]
  },
  {
   "cell_type": "code",
   "execution_count": 102,
   "id": "permanent-techno",
   "metadata": {},
   "outputs": [],
   "source": [
    "df_acc['diameter_clean'] = df_acc['Estimated Diameter (m)'].apply(clean_diameter_acc)"
   ]
  },
  {
   "cell_type": "code",
   "execution_count": 104,
   "id": "athletic-facility",
   "metadata": {},
   "outputs": [
    {
     "data": {
      "text/plain": [
       "<AxesSubplot:xlabel='diameter_clean', ylabel='Count'>"
      ]
     },
     "execution_count": 104,
     "metadata": {},
     "output_type": "execute_result"
    },
    {
     "data": {
      "image/png": "[encoded data removed]",
      "text/plain": [
       "<Figure size 432x288 with 1 Axes>"
      ]
     },
     "metadata": {
      "needs_background": "light"
     },
     "output_type": "display_data"
    }
   ],
   "source": [
    "sns.histplot(df_acc.diameter_clean)"
   ]
  },
  {
   "cell_type": "code",
   "execution_count": 89,
   "id": "supported-economics",
   "metadata": {},
   "outputs": [
    {
     "data": {
      "text/plain": [
       "2.5"
      ]
     },
     "execution_count": 89,
     "metadata": {},
     "output_type": "execute_result"
    }
   ],
   "source": [
    "liste = [2, 3]\n",
    "sum(liste) / len(liste)"
   ]
  },
  {
   "cell_type": "code",
   "execution_count": null,
   "id": "prerequisite-bible",
   "metadata": {},
   "outputs": [],
   "source": []
  },
  {
   "cell_type": "code",
   "execution_count": 81,
   "id": "multiple-thing",
   "metadata": {},
   "outputs": [],
   "source": [
    "b = '13 - 59'"
   ]
  },
  {
   "cell_type": "code",
   "execution_count": 83,
   "id": "younger-harvey",
   "metadata": {},
   "outputs": [],
   "source": [
    "d = ' 3'"
   ]
  },
  {
   "cell_type": "code",
   "execution_count": 85,
   "id": "norman-telephone",
   "metadata": {},
   "outputs": [
    {
     "data": {
      "text/plain": [
       "3"
      ]
     },
     "execution_count": 85,
     "metadata": {},
     "output_type": "execute_result"
    }
   ],
   "source": [
    "int(d.strip())"
   ]
  },
  {
   "cell_type": "code",
   "execution_count": 82,
   "id": "center-battlefield",
   "metadata": {},
   "outputs": [
    {
     "data": {
      "text/plain": [
       "['13 ', ' 59']"
      ]
     },
     "execution_count": 82,
     "metadata": {},
     "output_type": "execute_result"
    }
   ],
   "source": [
    "c = b.split('-')\n",
    "for i in c:\n",
    "    i = int(i.strip())"
   ]
  },
  {
   "cell_type": "code",
   "execution_count": null,
   "id": "sealed-thickness",
   "metadata": {},
   "outputs": [],
   "source": []
  },
  {
   "cell_type": "code",
   "execution_count": null,
   "id": "empirical-window",
   "metadata": {},
   "outputs": [],
   "source": [
    "Spectre = {\n",
    "  '?': {},\n",
    "  'A': {},\n",
    "  'B': {\n",
    "    'hydrogen': 0.235,\n",
    "    'nitrogen': 0.001,\n",
    "    'ammonia': 0.001,\n",
    "    'iron': 10,\n",
    "  },\n",
    "  'C': {\n",
    "    # from Keck report at http://www.kiss.caltech.edu/study/asteroid/asteroid_final_report.pdf\n",
    "    'water': .2,\n",
    "    'iron': .166,\n",
    "    'nickel': .014,\n",
    "    'cobalt': .002,\n",
    "\n",
    "    # volatiles\n",
    "    'hydrogen': 0.235,\n",
    "    'nitrogen': 0.001,\n",
    "    'ammonia': 0.001,\n",
    "  },\n",
    "  'Ch': {\n",
    "    # from Keck report at http://www.kiss.caltech.edu/study/asteroid/asteroid_final_report.pdf\n",
    "    'water': .2,\n",
    "    'iron': .166,\n",
    "    'nickel': .014,\n",
    "    'cobalt': .002,\n",
    "\n",
    "    # volatiles\n",
    "    'hydrogen': 0.235,\n",
    "    'nitrogen': 0.001,\n",
    "    'ammonia': 0.001,\n",
    "  },\n",
    "  'Cg': {\n",
    "    # from Keck report at http://www.kiss.caltech.edu/study/asteroid/asteroid_final_report.pdf\n",
    "    'water': .2,\n",
    "    'iron': .166,\n",
    "    'nickel': .014,\n",
    "    'cobalt': .002,\n",
    "\n",
    "    # volatiles\n",
    "    'hydrogen': 0.235,\n",
    "    'nitrogen': 0.001,\n",
    "    'ammonia': 0.001,\n",
    "  },\n",
    "  'Cgh': {\n",
    "    # from Keck report at http://www.kiss.caltech.edu/study/asteroid/asteroid_final_report.pdf\n",
    "    'water': .2,\n",
    "    'iron': .166,\n",
    "    'nickel': .014,\n",
    "    'cobalt': .002,\n",
    "\n",
    "    # volatiles\n",
    "    'hydrogen': 0.235,\n",
    "    'nitrogen': 0.001,\n",
    "    'ammonia': 0.001,\n",
    "  },\n",
    "  'C type': {\n",
    "    # from Keck report at http://www.kiss.caltech.edu/study/asteroid/asteroid_final_report.pdf\n",
    "    'water': .2,\n",
    "    'iron': .166,\n",
    "    'nickel': .014,\n",
    "    'cobalt': .002,\n",
    "\n",
    "    # volatiles\n",
    "    'hydrogen': 0.235,\n",
    "    'nitrogen': 0.001,\n",
    "    'ammonia': 0.001,\n",
    "  },\n",
    "  'Cb': {   # transition object between C and B\n",
    "    # from Keck report at http://www.kiss.caltech.edu/study/asteroid/asteroid_final_report.pdf\n",
    "    'water': .1,\n",
    "    'iron': .083,\n",
    "    'nickel': .007,\n",
    "    'cobalt': .001,\n",
    "\n",
    "    # volatiles\n",
    "    'hydrogen': 0.235,\n",
    "    'nitrogen': 0.001,\n",
    "    'ammonia': 0.001,\n",
    "  },\n",
    "  'D': {\n",
    "    'water': 0.000023,\n",
    "  },\n",
    "  'E': {\n",
    "\n",
    "  },\n",
    "  'K': {  # cross between S and C\n",
    "    # from Keck report at http://www.kiss.caltech.edu/study/asteroid/asteroid_final_report.pdf\n",
    "    'water': .1,\n",
    "    'iron': .083,\n",
    "    'nickel': .007,\n",
    "    'cobalt': .001,\n",
    "\n",
    "    # volatiles\n",
    "    'hydrogen': 0.235,\n",
    "    'nitrogen': 0.001,\n",
    "    'ammonia': 0.001,\n",
    "  },\n",
    "  'L': {\n",
    "    'magnesium silicate': 1e-30,\n",
    "    'iron silicate': 0,\n",
    "    'aluminum': 7\n",
    "  },\n",
    "  'Ld': {  # copied from S\n",
    "    'magnesium silicate': 1e-30,\n",
    "    'iron silicate': 0,\n",
    "  },\n",
    "  'M': {\n",
    "    'iron': 88,\n",
    "    'nickel': 10,\n",
    "    'cobalt': 0.5,\n",
    "  },\n",
    "  'O': {\n",
    "    'nickel-iron': 2.965,\n",
    "    'platinum': 1.25,\n",
    "  },\n",
    "  'P': {  # correspond to CI, CM carbonaceous chondrites\n",
    "    'water': 12.5,\n",
    "  },\n",
    "  'R': {\n",
    "    'magnesium silicate': 1e-30,\n",
    "    'iron silicate': 0,\n",
    "  },\n",
    "  'S': {\n",
    "    'magnesium silicate': 1e-30,\n",
    "    'iron silicate': 0,\n",
    "  },\n",
    "  # Sa, Sq, Sr, Sk, and Sl all transition objects (assume half/half)\n",
    "  'Sa': {\n",
    "    'magnesium silicate': 5e-31,\n",
    "    'iron silicate': 0,\n",
    "  },\n",
    "  'Sq': {\n",
    "    'magnesium silicate': 1e-30,\n",
    "    'iron silicate': 0,\n",
    "  },\n",
    "  'Sr': {\n",
    "    'magnesium silicate': 1e-30,\n",
    "    'iron silicate': 0,\n",
    "  },\n",
    "  'Sk': {\n",
    "    'magnesium silicate': 1e-30,\n",
    "    'iron silicate': 0,\n",
    "  },\n",
    "  'Sl': {\n",
    "    'magnesium silicate': 1e-30,\n",
    "    'iron silicate': 0,\n",
    "  },\n",
    "  'S(IV)': {\n",
    "    'magnesium silicate': 1e-30,\n",
    "    'iron silicate': 0,\n",
    "  },\n",
    "  'Q': {\n",
    "    'nickel-iron': 13.315,\n",
    "  },\n",
    "  'R': {\n",
    "    'magnesium silicate': 1e-30,\n",
    "    'iron silicate': 0,\n",
    "  },\n",
    "  'T': {\n",
    "    'iron': 6,\n",
    "  },\n",
    "  'U': {\n",
    "\n",
    "  },\n",
    "  'V': {\n",
    "    'magnesium silicate': 1e-30,\n",
    "    'iron silicate': 0,\n",
    "  },\n",
    "\n",
    "  # TODO use density to decide what kind of X the object is?\n",
    "\n",
    "  'X': {  # TODO these vals only apply to M-type within X\n",
    "    'iron': 88,\n",
    "    'nickel': 10,\n",
    "    'cobalt': 0.5,\n",
    "  },\n",
    "  'Xe': {  # TODO these vals only apply to M-type within X\n",
    "    'iron': 88,\n",
    "    'nickel': 10,\n",
    "    'cobalt': 0.5,\n",
    "  },\n",
    "  'Xc': {  # TODO these vals only apply to M-type within X\n",
    "    'iron': 88,\n",
    "    'nickel': 10,\n",
    "    'cobalt': 0.5,\n",
    "    'platinum': 0.005,\n",
    "  },\n",
    "  'Xk': {  # TODO these vals only apply to M-type within X\n",
    "    'iron': 88,\n",
    "    'nickel': 10,\n",
    "    'cobalt': 0.5,\n",
    "  },\n",
    "  'comet': {\n",
    "      # no estimates for now, because assumed mass, etc. would be off\n",
    "  },\n",
    "}"
   ]
  },
  {
   "cell_type": "code",
   "execution_count": null,
   "id": "chubby-saudi",
   "metadata": {},
   "outputs": [],
   "source": []
  }
 ],
 "metadata": {
  "kernelspec": {
   "display_name": "Python 3",
   "language": "python",
   "name": "python3"
  },
  "language_info": {
   "codemirror_mode": {
    "name": "ipython",
    "version": 3
   },
   "file_extension": ".py",
   "mimetype": "text/x-python",
   "name": "python",
   "nbconvert_exporter": "python",
   "pygments_lexer": "ipython3",
   "version": "3.8.6"
  },
  "toc": {
   "base_numbering": 1,
   "nav_menu": {},
   "number_sections": true,
   "sideBar": true,
   "skip_h1_title": false,
   "title_cell": "Table of Contents",
   "title_sidebar": "Contents",
   "toc_cell": false,
   "toc_position": {},
   "toc_section_display": true,
   "toc_window_display": false
  }
 },
 "nbformat": 4,
 "nbformat_minor": 5
}
