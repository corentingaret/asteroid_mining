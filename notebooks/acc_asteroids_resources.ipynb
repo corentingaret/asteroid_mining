{
 "cells": [
  {
   "cell_type": "markdown",
   "id": "circular-somerset",
   "metadata": {},
   "source": [
    "# Import librairies & data"
   ]
  },
  {
   "cell_type": "code",
   "execution_count": 1,
   "id": "839cc715",
   "metadata": {},
   "outputs": [],
   "source": [
    "%load_ext autoreload\n",
    "%autoreload 2"
   ]
  },
  {
   "cell_type": "code",
   "execution_count": 68,
   "id": "confused-music",
   "metadata": {},
   "outputs": [],
   "source": [
    "import pandas as pd\n",
    "import numpy as np\n",
    "import seaborn as sns\n",
    "import matplotlib.pyplot as plt\n",
    "import math\n",
    "import random"
   ]
  },
  {
   "cell_type": "code",
   "execution_count": 3,
   "id": "ceramic-potato",
   "metadata": {},
   "outputs": [],
   "source": [
    "from asteroid_mining.data import Data"
   ]
  },
  {
   "cell_type": "code",
   "execution_count": 4,
   "id": "simplified-accent",
   "metadata": {},
   "outputs": [
    {
     "name": "stderr",
     "output_type": "stream",
     "text": [
      "/home/corentin/.pyenv/versions/3.8.6/envs/asteroid_mining/lib/python3.8/site-packages/IPython/core/interactiveshell.py:3361: DtypeWarning: Columns (5,17,24,25) have mixed types.Specify dtype option on import or set low_memory=False.\n",
      "  if (await self.run_code(code, result,  async_=asy)):\n"
     ]
    }
   ],
   "source": [
    "df_neo = Data().get_neo_data()"
   ]
  },
  {
   "cell_type": "code",
   "execution_count": 5,
   "id": "after-mediterranean",
   "metadata": {},
   "outputs": [],
   "source": [
    "df_acc = Data().get_acc_data()"
   ]
  },
  {
   "cell_type": "markdown",
   "id": "873f4958",
   "metadata": {},
   "source": [
    "# Estimate resources per asteroid"
   ]
  },
  {
   "cell_type": "markdown",
   "id": "1961ec92",
   "metadata": {},
   "source": [
    "## Get % of resources with the spec"
   ]
  },
  {
   "cell_type": "markdown",
   "id": "709b88e3",
   "metadata": {
    "heading_collapsed": true
   },
   "source": [
    "### Get the spec of the asteroid"
   ]
  },
  {
   "cell_type": "code",
   "execution_count": 9,
   "id": "incredible-relief",
   "metadata": {
    "hidden": true
   },
   "outputs": [
    {
     "data": {
      "text/plain": [
       "(659, 86)"
      ]
     },
     "execution_count": 9,
     "metadata": {},
     "output_type": "execute_result"
    }
   ],
   "source": [
    "df_acc.shape"
   ]
  },
  {
   "cell_type": "code",
   "execution_count": 10,
   "id": "ef8d4e13",
   "metadata": {
    "hidden": true
   },
   "outputs": [
    {
     "data": {
      "text/plain": [
       "0      NaN\n",
       "1    S(IV)\n",
       "2      NaN\n",
       "3       Sq\n",
       "4        B\n",
       "Name: spec_B, dtype: object"
      ]
     },
     "execution_count": 10,
     "metadata": {},
     "output_type": "execute_result"
    }
   ],
   "source": [
    "df_acc['spec_B'].head()"
   ]
  },
  {
   "cell_type": "code",
   "execution_count": 11,
   "id": "distinct-coordinate",
   "metadata": {
    "hidden": true
   },
   "outputs": [],
   "source": [
    "def clean_spec(x):\n",
    "    x = str(x).replace(':', '')\n",
    "    x = str(x).replace('(IV)', '')\n",
    "    return x"
   ]
  },
  {
   "cell_type": "code",
   "execution_count": 12,
   "id": "elect-navigator",
   "metadata": {
    "hidden": true
   },
   "outputs": [],
   "source": [
    "# Clean a bit spec_B column on df_neo & df_acc to have a clearer view\n",
    "df_neo['spec_B_clean'] = df_neo['spec_B'].apply(clean_spec)\n",
    "df_acc['spec_B_clean'] = df_acc['spec_B'].apply(clean_spec)"
   ]
  },
  {
   "cell_type": "code",
   "execution_count": 13,
   "id": "8a0447bd",
   "metadata": {
    "hidden": true
   },
   "outputs": [
    {
     "data": {
      "text/html": [
       "<div>\n",
       "<style scoped>\n",
       "    .dataframe tbody tr th:only-of-type {\n",
       "        vertical-align: middle;\n",
       "    }\n",
       "\n",
       "    .dataframe tbody tr th {\n",
       "        vertical-align: top;\n",
       "    }\n",
       "\n",
       "    .dataframe thead th {\n",
       "        text-align: right;\n",
       "    }\n",
       "</style>\n",
       "<table border=\"1\" class=\"dataframe\">\n",
       "  <thead>\n",
       "    <tr style=\"text-align: right;\">\n",
       "      <th></th>\n",
       "      <th>spec_B_clean</th>\n",
       "      <th>id</th>\n",
       "    </tr>\n",
       "  </thead>\n",
       "  <tbody>\n",
       "    <tr>\n",
       "      <th>0</th>\n",
       "      <td>B</td>\n",
       "      <td>1</td>\n",
       "    </tr>\n",
       "    <tr>\n",
       "      <th>1</th>\n",
       "      <td>Cg</td>\n",
       "      <td>1</td>\n",
       "    </tr>\n",
       "    <tr>\n",
       "      <th>2</th>\n",
       "      <td>S</td>\n",
       "      <td>4</td>\n",
       "    </tr>\n",
       "    <tr>\n",
       "      <th>3</th>\n",
       "      <td>Sq</td>\n",
       "      <td>2</td>\n",
       "    </tr>\n",
       "    <tr>\n",
       "      <th>4</th>\n",
       "      <td>X</td>\n",
       "      <td>1</td>\n",
       "    </tr>\n",
       "    <tr>\n",
       "      <th>5</th>\n",
       "      <td>nan</td>\n",
       "      <td>650</td>\n",
       "    </tr>\n",
       "  </tbody>\n",
       "</table>\n",
       "</div>"
      ],
      "text/plain": [
       "  spec_B_clean   id\n",
       "0            B    1\n",
       "1           Cg    1\n",
       "2            S    4\n",
       "3           Sq    2\n",
       "4            X    1\n",
       "5          nan  650"
      ]
     },
     "execution_count": 13,
     "metadata": {},
     "output_type": "execute_result"
    }
   ],
   "source": [
    "# Inspect spec information on df_acc\n",
    "spec_counts_acc = df_acc[['id', 'spec_B_clean']].groupby(['spec_B_clean']).count().reset_index()\n",
    "spec_counts_acc"
   ]
  },
  {
   "cell_type": "code",
   "execution_count": 14,
   "id": "59c1fb9a",
   "metadata": {
    "hidden": true
   },
   "outputs": [
    {
     "data": {
      "text/plain": [
       "659"
      ]
     },
     "execution_count": 14,
     "metadata": {},
     "output_type": "execute_result"
    }
   ],
   "source": [
    "# Counting number of asteroids that have spec info\n",
    "spec_counts_acc['id'].sum()"
   ]
  },
  {
   "cell_type": "markdown",
   "id": "89bb7d34",
   "metadata": {
    "hidden": true
   },
   "source": [
    "We only have information on spec for 9 asteroids out of the 659 we have in the accessible dataframe. Let's have a look at df_neo:"
   ]
  },
  {
   "cell_type": "code",
   "execution_count": 15,
   "id": "69be87d5",
   "metadata": {
    "hidden": true
   },
   "outputs": [
    {
     "data": {
      "text/html": [
       "<div>\n",
       "<style scoped>\n",
       "    .dataframe tbody tr th:only-of-type {\n",
       "        vertical-align: middle;\n",
       "    }\n",
       "\n",
       "    .dataframe tbody tr th {\n",
       "        vertical-align: top;\n",
       "    }\n",
       "\n",
       "    .dataframe thead th {\n",
       "        text-align: right;\n",
       "    }\n",
       "</style>\n",
       "<table border=\"1\" class=\"dataframe\">\n",
       "  <thead>\n",
       "    <tr style=\"text-align: right;\">\n",
       "      <th></th>\n",
       "      <th>spec_B_clean</th>\n",
       "      <th>id</th>\n",
       "    </tr>\n",
       "  </thead>\n",
       "  <tbody>\n",
       "    <tr>\n",
       "      <th>0</th>\n",
       "      <td>A</td>\n",
       "      <td>1</td>\n",
       "    </tr>\n",
       "    <tr>\n",
       "      <th>1</th>\n",
       "      <td>B</td>\n",
       "      <td>5</td>\n",
       "    </tr>\n",
       "    <tr>\n",
       "      <th>2</th>\n",
       "      <td>C</td>\n",
       "      <td>13</td>\n",
       "    </tr>\n",
       "    <tr>\n",
       "      <th>3</th>\n",
       "      <td>Cb</td>\n",
       "      <td>3</td>\n",
       "    </tr>\n",
       "    <tr>\n",
       "      <th>4</th>\n",
       "      <td>Cg</td>\n",
       "      <td>1</td>\n",
       "    </tr>\n",
       "    <tr>\n",
       "      <th>5</th>\n",
       "      <td>Ch</td>\n",
       "      <td>1</td>\n",
       "    </tr>\n",
       "    <tr>\n",
       "      <th>6</th>\n",
       "      <td>D</td>\n",
       "      <td>4</td>\n",
       "    </tr>\n",
       "    <tr>\n",
       "      <th>7</th>\n",
       "      <td>K</td>\n",
       "      <td>7</td>\n",
       "    </tr>\n",
       "    <tr>\n",
       "      <th>8</th>\n",
       "      <td>L</td>\n",
       "      <td>6</td>\n",
       "    </tr>\n",
       "    <tr>\n",
       "      <th>9</th>\n",
       "      <td>Ld</td>\n",
       "      <td>2</td>\n",
       "    </tr>\n",
       "    <tr>\n",
       "      <th>10</th>\n",
       "      <td>O</td>\n",
       "      <td>6</td>\n",
       "    </tr>\n",
       "    <tr>\n",
       "      <th>11</th>\n",
       "      <td>Q</td>\n",
       "      <td>18</td>\n",
       "    </tr>\n",
       "    <tr>\n",
       "      <th>12</th>\n",
       "      <td>R</td>\n",
       "      <td>1</td>\n",
       "    </tr>\n",
       "    <tr>\n",
       "      <th>13</th>\n",
       "      <td>S</td>\n",
       "      <td>77</td>\n",
       "    </tr>\n",
       "    <tr>\n",
       "      <th>14</th>\n",
       "      <td>Sa</td>\n",
       "      <td>3</td>\n",
       "    </tr>\n",
       "    <tr>\n",
       "      <th>15</th>\n",
       "      <td>Sk</td>\n",
       "      <td>13</td>\n",
       "    </tr>\n",
       "    <tr>\n",
       "      <th>16</th>\n",
       "      <td>Sl</td>\n",
       "      <td>6</td>\n",
       "    </tr>\n",
       "    <tr>\n",
       "      <th>17</th>\n",
       "      <td>Sq</td>\n",
       "      <td>63</td>\n",
       "    </tr>\n",
       "    <tr>\n",
       "      <th>18</th>\n",
       "      <td>Sr</td>\n",
       "      <td>12</td>\n",
       "    </tr>\n",
       "    <tr>\n",
       "      <th>19</th>\n",
       "      <td>T</td>\n",
       "      <td>5</td>\n",
       "    </tr>\n",
       "    <tr>\n",
       "      <th>20</th>\n",
       "      <td>U</td>\n",
       "      <td>3</td>\n",
       "    </tr>\n",
       "    <tr>\n",
       "      <th>21</th>\n",
       "      <td>V</td>\n",
       "      <td>14</td>\n",
       "    </tr>\n",
       "    <tr>\n",
       "      <th>22</th>\n",
       "      <td>X</td>\n",
       "      <td>29</td>\n",
       "    </tr>\n",
       "    <tr>\n",
       "      <th>23</th>\n",
       "      <td>Xc</td>\n",
       "      <td>7</td>\n",
       "    </tr>\n",
       "    <tr>\n",
       "      <th>24</th>\n",
       "      <td>Xe</td>\n",
       "      <td>2</td>\n",
       "    </tr>\n",
       "    <tr>\n",
       "      <th>25</th>\n",
       "      <td>Xk</td>\n",
       "      <td>8</td>\n",
       "    </tr>\n",
       "    <tr>\n",
       "      <th>26</th>\n",
       "      <td>nan</td>\n",
       "      <td>18478</td>\n",
       "    </tr>\n",
       "  </tbody>\n",
       "</table>\n",
       "</div>"
      ],
      "text/plain": [
       "   spec_B_clean     id\n",
       "0             A      1\n",
       "1             B      5\n",
       "2             C     13\n",
       "3            Cb      3\n",
       "4            Cg      1\n",
       "5            Ch      1\n",
       "6             D      4\n",
       "7             K      7\n",
       "8             L      6\n",
       "9            Ld      2\n",
       "10            O      6\n",
       "11            Q     18\n",
       "12            R      1\n",
       "13            S     77\n",
       "14           Sa      3\n",
       "15           Sk     13\n",
       "16           Sl      6\n",
       "17           Sq     63\n",
       "18           Sr     12\n",
       "19            T      5\n",
       "20            U      3\n",
       "21            V     14\n",
       "22            X     29\n",
       "23           Xc      7\n",
       "24           Xe      2\n",
       "25           Xk      8\n",
       "26          nan  18478"
      ]
     },
     "execution_count": 15,
     "metadata": {},
     "output_type": "execute_result"
    }
   ],
   "source": [
    "spec_counts_neo = df_neo[['id', 'spec_B_clean']].groupby(['spec_B_clean']).count().reset_index()\n",
    "spec_counts_neo"
   ]
  },
  {
   "cell_type": "markdown",
   "id": "54c6a2a7",
   "metadata": {
    "hidden": true
   },
   "source": [
    "Even if we have a lot of missing info, there is data to exploit to estimate the spec repartition of df_acc"
   ]
  },
  {
   "cell_type": "code",
   "execution_count": 16,
   "id": "persistent-binary",
   "metadata": {
    "hidden": true
   },
   "outputs": [],
   "source": [
    "# Delete nan from spec_counts_neo\n",
    "index_to_del = spec_counts_neo[ spec_counts_neo['spec_B_clean'] == 'nan'].index"
   ]
  },
  {
   "cell_type": "code",
   "execution_count": 17,
   "id": "supreme-reservation",
   "metadata": {
    "hidden": true
   },
   "outputs": [
    {
     "data": {
      "text/plain": [
       "Int64Index([26], dtype='int64')"
      ]
     },
     "execution_count": 17,
     "metadata": {},
     "output_type": "execute_result"
    }
   ],
   "source": [
    "index_to_del"
   ]
  },
  {
   "cell_type": "code",
   "execution_count": 18,
   "id": "green-girlfriend",
   "metadata": {
    "hidden": true
   },
   "outputs": [],
   "source": [
    "spec_counts_neo.drop(index_to_del , inplace=True)"
   ]
  },
  {
   "cell_type": "code",
   "execution_count": 19,
   "id": "acoustic-bailey",
   "metadata": {
    "hidden": true
   },
   "outputs": [],
   "source": [
    "sum_spec_neo = spec_counts_neo['id'].sum()"
   ]
  },
  {
   "cell_type": "code",
   "execution_count": 20,
   "id": "cross-floating",
   "metadata": {
    "hidden": true
   },
   "outputs": [],
   "source": [
    "# Get percentage of each spec \n",
    "spec_counts_neo['per_spec'] = spec_counts_neo['id'].apply(lambda x: x / sum_spec_neo)"
   ]
  },
  {
   "cell_type": "code",
   "execution_count": 21,
   "id": "formal-lincoln",
   "metadata": {
    "hidden": true
   },
   "outputs": [],
   "source": [
    "spec_counts_neo['cum_perc_spec'] = spec_counts_neo['per_spec'].cumsum()"
   ]
  },
  {
   "cell_type": "code",
   "execution_count": 22,
   "id": "140028bd",
   "metadata": {
    "hidden": true
   },
   "outputs": [
    {
     "data": {
      "text/html": [
       "<div>\n",
       "<style scoped>\n",
       "    .dataframe tbody tr th:only-of-type {\n",
       "        vertical-align: middle;\n",
       "    }\n",
       "\n",
       "    .dataframe tbody tr th {\n",
       "        vertical-align: top;\n",
       "    }\n",
       "\n",
       "    .dataframe thead th {\n",
       "        text-align: right;\n",
       "    }\n",
       "</style>\n",
       "<table border=\"1\" class=\"dataframe\">\n",
       "  <thead>\n",
       "    <tr style=\"text-align: right;\">\n",
       "      <th></th>\n",
       "      <th>spec_B_clean</th>\n",
       "      <th>id</th>\n",
       "      <th>per_spec</th>\n",
       "      <th>cum_perc_spec</th>\n",
       "    </tr>\n",
       "  </thead>\n",
       "  <tbody>\n",
       "    <tr>\n",
       "      <th>0</th>\n",
       "      <td>A</td>\n",
       "      <td>1</td>\n",
       "      <td>0.003226</td>\n",
       "      <td>0.003226</td>\n",
       "    </tr>\n",
       "    <tr>\n",
       "      <th>1</th>\n",
       "      <td>B</td>\n",
       "      <td>5</td>\n",
       "      <td>0.016129</td>\n",
       "      <td>0.019355</td>\n",
       "    </tr>\n",
       "    <tr>\n",
       "      <th>2</th>\n",
       "      <td>C</td>\n",
       "      <td>13</td>\n",
       "      <td>0.041935</td>\n",
       "      <td>0.061290</td>\n",
       "    </tr>\n",
       "    <tr>\n",
       "      <th>3</th>\n",
       "      <td>Cb</td>\n",
       "      <td>3</td>\n",
       "      <td>0.009677</td>\n",
       "      <td>0.070968</td>\n",
       "    </tr>\n",
       "    <tr>\n",
       "      <th>4</th>\n",
       "      <td>Cg</td>\n",
       "      <td>1</td>\n",
       "      <td>0.003226</td>\n",
       "      <td>0.074194</td>\n",
       "    </tr>\n",
       "    <tr>\n",
       "      <th>5</th>\n",
       "      <td>Ch</td>\n",
       "      <td>1</td>\n",
       "      <td>0.003226</td>\n",
       "      <td>0.077419</td>\n",
       "    </tr>\n",
       "    <tr>\n",
       "      <th>6</th>\n",
       "      <td>D</td>\n",
       "      <td>4</td>\n",
       "      <td>0.012903</td>\n",
       "      <td>0.090323</td>\n",
       "    </tr>\n",
       "    <tr>\n",
       "      <th>7</th>\n",
       "      <td>K</td>\n",
       "      <td>7</td>\n",
       "      <td>0.022581</td>\n",
       "      <td>0.112903</td>\n",
       "    </tr>\n",
       "    <tr>\n",
       "      <th>8</th>\n",
       "      <td>L</td>\n",
       "      <td>6</td>\n",
       "      <td>0.019355</td>\n",
       "      <td>0.132258</td>\n",
       "    </tr>\n",
       "    <tr>\n",
       "      <th>9</th>\n",
       "      <td>Ld</td>\n",
       "      <td>2</td>\n",
       "      <td>0.006452</td>\n",
       "      <td>0.138710</td>\n",
       "    </tr>\n",
       "    <tr>\n",
       "      <th>10</th>\n",
       "      <td>O</td>\n",
       "      <td>6</td>\n",
       "      <td>0.019355</td>\n",
       "      <td>0.158065</td>\n",
       "    </tr>\n",
       "    <tr>\n",
       "      <th>11</th>\n",
       "      <td>Q</td>\n",
       "      <td>18</td>\n",
       "      <td>0.058065</td>\n",
       "      <td>0.216129</td>\n",
       "    </tr>\n",
       "    <tr>\n",
       "      <th>12</th>\n",
       "      <td>R</td>\n",
       "      <td>1</td>\n",
       "      <td>0.003226</td>\n",
       "      <td>0.219355</td>\n",
       "    </tr>\n",
       "    <tr>\n",
       "      <th>13</th>\n",
       "      <td>S</td>\n",
       "      <td>77</td>\n",
       "      <td>0.248387</td>\n",
       "      <td>0.467742</td>\n",
       "    </tr>\n",
       "    <tr>\n",
       "      <th>14</th>\n",
       "      <td>Sa</td>\n",
       "      <td>3</td>\n",
       "      <td>0.009677</td>\n",
       "      <td>0.477419</td>\n",
       "    </tr>\n",
       "    <tr>\n",
       "      <th>15</th>\n",
       "      <td>Sk</td>\n",
       "      <td>13</td>\n",
       "      <td>0.041935</td>\n",
       "      <td>0.519355</td>\n",
       "    </tr>\n",
       "    <tr>\n",
       "      <th>16</th>\n",
       "      <td>Sl</td>\n",
       "      <td>6</td>\n",
       "      <td>0.019355</td>\n",
       "      <td>0.538710</td>\n",
       "    </tr>\n",
       "    <tr>\n",
       "      <th>17</th>\n",
       "      <td>Sq</td>\n",
       "      <td>63</td>\n",
       "      <td>0.203226</td>\n",
       "      <td>0.741935</td>\n",
       "    </tr>\n",
       "    <tr>\n",
       "      <th>18</th>\n",
       "      <td>Sr</td>\n",
       "      <td>12</td>\n",
       "      <td>0.038710</td>\n",
       "      <td>0.780645</td>\n",
       "    </tr>\n",
       "    <tr>\n",
       "      <th>19</th>\n",
       "      <td>T</td>\n",
       "      <td>5</td>\n",
       "      <td>0.016129</td>\n",
       "      <td>0.796774</td>\n",
       "    </tr>\n",
       "    <tr>\n",
       "      <th>20</th>\n",
       "      <td>U</td>\n",
       "      <td>3</td>\n",
       "      <td>0.009677</td>\n",
       "      <td>0.806452</td>\n",
       "    </tr>\n",
       "    <tr>\n",
       "      <th>21</th>\n",
       "      <td>V</td>\n",
       "      <td>14</td>\n",
       "      <td>0.045161</td>\n",
       "      <td>0.851613</td>\n",
       "    </tr>\n",
       "    <tr>\n",
       "      <th>22</th>\n",
       "      <td>X</td>\n",
       "      <td>29</td>\n",
       "      <td>0.093548</td>\n",
       "      <td>0.945161</td>\n",
       "    </tr>\n",
       "    <tr>\n",
       "      <th>23</th>\n",
       "      <td>Xc</td>\n",
       "      <td>7</td>\n",
       "      <td>0.022581</td>\n",
       "      <td>0.967742</td>\n",
       "    </tr>\n",
       "    <tr>\n",
       "      <th>24</th>\n",
       "      <td>Xe</td>\n",
       "      <td>2</td>\n",
       "      <td>0.006452</td>\n",
       "      <td>0.974194</td>\n",
       "    </tr>\n",
       "    <tr>\n",
       "      <th>25</th>\n",
       "      <td>Xk</td>\n",
       "      <td>8</td>\n",
       "      <td>0.025806</td>\n",
       "      <td>1.000000</td>\n",
       "    </tr>\n",
       "  </tbody>\n",
       "</table>\n",
       "</div>"
      ],
      "text/plain": [
       "   spec_B_clean  id  per_spec  cum_perc_spec\n",
       "0             A   1  0.003226       0.003226\n",
       "1             B   5  0.016129       0.019355\n",
       "2             C  13  0.041935       0.061290\n",
       "3            Cb   3  0.009677       0.070968\n",
       "4            Cg   1  0.003226       0.074194\n",
       "5            Ch   1  0.003226       0.077419\n",
       "6             D   4  0.012903       0.090323\n",
       "7             K   7  0.022581       0.112903\n",
       "8             L   6  0.019355       0.132258\n",
       "9            Ld   2  0.006452       0.138710\n",
       "10            O   6  0.019355       0.158065\n",
       "11            Q  18  0.058065       0.216129\n",
       "12            R   1  0.003226       0.219355\n",
       "13            S  77  0.248387       0.467742\n",
       "14           Sa   3  0.009677       0.477419\n",
       "15           Sk  13  0.041935       0.519355\n",
       "16           Sl   6  0.019355       0.538710\n",
       "17           Sq  63  0.203226       0.741935\n",
       "18           Sr  12  0.038710       0.780645\n",
       "19            T   5  0.016129       0.796774\n",
       "20            U   3  0.009677       0.806452\n",
       "21            V  14  0.045161       0.851613\n",
       "22            X  29  0.093548       0.945161\n",
       "23           Xc   7  0.022581       0.967742\n",
       "24           Xe   2  0.006452       0.974194\n",
       "25           Xk   8  0.025806       1.000000"
      ]
     },
     "execution_count": 22,
     "metadata": {},
     "output_type": "execute_result"
    }
   ],
   "source": [
    "spec_counts_neo"
   ]
  },
  {
   "cell_type": "code",
   "execution_count": null,
   "id": "b2f2d247",
   "metadata": {
    "hidden": true
   },
   "outputs": [],
   "source": []
  },
  {
   "cell_type": "code",
   "execution_count": 23,
   "id": "administrative-texture",
   "metadata": {
    "hidden": true
   },
   "outputs": [],
   "source": [
    "from random import uniform"
   ]
  },
  {
   "cell_type": "code",
   "execution_count": 24,
   "id": "moved-belly",
   "metadata": {
    "hidden": true
   },
   "outputs": [
    {
     "name": "stdout",
     "output_type": "stream",
     "text": [
      "0.9720987921871594: Xe spec\n"
     ]
    }
   ],
   "source": [
    "a = uniform(0,1)\n",
    "\n",
    "for i in range(spec_counts_neo.shape[0]):\n",
    "    if a > spec_counts_neo.loc[i, 'cum_perc_spec']:\n",
    "        continue\n",
    "    else:\n",
    "        new_spec = spec_counts_neo.loc[i, 'spec_B_clean']\n",
    "        break\n",
    "        \n",
    "print(f'{a}: {new_spec} spec')"
   ]
  },
  {
   "cell_type": "code",
   "execution_count": 25,
   "id": "93578b0b",
   "metadata": {
    "hidden": true
   },
   "outputs": [
    {
     "data": {
      "text/plain": [
       "'nan'"
      ]
     },
     "execution_count": 25,
     "metadata": {},
     "output_type": "execute_result"
    }
   ],
   "source": [
    "df_acc.loc[300, 'spec_B_clean']"
   ]
  },
  {
   "cell_type": "code",
   "execution_count": 27,
   "id": "offensive-board",
   "metadata": {
    "hidden": true
   },
   "outputs": [],
   "source": [
    "def new_spec_acc(x):\n",
    "    \n",
    "    # Check if spec is nan\n",
    "    if x == 'nan':\n",
    "    \n",
    "        a = uniform(0,1)\n",
    "\n",
    "        for i in range(spec_counts_neo.shape[0]):\n",
    "            if a > spec_counts_neo.loc[i, 'cum_perc_spec']:\n",
    "                continue\n",
    "            else:\n",
    "                new_spec = spec_counts_neo.loc[i, 'spec_B_clean']\n",
    "                break\n",
    "        return new_spec\n",
    "    \n",
    "    else:\n",
    "        return x"
   ]
  },
  {
   "cell_type": "code",
   "execution_count": 28,
   "id": "useful-repeat",
   "metadata": {
    "hidden": true
   },
   "outputs": [],
   "source": [
    "df_acc['new_spec'] = df_acc['spec_B_clean'].apply(new_spec_acc)"
   ]
  },
  {
   "cell_type": "code",
   "execution_count": 29,
   "id": "continent-philip",
   "metadata": {
    "hidden": true
   },
   "outputs": [
    {
     "data": {
      "text/plain": [
       "0       D\n",
       "1       S\n",
       "2       X\n",
       "3      Sq\n",
       "4       B\n",
       "       ..\n",
       "654     C\n",
       "655     C\n",
       "656    Sq\n",
       "657    Xk\n",
       "658     V\n",
       "Name: new_spec, Length: 659, dtype: object"
      ]
     },
     "execution_count": 29,
     "metadata": {},
     "output_type": "execute_result"
    }
   ],
   "source": [
    "# Check that each asteroid of df_acc has an estimated spec\n",
    "df_acc['new_spec']"
   ]
  },
  {
   "cell_type": "markdown",
   "id": "d3e7273b",
   "metadata": {},
   "source": [
    "### Estimate the % of resources for each asteroid according to its spec"
   ]
  },
  {
   "cell_type": "code",
   "execution_count": 30,
   "id": "5ad7271b",
   "metadata": {},
   "outputs": [
    {
     "data": {
      "text/html": [
       "<div>\n",
       "<style scoped>\n",
       "    .dataframe tbody tr th:only-of-type {\n",
       "        vertical-align: middle;\n",
       "    }\n",
       "\n",
       "    .dataframe tbody tr th {\n",
       "        vertical-align: top;\n",
       "    }\n",
       "\n",
       "    .dataframe thead th {\n",
       "        text-align: right;\n",
       "    }\n",
       "</style>\n",
       "<table border=\"1\" class=\"dataframe\">\n",
       "  <thead>\n",
       "    <tr style=\"text-align: right;\">\n",
       "      <th></th>\n",
       "      <th>id</th>\n",
       "      <th>new_spec</th>\n",
       "    </tr>\n",
       "  </thead>\n",
       "  <tbody>\n",
       "    <tr>\n",
       "      <th>0</th>\n",
       "      <td>a0003361</td>\n",
       "      <td>D</td>\n",
       "    </tr>\n",
       "    <tr>\n",
       "      <th>1</th>\n",
       "      <td>a0025143</td>\n",
       "      <td>S</td>\n",
       "    </tr>\n",
       "    <tr>\n",
       "      <th>2</th>\n",
       "      <td>a0089136</td>\n",
       "      <td>X</td>\n",
       "    </tr>\n",
       "    <tr>\n",
       "      <th>3</th>\n",
       "      <td>a0099942</td>\n",
       "      <td>Sq</td>\n",
       "    </tr>\n",
       "    <tr>\n",
       "      <th>4</th>\n",
       "      <td>a0101955</td>\n",
       "      <td>B</td>\n",
       "    </tr>\n",
       "  </tbody>\n",
       "</table>\n",
       "</div>"
      ],
      "text/plain": [
       "         id new_spec\n",
       "0  a0003361        D\n",
       "1  a0025143        S\n",
       "2  a0089136        X\n",
       "3  a0099942       Sq\n",
       "4  a0101955        B"
      ]
     },
     "execution_count": 30,
     "metadata": {},
     "output_type": "execute_result"
    }
   ],
   "source": [
    "acc_resources = df_acc[['id', 'new_spec']]\n",
    "acc_resources.head()"
   ]
  },
  {
   "cell_type": "code",
   "execution_count": 36,
   "id": "d267fc43",
   "metadata": {},
   "outputs": [
    {
     "data": {
      "text/plain": [
       "[]"
      ]
     },
     "execution_count": 36,
     "metadata": {},
     "output_type": "execute_result"
    }
   ],
   "source": [
    "# Check that all specs in acc_resources are in the dictionary keys\n",
    "missing_keys = []\n",
    "for i in list(acc_resources['new_spec'].unique()):\n",
    "    if i not in list(spec_per_resources.keys()):\n",
    "        i.append(missing_keys)\n",
    "missing_keys"
   ]
  },
  {
   "cell_type": "code",
   "execution_count": 37,
   "id": "1e09941b",
   "metadata": {},
   "outputs": [
    {
     "data": {
      "text/plain": [
       "True"
      ]
     },
     "execution_count": 37,
     "metadata": {},
     "output_type": "execute_result"
    }
   ],
   "source": [
    "'id' in acc_resources.columns"
   ]
  },
  {
   "cell_type": "code",
   "execution_count": 38,
   "id": "efe49afa",
   "metadata": {},
   "outputs": [
    {
     "name": "stderr",
     "output_type": "stream",
     "text": [
      "<ipython-input-38-52f5eba439a5>:4: SettingWithCopyWarning: \n",
      "A value is trying to be set on a copy of a slice from a DataFrame.\n",
      "Try using .loc[row_indexer,col_indexer] = value instead\n",
      "\n",
      "See the caveats in the documentation: https://pandas.pydata.org/pandas-docs/stable/user_guide/indexing.html#returning-a-view-versus-a-copy\n",
      "  acc_resources[key1] = ''\n"
     ]
    }
   ],
   "source": [
    "for key in spec_per_resources:\n",
    "    for key1 in spec_per_resources[key]:\n",
    "        if key1 not in acc_resources.columns:\n",
    "            acc_resources[key1] = ''"
   ]
  },
  {
   "cell_type": "code",
   "execution_count": 39,
   "id": "089ba792",
   "metadata": {},
   "outputs": [],
   "source": [
    "resources_list = list(acc_resources.columns)\n",
    "resources_list.remove('id')\n",
    "resources_list.remove('new_spec')"
   ]
  },
  {
   "cell_type": "code",
   "execution_count": 40,
   "id": "8d535ba9",
   "metadata": {},
   "outputs": [
    {
     "data": {
      "text/plain": [
       "['hydrogen',\n",
       " 'nitrogen',\n",
       " 'ammonia',\n",
       " 'iron',\n",
       " 'water',\n",
       " 'nickel',\n",
       " 'cobalt',\n",
       " 'magnesium silicate',\n",
       " 'iron silicate',\n",
       " 'aluminum',\n",
       " 'nickel-iron',\n",
       " 'platinum']"
      ]
     },
     "execution_count": 40,
     "metadata": {},
     "output_type": "execute_result"
    }
   ],
   "source": [
    "resources_list"
   ]
  },
  {
   "cell_type": "code",
   "execution_count": 41,
   "id": "67892a29",
   "metadata": {},
   "outputs": [],
   "source": [
    "for col in resources_list:\n",
    "    for i, row in acc_resources.iterrows():\n",
    "        if col in spec_per_resources[row['new_spec']]:\n",
    "            acc_resources.at[i,col] = spec_per_resources[row['new_spec']][col]"
   ]
  },
  {
   "cell_type": "code",
   "execution_count": 42,
   "id": "c7668604",
   "metadata": {},
   "outputs": [
    {
     "data": {
      "text/html": [
       "<div>\n",
       "<style scoped>\n",
       "    .dataframe tbody tr th:only-of-type {\n",
       "        vertical-align: middle;\n",
       "    }\n",
       "\n",
       "    .dataframe tbody tr th {\n",
       "        vertical-align: top;\n",
       "    }\n",
       "\n",
       "    .dataframe thead th {\n",
       "        text-align: right;\n",
       "    }\n",
       "</style>\n",
       "<table border=\"1\" class=\"dataframe\">\n",
       "  <thead>\n",
       "    <tr style=\"text-align: right;\">\n",
       "      <th></th>\n",
       "      <th>id</th>\n",
       "      <th>new_spec</th>\n",
       "      <th>hydrogen</th>\n",
       "      <th>nitrogen</th>\n",
       "      <th>ammonia</th>\n",
       "      <th>iron</th>\n",
       "      <th>water</th>\n",
       "      <th>nickel</th>\n",
       "      <th>cobalt</th>\n",
       "      <th>magnesium silicate</th>\n",
       "      <th>iron silicate</th>\n",
       "      <th>aluminum</th>\n",
       "      <th>nickel-iron</th>\n",
       "      <th>platinum</th>\n",
       "    </tr>\n",
       "  </thead>\n",
       "  <tbody>\n",
       "    <tr>\n",
       "      <th>0</th>\n",
       "      <td>a0003361</td>\n",
       "      <td>D</td>\n",
       "      <td></td>\n",
       "      <td></td>\n",
       "      <td></td>\n",
       "      <td></td>\n",
       "      <td>0.000023</td>\n",
       "      <td></td>\n",
       "      <td></td>\n",
       "      <td></td>\n",
       "      <td></td>\n",
       "      <td></td>\n",
       "      <td></td>\n",
       "      <td></td>\n",
       "    </tr>\n",
       "    <tr>\n",
       "      <th>1</th>\n",
       "      <td>a0025143</td>\n",
       "      <td>S</td>\n",
       "      <td></td>\n",
       "      <td></td>\n",
       "      <td></td>\n",
       "      <td></td>\n",
       "      <td></td>\n",
       "      <td></td>\n",
       "      <td></td>\n",
       "      <td>0.0</td>\n",
       "      <td>0</td>\n",
       "      <td></td>\n",
       "      <td></td>\n",
       "      <td></td>\n",
       "    </tr>\n",
       "    <tr>\n",
       "      <th>2</th>\n",
       "      <td>a0089136</td>\n",
       "      <td>X</td>\n",
       "      <td></td>\n",
       "      <td></td>\n",
       "      <td></td>\n",
       "      <td>88</td>\n",
       "      <td></td>\n",
       "      <td>10</td>\n",
       "      <td>0.5</td>\n",
       "      <td></td>\n",
       "      <td></td>\n",
       "      <td></td>\n",
       "      <td></td>\n",
       "      <td></td>\n",
       "    </tr>\n",
       "    <tr>\n",
       "      <th>3</th>\n",
       "      <td>a0099942</td>\n",
       "      <td>Sq</td>\n",
       "      <td></td>\n",
       "      <td></td>\n",
       "      <td></td>\n",
       "      <td></td>\n",
       "      <td></td>\n",
       "      <td></td>\n",
       "      <td></td>\n",
       "      <td>0.0</td>\n",
       "      <td>0</td>\n",
       "      <td></td>\n",
       "      <td></td>\n",
       "      <td></td>\n",
       "    </tr>\n",
       "    <tr>\n",
       "      <th>4</th>\n",
       "      <td>a0101955</td>\n",
       "      <td>B</td>\n",
       "      <td>0.235</td>\n",
       "      <td>0.001</td>\n",
       "      <td>0.001</td>\n",
       "      <td>10</td>\n",
       "      <td></td>\n",
       "      <td></td>\n",
       "      <td></td>\n",
       "      <td></td>\n",
       "      <td></td>\n",
       "      <td></td>\n",
       "      <td></td>\n",
       "      <td></td>\n",
       "    </tr>\n",
       "    <tr>\n",
       "      <th>...</th>\n",
       "      <td>...</td>\n",
       "      <td>...</td>\n",
       "      <td>...</td>\n",
       "      <td>...</td>\n",
       "      <td>...</td>\n",
       "      <td>...</td>\n",
       "      <td>...</td>\n",
       "      <td>...</td>\n",
       "      <td>...</td>\n",
       "      <td>...</td>\n",
       "      <td>...</td>\n",
       "      <td>...</td>\n",
       "      <td>...</td>\n",
       "      <td>...</td>\n",
       "    </tr>\n",
       "    <tr>\n",
       "      <th>654</th>\n",
       "      <td>bK18T00A</td>\n",
       "      <td>C</td>\n",
       "      <td>0.235</td>\n",
       "      <td>0.001</td>\n",
       "      <td>0.001</td>\n",
       "      <td>0.166</td>\n",
       "      <td>0.2</td>\n",
       "      <td>0.014</td>\n",
       "      <td>0.002</td>\n",
       "      <td></td>\n",
       "      <td></td>\n",
       "      <td></td>\n",
       "      <td></td>\n",
       "      <td></td>\n",
       "    </tr>\n",
       "    <tr>\n",
       "      <th>655</th>\n",
       "      <td>bK18T00R</td>\n",
       "      <td>C</td>\n",
       "      <td>0.235</td>\n",
       "      <td>0.001</td>\n",
       "      <td>0.001</td>\n",
       "      <td>0.166</td>\n",
       "      <td>0.2</td>\n",
       "      <td>0.014</td>\n",
       "      <td>0.002</td>\n",
       "      <td></td>\n",
       "      <td></td>\n",
       "      <td></td>\n",
       "      <td></td>\n",
       "      <td></td>\n",
       "    </tr>\n",
       "    <tr>\n",
       "      <th>656</th>\n",
       "      <td>bK18T01Z</td>\n",
       "      <td>Sq</td>\n",
       "      <td></td>\n",
       "      <td></td>\n",
       "      <td></td>\n",
       "      <td></td>\n",
       "      <td></td>\n",
       "      <td></td>\n",
       "      <td></td>\n",
       "      <td>0.0</td>\n",
       "      <td>0</td>\n",
       "      <td></td>\n",
       "      <td></td>\n",
       "      <td></td>\n",
       "    </tr>\n",
       "    <tr>\n",
       "      <th>657</th>\n",
       "      <td>bK18T06D</td>\n",
       "      <td>Xk</td>\n",
       "      <td></td>\n",
       "      <td></td>\n",
       "      <td></td>\n",
       "      <td>88</td>\n",
       "      <td></td>\n",
       "      <td>10</td>\n",
       "      <td>0.5</td>\n",
       "      <td></td>\n",
       "      <td></td>\n",
       "      <td></td>\n",
       "      <td></td>\n",
       "      <td></td>\n",
       "    </tr>\n",
       "    <tr>\n",
       "      <th>658</th>\n",
       "      <td>bK18U01M</td>\n",
       "      <td>V</td>\n",
       "      <td></td>\n",
       "      <td></td>\n",
       "      <td></td>\n",
       "      <td></td>\n",
       "      <td></td>\n",
       "      <td></td>\n",
       "      <td></td>\n",
       "      <td>0.0</td>\n",
       "      <td>0</td>\n",
       "      <td></td>\n",
       "      <td></td>\n",
       "      <td></td>\n",
       "    </tr>\n",
       "  </tbody>\n",
       "</table>\n",
       "<p>659 rows × 14 columns</p>\n",
       "</div>"
      ],
      "text/plain": [
       "           id new_spec hydrogen nitrogen ammonia   iron     water nickel  \\\n",
       "0    a0003361        D                                   0.000023          \n",
       "1    a0025143        S                                                     \n",
       "2    a0089136        X                               88               10   \n",
       "3    a0099942       Sq                                                     \n",
       "4    a0101955        B    0.235    0.001   0.001     10                    \n",
       "..        ...      ...      ...      ...     ...    ...       ...    ...   \n",
       "654  bK18T00A        C    0.235    0.001   0.001  0.166       0.2  0.014   \n",
       "655  bK18T00R        C    0.235    0.001   0.001  0.166       0.2  0.014   \n",
       "656  bK18T01Z       Sq                                                     \n",
       "657  bK18T06D       Xk                               88               10   \n",
       "658  bK18U01M        V                                                     \n",
       "\n",
       "    cobalt magnesium silicate iron silicate aluminum nickel-iron platinum  \n",
       "0                                                                          \n",
       "1                         0.0             0                                \n",
       "2      0.5                                                                 \n",
       "3                         0.0             0                                \n",
       "4                                                                          \n",
       "..     ...                ...           ...      ...         ...      ...  \n",
       "654  0.002                                                                 \n",
       "655  0.002                                                                 \n",
       "656                       0.0             0                                \n",
       "657    0.5                                                                 \n",
       "658                       0.0             0                                \n",
       "\n",
       "[659 rows x 14 columns]"
      ]
     },
     "execution_count": 42,
     "metadata": {},
     "output_type": "execute_result"
    }
   ],
   "source": [
    "acc_resources"
   ]
  },
  {
   "cell_type": "code",
   "execution_count": 43,
   "id": "ea711e56",
   "metadata": {},
   "outputs": [
    {
     "data": {
      "text/plain": [
       "False"
      ]
     },
     "execution_count": 43,
     "metadata": {},
     "output_type": "execute_result"
    }
   ],
   "source": [
    "'hydrogen' in spec_per_resources['A']"
   ]
  },
  {
   "cell_type": "code",
   "execution_count": 35,
   "id": "empirical-window",
   "metadata": {},
   "outputs": [],
   "source": [
    "spec_per_resources = {\n",
    "  '?': {},\n",
    "  'A': {},\n",
    "  'B': {\n",
    "    'hydrogen': 0.235,\n",
    "    'nitrogen': 0.001,\n",
    "    'ammonia': 0.001,\n",
    "    'iron': 10,\n",
    "  },\n",
    "  'C': {\n",
    "    # from Keck report at http://www.kiss.caltech.edu/study/asteroid/asteroid_final_report.pdf\n",
    "    'water': .2,\n",
    "    'iron': .166,\n",
    "    'nickel': .014,\n",
    "    'cobalt': .002,\n",
    "\n",
    "    # volatiles\n",
    "    'hydrogen': 0.235,\n",
    "    'nitrogen': 0.001,\n",
    "    'ammonia': 0.001,\n",
    "  },\n",
    "  'Ch': {\n",
    "    # from Keck report at http://www.kiss.caltech.edu/study/asteroid/asteroid_final_report.pdf\n",
    "    'water': .2,\n",
    "    'iron': .166,\n",
    "    'nickel': .014,\n",
    "    'cobalt': .002,\n",
    "\n",
    "    # volatiles\n",
    "    'hydrogen': 0.235,\n",
    "    'nitrogen': 0.001,\n",
    "    'ammonia': 0.001,\n",
    "  },\n",
    "  'Cg': {\n",
    "    # from Keck report at http://www.kiss.caltech.edu/study/asteroid/asteroid_final_report.pdf\n",
    "    'water': .2,\n",
    "    'iron': .166,\n",
    "    'nickel': .014,\n",
    "    'cobalt': .002,\n",
    "\n",
    "    # volatiles\n",
    "    'hydrogen': 0.235,\n",
    "    'nitrogen': 0.001,\n",
    "    'ammonia': 0.001,\n",
    "  },\n",
    "  'Cgh': {\n",
    "    # from Keck report at http://www.kiss.caltech.edu/study/asteroid/asteroid_final_report.pdf\n",
    "    'water': .2,\n",
    "    'iron': .166,\n",
    "    'nickel': .014,\n",
    "    'cobalt': .002,\n",
    "\n",
    "    # volatiles\n",
    "    'hydrogen': 0.235,\n",
    "    'nitrogen': 0.001,\n",
    "    'ammonia': 0.001,\n",
    "  },\n",
    "  'C': {\n",
    "    # from Keck report at http://www.kiss.caltech.edu/study/asteroid/asteroid_final_report.pdf\n",
    "    'water': .2,\n",
    "    'iron': .166,\n",
    "    'nickel': .014,\n",
    "    'cobalt': .002,\n",
    "\n",
    "    # volatiles\n",
    "    'hydrogen': 0.235,\n",
    "    'nitrogen': 0.001,\n",
    "    'ammonia': 0.001,\n",
    "  },\n",
    "  'Cb': {   # transition object between C and B\n",
    "    # from Keck report at http://www.kiss.caltech.edu/study/asteroid/asteroid_final_report.pdf\n",
    "    'water': .1,\n",
    "    'iron': .083,\n",
    "    'nickel': .007,\n",
    "    'cobalt': .001,\n",
    "\n",
    "    # volatiles\n",
    "    'hydrogen': 0.235,\n",
    "    'nitrogen': 0.001,\n",
    "    'ammonia': 0.001,\n",
    "  },\n",
    "  'D': {\n",
    "    'water': 0.000023,\n",
    "  },\n",
    "  'E': {\n",
    "\n",
    "  },\n",
    "  'K': {  # cross between S and C\n",
    "    # from Keck report at http://www.kiss.caltech.edu/study/asteroid/asteroid_final_report.pdf\n",
    "    'water': .1,\n",
    "    'iron': .083,\n",
    "    'nickel': .007,\n",
    "    'cobalt': .001,\n",
    "\n",
    "    # volatiles\n",
    "    'hydrogen': 0.235,\n",
    "    'nitrogen': 0.001,\n",
    "    'ammonia': 0.001,\n",
    "  },\n",
    "  'L': {\n",
    "    'magnesium silicate': 1e-30,\n",
    "    'iron silicate': 0,\n",
    "    'aluminum': 7\n",
    "  },\n",
    "  'Ld': {  # copied from S\n",
    "    'magnesium silicate': 1e-30,\n",
    "    'iron silicate': 0,\n",
    "  },\n",
    "  'M': {\n",
    "    'iron': 88,\n",
    "    'nickel': 10,\n",
    "    'cobalt': 0.5,\n",
    "  },\n",
    "  'O': {\n",
    "    'nickel-iron': 2.965,\n",
    "    'platinum': 1.25,\n",
    "  },\n",
    "  'P': {  # correspond to CI, CM carbonaceous chondrites\n",
    "    'water': 12.5,\n",
    "  },\n",
    "  'R': {\n",
    "    'magnesium silicate': 1e-30,\n",
    "    'iron silicate': 0,\n",
    "  },\n",
    "  'S': {\n",
    "    'magnesium silicate': 1e-30,\n",
    "    'iron silicate': 0,\n",
    "  },\n",
    "  # Sa, Sq, Sr, Sk, and Sl all transition objects (assume half/half)\n",
    "  'Sa': {\n",
    "    'magnesium silicate': 5e-31,\n",
    "    'iron silicate': 0,\n",
    "  },\n",
    "  'Sq': {\n",
    "    'magnesium silicate': 1e-30,\n",
    "    'iron silicate': 0,\n",
    "  },\n",
    "  'Sr': {\n",
    "    'magnesium silicate': 1e-30,\n",
    "    'iron silicate': 0,\n",
    "  },\n",
    "  'Sk': {\n",
    "    'magnesium silicate': 1e-30,\n",
    "    'iron silicate': 0,\n",
    "  },\n",
    "  'Sl': {\n",
    "    'magnesium silicate': 1e-30,\n",
    "    'iron silicate': 0,\n",
    "  },\n",
    "  'S(IV)': {\n",
    "    'magnesium silicate': 1e-30,\n",
    "    'iron silicate': 0,\n",
    "  },\n",
    "  'Q': {\n",
    "    'nickel-iron': 13.315,\n",
    "  },\n",
    "  'R': {\n",
    "    'magnesium silicate': 1e-30,\n",
    "    'iron silicate': 0,\n",
    "  },\n",
    "  'T': {\n",
    "    'iron': 6,\n",
    "  },\n",
    "  'U': {\n",
    "\n",
    "  },\n",
    "  'V': {\n",
    "    'magnesium silicate': 1e-30,\n",
    "    'iron silicate': 0,\n",
    "  },\n",
    "\n",
    "  # TODO use density to decide what kind of X the object is?\n",
    "\n",
    "  'X': {  # TODO these vals only apply to M-type within X\n",
    "    'iron': 88,\n",
    "    'nickel': 10,\n",
    "    'cobalt': 0.5,\n",
    "  },\n",
    "  'Xe': {  # TODO these vals only apply to M-type within X\n",
    "    'iron': 88,\n",
    "    'nickel': 10,\n",
    "    'cobalt': 0.5,\n",
    "  },\n",
    "  'Xc': {  # TODO these vals only apply to M-type within X\n",
    "    'iron': 88,\n",
    "    'nickel': 10,\n",
    "    'cobalt': 0.5,\n",
    "    'platinum': 0.005,\n",
    "  },\n",
    "  'Xk': {  # TODO these vals only apply to M-type within X\n",
    "    'iron': 88,\n",
    "    'nickel': 10,\n",
    "    'cobalt': 0.5,\n",
    "  },\n",
    "  'comet': {\n",
    "      # no estimates for now, because assumed mass, etc. would be off\n",
    "  },\n",
    "}"
   ]
  },
  {
   "cell_type": "markdown",
   "id": "7e480268",
   "metadata": {},
   "source": [
    "## Get the mass of each asteroid"
   ]
  },
  {
   "cell_type": "markdown",
   "id": "aef3e2ec",
   "metadata": {
    "heading_collapsed": true
   },
   "source": [
    "### Get the diameter"
   ]
  },
  {
   "cell_type": "code",
   "execution_count": 47,
   "id": "6cd8005c",
   "metadata": {
    "hidden": true
   },
   "outputs": [
    {
     "data": {
      "text/plain": [
       "(659, 88)"
      ]
     },
     "execution_count": 47,
     "metadata": {},
     "output_type": "execute_result"
    }
   ],
   "source": [
    "df_acc[~df_acc['Estimated Diameter (m)'].isnull()].shape"
   ]
  },
  {
   "cell_type": "code",
   "execution_count": 59,
   "id": "a43fbc59",
   "metadata": {
    "hidden": true
   },
   "outputs": [],
   "source": [
    "def clean_diameter_acc(x):\n",
    "    items = x.split('-')\n",
    "    \n",
    "    items_new = []\n",
    "    for i in items:\n",
    "        items_new.append(int(i.strip()))\n",
    "    \n",
    "    return sum(items_new) / len(items_new) / 1000"
   ]
  },
  {
   "cell_type": "code",
   "execution_count": 60,
   "id": "a37c0276",
   "metadata": {
    "hidden": true
   },
   "outputs": [],
   "source": [
    "df_acc['diameter_clean'] = df_acc['Estimated Diameter (m)'].apply(clean_diameter_acc)"
   ]
  },
  {
   "cell_type": "code",
   "execution_count": 61,
   "id": "45e20f71",
   "metadata": {
    "hidden": true
   },
   "outputs": [
    {
     "data": {
      "text/html": [
       "<div>\n",
       "<style scoped>\n",
       "    .dataframe tbody tr th:only-of-type {\n",
       "        vertical-align: middle;\n",
       "    }\n",
       "\n",
       "    .dataframe tbody tr th {\n",
       "        vertical-align: top;\n",
       "    }\n",
       "\n",
       "    .dataframe thead th {\n",
       "        text-align: right;\n",
       "    }\n",
       "</style>\n",
       "<table border=\"1\" class=\"dataframe\">\n",
       "  <thead>\n",
       "    <tr style=\"text-align: right;\">\n",
       "      <th></th>\n",
       "      <th>Estimated Diameter (m)</th>\n",
       "      <th>diameter_clean</th>\n",
       "    </tr>\n",
       "  </thead>\n",
       "  <tbody>\n",
       "    <tr>\n",
       "      <th>0</th>\n",
       "      <td>272 - 1216</td>\n",
       "      <td>0.7440</td>\n",
       "    </tr>\n",
       "    <tr>\n",
       "      <th>1</th>\n",
       "      <td>282 - 1262</td>\n",
       "      <td>0.7720</td>\n",
       "    </tr>\n",
       "    <tr>\n",
       "      <th>2</th>\n",
       "      <td>159 - 709</td>\n",
       "      <td>0.4340</td>\n",
       "    </tr>\n",
       "    <tr>\n",
       "      <th>3</th>\n",
       "      <td>200 - 893</td>\n",
       "      <td>0.5465</td>\n",
       "    </tr>\n",
       "    <tr>\n",
       "      <th>4</th>\n",
       "      <td>159 - 713</td>\n",
       "      <td>0.4360</td>\n",
       "    </tr>\n",
       "    <tr>\n",
       "      <th>...</th>\n",
       "      <td>...</td>\n",
       "      <td>...</td>\n",
       "    </tr>\n",
       "    <tr>\n",
       "      <th>654</th>\n",
       "      <td>19 - 85</td>\n",
       "      <td>0.0520</td>\n",
       "    </tr>\n",
       "    <tr>\n",
       "      <th>655</th>\n",
       "      <td>14 - 62</td>\n",
       "      <td>0.0380</td>\n",
       "    </tr>\n",
       "    <tr>\n",
       "      <th>656</th>\n",
       "      <td>17 - 78</td>\n",
       "      <td>0.0475</td>\n",
       "    </tr>\n",
       "    <tr>\n",
       "      <th>657</th>\n",
       "      <td>18 - 81</td>\n",
       "      <td>0.0495</td>\n",
       "    </tr>\n",
       "    <tr>\n",
       "      <th>658</th>\n",
       "      <td>33 - 148</td>\n",
       "      <td>0.0905</td>\n",
       "    </tr>\n",
       "  </tbody>\n",
       "</table>\n",
       "<p>659 rows × 2 columns</p>\n",
       "</div>"
      ],
      "text/plain": [
       "    Estimated Diameter (m)  diameter_clean\n",
       "0               272 - 1216          0.7440\n",
       "1               282 - 1262          0.7720\n",
       "2                159 - 709          0.4340\n",
       "3                200 - 893          0.5465\n",
       "4                159 - 713          0.4360\n",
       "..                     ...             ...\n",
       "654                19 - 85          0.0520\n",
       "655                14 - 62          0.0380\n",
       "656                17 - 78          0.0475\n",
       "657                18 - 81          0.0495\n",
       "658               33 - 148          0.0905\n",
       "\n",
       "[659 rows x 2 columns]"
      ]
     },
     "execution_count": 61,
     "metadata": {},
     "output_type": "execute_result"
    }
   ],
   "source": [
    "df_acc[['Estimated Diameter (m)', 'diameter_clean']]"
   ]
  },
  {
   "cell_type": "markdown",
   "id": "67ad6767",
   "metadata": {
    "heading_collapsed": true
   },
   "source": [
    "### Get the volume based on diameter"
   ]
  },
  {
   "cell_type": "code",
   "execution_count": 62,
   "id": "576ea645",
   "metadata": {
    "hidden": true
   },
   "outputs": [],
   "source": [
    "df_acc['est_volume'] = 4/3 * math.pi * ((df_acc['diameter_clean'] / 2) ** 3)"
   ]
  },
  {
   "cell_type": "code",
   "execution_count": 76,
   "id": "298fc8c3",
   "metadata": {
    "hidden": true
   },
   "outputs": [
    {
     "data": {
      "text/html": [
       "<div>\n",
       "<style scoped>\n",
       "    .dataframe tbody tr th:only-of-type {\n",
       "        vertical-align: middle;\n",
       "    }\n",
       "\n",
       "    .dataframe tbody tr th {\n",
       "        vertical-align: top;\n",
       "    }\n",
       "\n",
       "    .dataframe thead th {\n",
       "        text-align: right;\n",
       "    }\n",
       "</style>\n",
       "<table border=\"1\" class=\"dataframe\">\n",
       "  <thead>\n",
       "    <tr style=\"text-align: right;\">\n",
       "      <th></th>\n",
       "      <th>Unnamed: 0</th>\n",
       "      <th>id</th>\n",
       "      <th>spkid</th>\n",
       "      <th>full_name</th>\n",
       "      <th>pdes</th>\n",
       "      <th>name</th>\n",
       "      <th>prefix</th>\n",
       "      <th>neo</th>\n",
       "      <th>pha</th>\n",
       "      <th>H</th>\n",
       "      <th>...</th>\n",
       "      <th>Min. Duration [delta-V, dur.] (km/s), (d)</th>\n",
       "      <th>Viable Trajectories</th>\n",
       "      <th>Next Optical Opportunity (yyyy-mm [Vp])</th>\n",
       "      <th>Next Goldstone Radar Opportunity (yyyy-mm [SNR])</th>\n",
       "      <th>spec_B_clean</th>\n",
       "      <th>new_spec</th>\n",
       "      <th>diameter_clean</th>\n",
       "      <th>est_volume</th>\n",
       "      <th>est_density</th>\n",
       "      <th>est_mass</th>\n",
       "    </tr>\n",
       "  </thead>\n",
       "  <tbody>\n",
       "  </tbody>\n",
       "</table>\n",
       "<p>0 rows × 92 columns</p>\n",
       "</div>"
      ],
      "text/plain": [
       "Empty DataFrame\n",
       "Columns: [Unnamed: 0, id, spkid, full_name, pdes, name, prefix, neo, pha, H, G, M1, M2, K1, K2, PC, diameter, extent, albedo, rot_per, GM, BV, UB, IR, spec_B, spec_T, H_sigma, diameter_sigma, orbit_id, epoch, epoch_mjd, epoch_cal, equinox, e, a, q, i, om, w, ma, ad, n, tp, tp_cal, per, per_y, moid, moid_ld, moid_jup, t_jup, sigma_e, sigma_a, sigma_q, sigma_i, sigma_om, sigma_w, sigma_ma, sigma_ad, sigma_n, sigma_tp, sigma_per, class, producer, data_arc, first_obs, last_obs, n_obs_used, n_del_obs_used, n_dop_obs_used, condition_code, rms, two_body, A1, A2, A3, DT, Object, Orbit ID, H (mag), Estimated Diameter (m), OCC, Min. delta-V [delta-V, dur.] (km/s), (d), Min. Duration [delta-V, dur.] (km/s), (d), Viable Trajectories, Next Optical Opportunity (yyyy-mm [Vp]), Next Goldstone Radar Opportunity (yyyy-mm [SNR]), spec_B_clean, new_spec, diameter_clean, est_volume, est_density, est_mass]\n",
       "Index: []\n",
       "\n",
       "[0 rows x 92 columns]"
      ]
     },
     "execution_count": 76,
     "metadata": {},
     "output_type": "execute_result"
    }
   ],
   "source": [
    "df_acc[df_acc['est_volume'] < 0]"
   ]
  },
  {
   "cell_type": "markdown",
   "id": "c3f3c8ea",
   "metadata": {
    "heading_collapsed": true
   },
   "source": [
    "### Get the density"
   ]
  },
  {
   "cell_type": "code",
   "execution_count": 55,
   "id": "b465f57a",
   "metadata": {
    "hidden": true
   },
   "outputs": [],
   "source": [
    "TYPE_DENSITY_MAP = {\n",
    "  'C': 1.38,\n",
    "  'D': 1.38,\n",
    "  'P': 1.38,\n",
    "  'T': 1.38,\n",
    "  'B': 1.38,\n",
    "  'G': 1.38,\n",
    "  'F': 1.38,\n",
    "  'S': 2.71,\n",
    "  'K': 2.71,\n",
    "  'Q': 2.71,\n",
    "  'V': 2.71,\n",
    "  'R': 2.71,\n",
    "  'A': 2.71,\n",
    "  'M': 5.32,\n",
    "}"
   ]
  },
  {
   "cell_type": "code",
   "execution_count": 58,
   "id": "d932d15f",
   "metadata": {
    "hidden": true
   },
   "outputs": [],
   "source": [
    "tholen_smasii_map = {'A':'A', \n",
    "                     'B':'B', \n",
    "                     'C':'C', \n",
    "                     'Ch':'C', \n",
    "                     'Cg':'C', \n",
    "                     'Cgh':'C', \n",
    "                     'Cb':'C', \n",
    "                     'D':'D', \n",
    "                     'E':'M', \n",
    "                     'K':'P', \n",
    "                     'L':'A', \n",
    "                     'Ld':'A', \n",
    "                     'M':'M', \n",
    "                     'O':'P', \n",
    "                     'P':'P', \n",
    "                     'R':'R', \n",
    "                     'S':'S', \n",
    "                     'Sa':'S', \n",
    "                     'Sq':'S', \n",
    "                     'Sr':'S', \n",
    "                     'Sk':'S', \n",
    "                     'Sl':'S', \n",
    "                     'S(IV)':'S', \n",
    "                     'Q':'Q', \n",
    "                     'T':'T', \n",
    "                     'U':'S', \n",
    "                     'V':'V', \n",
    "                     'X':'M', \n",
    "                     'Xe':'M', \n",
    "                     'Xc':'M', \n",
    "                     'Xk':'M'}"
   ]
  },
  {
   "cell_type": "code",
   "execution_count": 64,
   "id": "93b3f22d",
   "metadata": {
    "hidden": true
   },
   "outputs": [],
   "source": [
    "def get_density(x):\n",
    "    general_spec = tholen_smasii_map[x]\n",
    "    return TYPE_DENSITY_MAP[general_spec]"
   ]
  },
  {
   "cell_type": "code",
   "execution_count": 66,
   "id": "162ac469",
   "metadata": {
    "hidden": true
   },
   "outputs": [
    {
     "data": {
      "text/plain": [
       "1.38"
      ]
     },
     "execution_count": 66,
     "metadata": {},
     "output_type": "execute_result"
    }
   ],
   "source": [
    "get_density(test)"
   ]
  },
  {
   "cell_type": "code",
   "execution_count": 65,
   "id": "2586a247",
   "metadata": {
    "hidden": true
   },
   "outputs": [],
   "source": [
    "test='D'"
   ]
  },
  {
   "cell_type": "code",
   "execution_count": 67,
   "id": "603d9727",
   "metadata": {
    "hidden": true
   },
   "outputs": [],
   "source": [
    "df_acc['est_density'] = df_acc['new_spec'].apply(get_density)"
   ]
  },
  {
   "cell_type": "markdown",
   "id": "6e2efaf3",
   "metadata": {
    "heading_collapsed": true
   },
   "source": [
    "### Calculate mass"
   ]
  },
  {
   "cell_type": "code",
   "execution_count": 77,
   "id": "03beac86",
   "metadata": {
    "hidden": true
   },
   "outputs": [],
   "source": [
    "df_acc['est_mass'] = ''\n",
    "\n",
    "for i, row in df_acc.iterrows():\n",
    "    mass = row['est_volume'] * row['est_density'] / 6 * 1e15\n",
    "    \n",
    "    # Add some random factor\n",
    "    mass = mass + (random.random() - .5) * 1e9\n",
    "    \n",
    "    if mass > 1e18:\n",
    "      # if it's huge, penalize it because the surface will be covered in ejecta, etc.\n",
    "      # and the goodies will be far beneath. Also, gravity well.\n",
    "        mass = mass * 1e-6\n",
    "    \n",
    "    df_acc.at[i,\"est_mass\"] = mass"
   ]
  },
  {
   "cell_type": "code",
   "execution_count": 78,
   "id": "3dd86cd3",
   "metadata": {
    "hidden": true
   },
   "outputs": [
    {
     "data": {
      "text/plain": [
       "3320546333.0406556"
      ]
     },
     "execution_count": 78,
     "metadata": {},
     "output_type": "execute_result"
    }
   ],
   "source": [
    "df_acc['est_mass'].mean() / 1_000"
   ]
  },
  {
   "cell_type": "code",
   "execution_count": null,
   "id": "38374ee8",
   "metadata": {
    "hidden": true
   },
   "outputs": [],
   "source": []
  },
  {
   "cell_type": "code",
   "execution_count": null,
   "id": "15887cba",
   "metadata": {
    "hidden": true
   },
   "outputs": [],
   "source": []
  },
  {
   "cell_type": "markdown",
   "id": "2a20856c",
   "metadata": {},
   "source": [
    "## Estimate resources for each asteroid in kg"
   ]
  },
  {
   "cell_type": "code",
   "execution_count": 79,
   "id": "355fc18b",
   "metadata": {},
   "outputs": [
    {
     "data": {
      "text/html": [
       "<div>\n",
       "<style scoped>\n",
       "    .dataframe tbody tr th:only-of-type {\n",
       "        vertical-align: middle;\n",
       "    }\n",
       "\n",
       "    .dataframe tbody tr th {\n",
       "        vertical-align: top;\n",
       "    }\n",
       "\n",
       "    .dataframe thead th {\n",
       "        text-align: right;\n",
       "    }\n",
       "</style>\n",
       "<table border=\"1\" class=\"dataframe\">\n",
       "  <thead>\n",
       "    <tr style=\"text-align: right;\">\n",
       "      <th></th>\n",
       "      <th>id</th>\n",
       "      <th>est_mass</th>\n",
       "    </tr>\n",
       "  </thead>\n",
       "  <tbody>\n",
       "    <tr>\n",
       "      <th>0</th>\n",
       "      <td>a0003361</td>\n",
       "      <td>49595612027735.398438</td>\n",
       "    </tr>\n",
       "    <tr>\n",
       "      <th>1</th>\n",
       "      <td>a0025143</td>\n",
       "      <td>108810416410242.265625</td>\n",
       "    </tr>\n",
       "    <tr>\n",
       "      <th>2</th>\n",
       "      <td>a0089136</td>\n",
       "      <td>37951644987524.695312</td>\n",
       "    </tr>\n",
       "    <tr>\n",
       "      <th>3</th>\n",
       "      <td>a0099942</td>\n",
       "      <td>38600070973521.125</td>\n",
       "    </tr>\n",
       "    <tr>\n",
       "      <th>4</th>\n",
       "      <td>a0101955</td>\n",
       "      <td>9981552306757.832031</td>\n",
       "    </tr>\n",
       "    <tr>\n",
       "      <th>...</th>\n",
       "      <td>...</td>\n",
       "      <td>...</td>\n",
       "    </tr>\n",
       "    <tr>\n",
       "      <th>654</th>\n",
       "      <td>bK18T00A</td>\n",
       "      <td>17117091638.995247</td>\n",
       "    </tr>\n",
       "    <tr>\n",
       "      <th>655</th>\n",
       "      <td>bK18T00R</td>\n",
       "      <td>6669136629.941043</td>\n",
       "    </tr>\n",
       "    <tr>\n",
       "      <th>656</th>\n",
       "      <td>bK18T01Z</td>\n",
       "      <td>24909637809.617058</td>\n",
       "    </tr>\n",
       "    <tr>\n",
       "      <th>657</th>\n",
       "      <td>bK18T06D</td>\n",
       "      <td>56401330942.584282</td>\n",
       "    </tr>\n",
       "    <tr>\n",
       "      <th>658</th>\n",
       "      <td>bK18U01M</td>\n",
       "      <td>174885071868.56192</td>\n",
       "    </tr>\n",
       "  </tbody>\n",
       "</table>\n",
       "<p>659 rows × 2 columns</p>\n",
       "</div>"
      ],
      "text/plain": [
       "           id                est_mass\n",
       "0    a0003361   49595612027735.398438\n",
       "1    a0025143  108810416410242.265625\n",
       "2    a0089136   37951644987524.695312\n",
       "3    a0099942      38600070973521.125\n",
       "4    a0101955    9981552306757.832031\n",
       "..        ...                     ...\n",
       "654  bK18T00A      17117091638.995247\n",
       "655  bK18T00R       6669136629.941043\n",
       "656  bK18T01Z      24909637809.617058\n",
       "657  bK18T06D      56401330942.584282\n",
       "658  bK18U01M      174885071868.56192\n",
       "\n",
       "[659 rows x 2 columns]"
      ]
     },
     "execution_count": 79,
     "metadata": {},
     "output_type": "execute_result"
    }
   ],
   "source": [
    "df_acc[['id', 'est_mass']]"
   ]
  },
  {
   "cell_type": "code",
   "execution_count": 92,
   "id": "52ce97f7",
   "metadata": {},
   "outputs": [],
   "source": [
    "acc_total_resources = pd.merge(acc_resources, df_acc[['id', 'est_mass']], on='id', how='inner')"
   ]
  },
  {
   "cell_type": "code",
   "execution_count": 93,
   "id": "1a41a01b",
   "metadata": {},
   "outputs": [
    {
     "data": {
      "text/html": [
       "<div>\n",
       "<style scoped>\n",
       "    .dataframe tbody tr th:only-of-type {\n",
       "        vertical-align: middle;\n",
       "    }\n",
       "\n",
       "    .dataframe tbody tr th {\n",
       "        vertical-align: top;\n",
       "    }\n",
       "\n",
       "    .dataframe thead th {\n",
       "        text-align: right;\n",
       "    }\n",
       "</style>\n",
       "<table border=\"1\" class=\"dataframe\">\n",
       "  <thead>\n",
       "    <tr style=\"text-align: right;\">\n",
       "      <th></th>\n",
       "      <th>id</th>\n",
       "      <th>new_spec</th>\n",
       "      <th>hydrogen</th>\n",
       "      <th>nitrogen</th>\n",
       "      <th>ammonia</th>\n",
       "      <th>iron</th>\n",
       "      <th>water</th>\n",
       "      <th>nickel</th>\n",
       "      <th>cobalt</th>\n",
       "      <th>magnesium silicate</th>\n",
       "      <th>iron silicate</th>\n",
       "      <th>aluminum</th>\n",
       "      <th>nickel-iron</th>\n",
       "      <th>platinum</th>\n",
       "      <th>est_mass</th>\n",
       "    </tr>\n",
       "  </thead>\n",
       "  <tbody>\n",
       "    <tr>\n",
       "      <th>0</th>\n",
       "      <td>a0003361</td>\n",
       "      <td>D</td>\n",
       "      <td></td>\n",
       "      <td></td>\n",
       "      <td></td>\n",
       "      <td></td>\n",
       "      <td>0.000023</td>\n",
       "      <td></td>\n",
       "      <td></td>\n",
       "      <td></td>\n",
       "      <td></td>\n",
       "      <td></td>\n",
       "      <td></td>\n",
       "      <td></td>\n",
       "      <td>49595612027735.398438</td>\n",
       "    </tr>\n",
       "    <tr>\n",
       "      <th>1</th>\n",
       "      <td>a0025143</td>\n",
       "      <td>S</td>\n",
       "      <td></td>\n",
       "      <td></td>\n",
       "      <td></td>\n",
       "      <td></td>\n",
       "      <td></td>\n",
       "      <td></td>\n",
       "      <td></td>\n",
       "      <td>0.0</td>\n",
       "      <td>0</td>\n",
       "      <td></td>\n",
       "      <td></td>\n",
       "      <td></td>\n",
       "      <td>108810416410242.265625</td>\n",
       "    </tr>\n",
       "    <tr>\n",
       "      <th>2</th>\n",
       "      <td>a0089136</td>\n",
       "      <td>X</td>\n",
       "      <td></td>\n",
       "      <td></td>\n",
       "      <td></td>\n",
       "      <td>88</td>\n",
       "      <td></td>\n",
       "      <td>10</td>\n",
       "      <td>0.5</td>\n",
       "      <td></td>\n",
       "      <td></td>\n",
       "      <td></td>\n",
       "      <td></td>\n",
       "      <td></td>\n",
       "      <td>37951644987524.695312</td>\n",
       "    </tr>\n",
       "    <tr>\n",
       "      <th>3</th>\n",
       "      <td>a0099942</td>\n",
       "      <td>Sq</td>\n",
       "      <td></td>\n",
       "      <td></td>\n",
       "      <td></td>\n",
       "      <td></td>\n",
       "      <td></td>\n",
       "      <td></td>\n",
       "      <td></td>\n",
       "      <td>0.0</td>\n",
       "      <td>0</td>\n",
       "      <td></td>\n",
       "      <td></td>\n",
       "      <td></td>\n",
       "      <td>38600070973521.125</td>\n",
       "    </tr>\n",
       "    <tr>\n",
       "      <th>4</th>\n",
       "      <td>a0101955</td>\n",
       "      <td>B</td>\n",
       "      <td>0.235</td>\n",
       "      <td>0.001</td>\n",
       "      <td>0.001</td>\n",
       "      <td>10</td>\n",
       "      <td></td>\n",
       "      <td></td>\n",
       "      <td></td>\n",
       "      <td></td>\n",
       "      <td></td>\n",
       "      <td></td>\n",
       "      <td></td>\n",
       "      <td></td>\n",
       "      <td>9981552306757.832031</td>\n",
       "    </tr>\n",
       "  </tbody>\n",
       "</table>\n",
       "</div>"
      ],
      "text/plain": [
       "         id new_spec hydrogen nitrogen ammonia iron     water nickel cobalt  \\\n",
       "0  a0003361        D                                 0.000023                 \n",
       "1  a0025143        S                                                          \n",
       "2  a0089136        X                             88               10    0.5   \n",
       "3  a0099942       Sq                                                          \n",
       "4  a0101955        B    0.235    0.001   0.001   10                           \n",
       "\n",
       "  magnesium silicate iron silicate aluminum nickel-iron platinum  \\\n",
       "0                                                                  \n",
       "1                0.0             0                                 \n",
       "2                                                                  \n",
       "3                0.0             0                                 \n",
       "4                                                                  \n",
       "\n",
       "                 est_mass  \n",
       "0   49595612027735.398438  \n",
       "1  108810416410242.265625  \n",
       "2   37951644987524.695312  \n",
       "3      38600070973521.125  \n",
       "4    9981552306757.832031  "
      ]
     },
     "execution_count": 93,
     "metadata": {},
     "output_type": "execute_result"
    }
   ],
   "source": [
    "acc_total_resources.head()"
   ]
  },
  {
   "cell_type": "code",
   "execution_count": 97,
   "id": "9f8c447f",
   "metadata": {},
   "outputs": [
    {
     "data": {
      "text/plain": [
       "True"
      ]
     },
     "execution_count": 97,
     "metadata": {},
     "output_type": "execute_result"
    }
   ],
   "source": [
    "acc_total_resources.loc[3, 'cobalt'] == ''"
   ]
  },
  {
   "cell_type": "code",
   "execution_count": 99,
   "id": "1bf0b940",
   "metadata": {},
   "outputs": [],
   "source": [
    "for i in resources_list:\n",
    "    acc_total_resources[i] = acc_total_resources[i].apply(lambda x: 0 if x == '' else x)\n",
    "    acc_total_resources[f'{i}_kg'] = acc_total_resources[i] * acc_total_resources['est_mass']"
   ]
  },
  {
   "cell_type": "code",
   "execution_count": 101,
   "id": "f991d274",
   "metadata": {},
   "outputs": [
    {
     "data": {
      "text/plain": [
       "10769490695729.576"
      ]
     },
     "execution_count": 101,
     "metadata": {},
     "output_type": "execute_result"
    }
   ],
   "source": [
    "acc_total_resources['water_kg'].sum()"
   ]
  },
  {
   "cell_type": "code",
   "execution_count": 102,
   "id": "9db43b9f",
   "metadata": {},
   "outputs": [],
   "source": [
    "acc_total_resources = acc_total_resources.drop(columns=resources_list)"
   ]
  },
  {
   "cell_type": "code",
   "execution_count": 103,
   "id": "a9be3fdc",
   "metadata": {},
   "outputs": [
    {
     "data": {
      "text/html": [
       "<div>\n",
       "<style scoped>\n",
       "    .dataframe tbody tr th:only-of-type {\n",
       "        vertical-align: middle;\n",
       "    }\n",
       "\n",
       "    .dataframe tbody tr th {\n",
       "        vertical-align: top;\n",
       "    }\n",
       "\n",
       "    .dataframe thead th {\n",
       "        text-align: right;\n",
       "    }\n",
       "</style>\n",
       "<table border=\"1\" class=\"dataframe\">\n",
       "  <thead>\n",
       "    <tr style=\"text-align: right;\">\n",
       "      <th></th>\n",
       "      <th>id</th>\n",
       "      <th>new_spec</th>\n",
       "      <th>est_mass</th>\n",
       "      <th>hydrogen_kg</th>\n",
       "      <th>nitrogen_kg</th>\n",
       "      <th>ammonia_kg</th>\n",
       "      <th>iron_kg</th>\n",
       "      <th>water_kg</th>\n",
       "      <th>nickel_kg</th>\n",
       "      <th>cobalt_kg</th>\n",
       "      <th>magnesium silicate_kg</th>\n",
       "      <th>iron silicate_kg</th>\n",
       "      <th>aluminum_kg</th>\n",
       "      <th>nickel-iron_kg</th>\n",
       "      <th>platinum_kg</th>\n",
       "    </tr>\n",
       "  </thead>\n",
       "  <tbody>\n",
       "    <tr>\n",
       "      <th>0</th>\n",
       "      <td>a0003361</td>\n",
       "      <td>D</td>\n",
       "      <td>49595612027735.398438</td>\n",
       "      <td>0.0</td>\n",
       "      <td>0.0</td>\n",
       "      <td>0.0</td>\n",
       "      <td>0.0</td>\n",
       "      <td>1140699076.637914</td>\n",
       "      <td>0.0</td>\n",
       "      <td>0.0</td>\n",
       "      <td>0.0</td>\n",
       "      <td>0.0</td>\n",
       "      <td>0.0</td>\n",
       "      <td>0.0</td>\n",
       "      <td>0.0</td>\n",
       "    </tr>\n",
       "    <tr>\n",
       "      <th>1</th>\n",
       "      <td>a0025143</td>\n",
       "      <td>S</td>\n",
       "      <td>108810416410242.265625</td>\n",
       "      <td>0.0</td>\n",
       "      <td>0.0</td>\n",
       "      <td>0.0</td>\n",
       "      <td>0.0</td>\n",
       "      <td>0.0</td>\n",
       "      <td>0.0</td>\n",
       "      <td>0.0</td>\n",
       "      <td>0.0</td>\n",
       "      <td>0.0</td>\n",
       "      <td>0.0</td>\n",
       "      <td>0.0</td>\n",
       "      <td>0.0</td>\n",
       "    </tr>\n",
       "    <tr>\n",
       "      <th>2</th>\n",
       "      <td>a0089136</td>\n",
       "      <td>X</td>\n",
       "      <td>37951644987524.695312</td>\n",
       "      <td>0.0</td>\n",
       "      <td>0.0</td>\n",
       "      <td>0.0</td>\n",
       "      <td>3339744758902173.0</td>\n",
       "      <td>0.0</td>\n",
       "      <td>379516449875246.9375</td>\n",
       "      <td>18975822493762.347656</td>\n",
       "      <td>0.0</td>\n",
       "      <td>0.0</td>\n",
       "      <td>0.0</td>\n",
       "      <td>0.0</td>\n",
       "      <td>0.0</td>\n",
       "    </tr>\n",
       "    <tr>\n",
       "      <th>3</th>\n",
       "      <td>a0099942</td>\n",
       "      <td>Sq</td>\n",
       "      <td>38600070973521.125</td>\n",
       "      <td>0.0</td>\n",
       "      <td>0.0</td>\n",
       "      <td>0.0</td>\n",
       "      <td>0.0</td>\n",
       "      <td>0.0</td>\n",
       "      <td>0.0</td>\n",
       "      <td>0.0</td>\n",
       "      <td>0.0</td>\n",
       "      <td>0.0</td>\n",
       "      <td>0.0</td>\n",
       "      <td>0.0</td>\n",
       "      <td>0.0</td>\n",
       "    </tr>\n",
       "    <tr>\n",
       "      <th>4</th>\n",
       "      <td>a0101955</td>\n",
       "      <td>B</td>\n",
       "      <td>9981552306757.832031</td>\n",
       "      <td>2345664792088.090332</td>\n",
       "      <td>9981552306.757832</td>\n",
       "      <td>9981552306.757832</td>\n",
       "      <td>99815523067578.3125</td>\n",
       "      <td>0.0</td>\n",
       "      <td>0.0</td>\n",
       "      <td>0.0</td>\n",
       "      <td>0.0</td>\n",
       "      <td>0.0</td>\n",
       "      <td>0.0</td>\n",
       "      <td>0.0</td>\n",
       "      <td>0.0</td>\n",
       "    </tr>\n",
       "    <tr>\n",
       "      <th>...</th>\n",
       "      <td>...</td>\n",
       "      <td>...</td>\n",
       "      <td>...</td>\n",
       "      <td>...</td>\n",
       "      <td>...</td>\n",
       "      <td>...</td>\n",
       "      <td>...</td>\n",
       "      <td>...</td>\n",
       "      <td>...</td>\n",
       "      <td>...</td>\n",
       "      <td>...</td>\n",
       "      <td>...</td>\n",
       "      <td>...</td>\n",
       "      <td>...</td>\n",
       "      <td>...</td>\n",
       "    </tr>\n",
       "    <tr>\n",
       "      <th>654</th>\n",
       "      <td>bK18T00A</td>\n",
       "      <td>C</td>\n",
       "      <td>17117091638.995247</td>\n",
       "      <td>4022516535.163883</td>\n",
       "      <td>17117091.638995</td>\n",
       "      <td>17117091.638995</td>\n",
       "      <td>2841437212.073211</td>\n",
       "      <td>3423418327.799049</td>\n",
       "      <td>239639282.945933</td>\n",
       "      <td>34234183.27799</td>\n",
       "      <td>0.0</td>\n",
       "      <td>0.0</td>\n",
       "      <td>0.0</td>\n",
       "      <td>0.0</td>\n",
       "      <td>0.0</td>\n",
       "    </tr>\n",
       "    <tr>\n",
       "      <th>655</th>\n",
       "      <td>bK18T00R</td>\n",
       "      <td>C</td>\n",
       "      <td>6669136629.941043</td>\n",
       "      <td>1567247108.036145</td>\n",
       "      <td>6669136.629941</td>\n",
       "      <td>6669136.629941</td>\n",
       "      <td>1107076680.570213</td>\n",
       "      <td>1333827325.988209</td>\n",
       "      <td>93367912.819175</td>\n",
       "      <td>13338273.259882</td>\n",
       "      <td>0.0</td>\n",
       "      <td>0.0</td>\n",
       "      <td>0.0</td>\n",
       "      <td>0.0</td>\n",
       "      <td>0.0</td>\n",
       "    </tr>\n",
       "    <tr>\n",
       "      <th>656</th>\n",
       "      <td>bK18T01Z</td>\n",
       "      <td>Sq</td>\n",
       "      <td>24909637809.617058</td>\n",
       "      <td>0.0</td>\n",
       "      <td>0.0</td>\n",
       "      <td>0.0</td>\n",
       "      <td>0.0</td>\n",
       "      <td>0.0</td>\n",
       "      <td>0.0</td>\n",
       "      <td>0.0</td>\n",
       "      <td>0.0</td>\n",
       "      <td>0.0</td>\n",
       "      <td>0.0</td>\n",
       "      <td>0.0</td>\n",
       "      <td>0.0</td>\n",
       "    </tr>\n",
       "    <tr>\n",
       "      <th>657</th>\n",
       "      <td>bK18T06D</td>\n",
       "      <td>Xk</td>\n",
       "      <td>56401330942.584282</td>\n",
       "      <td>0.0</td>\n",
       "      <td>0.0</td>\n",
       "      <td>0.0</td>\n",
       "      <td>4963317122947.416992</td>\n",
       "      <td>0.0</td>\n",
       "      <td>564013309425.842773</td>\n",
       "      <td>28200665471.292141</td>\n",
       "      <td>0.0</td>\n",
       "      <td>0.0</td>\n",
       "      <td>0.0</td>\n",
       "      <td>0.0</td>\n",
       "      <td>0.0</td>\n",
       "    </tr>\n",
       "    <tr>\n",
       "      <th>658</th>\n",
       "      <td>bK18U01M</td>\n",
       "      <td>V</td>\n",
       "      <td>174885071868.56192</td>\n",
       "      <td>0.0</td>\n",
       "      <td>0.0</td>\n",
       "      <td>0.0</td>\n",
       "      <td>0.0</td>\n",
       "      <td>0.0</td>\n",
       "      <td>0.0</td>\n",
       "      <td>0.0</td>\n",
       "      <td>0.0</td>\n",
       "      <td>0.0</td>\n",
       "      <td>0.0</td>\n",
       "      <td>0.0</td>\n",
       "      <td>0.0</td>\n",
       "    </tr>\n",
       "  </tbody>\n",
       "</table>\n",
       "<p>659 rows × 15 columns</p>\n",
       "</div>"
      ],
      "text/plain": [
       "           id new_spec                est_mass           hydrogen_kg  \\\n",
       "0    a0003361        D   49595612027735.398438                   0.0   \n",
       "1    a0025143        S  108810416410242.265625                   0.0   \n",
       "2    a0089136        X   37951644987524.695312                   0.0   \n",
       "3    a0099942       Sq      38600070973521.125                   0.0   \n",
       "4    a0101955        B    9981552306757.832031  2345664792088.090332   \n",
       "..        ...      ...                     ...                   ...   \n",
       "654  bK18T00A        C      17117091638.995247     4022516535.163883   \n",
       "655  bK18T00R        C       6669136629.941043     1567247108.036145   \n",
       "656  bK18T01Z       Sq      24909637809.617058                   0.0   \n",
       "657  bK18T06D       Xk      56401330942.584282                   0.0   \n",
       "658  bK18U01M        V      174885071868.56192                   0.0   \n",
       "\n",
       "           nitrogen_kg         ammonia_kg               iron_kg  \\\n",
       "0                  0.0                0.0                   0.0   \n",
       "1                  0.0                0.0                   0.0   \n",
       "2                  0.0                0.0    3339744758902173.0   \n",
       "3                  0.0                0.0                   0.0   \n",
       "4    9981552306.757832  9981552306.757832   99815523067578.3125   \n",
       "..                 ...                ...                   ...   \n",
       "654    17117091.638995    17117091.638995     2841437212.073211   \n",
       "655     6669136.629941     6669136.629941     1107076680.570213   \n",
       "656                0.0                0.0                   0.0   \n",
       "657                0.0                0.0  4963317122947.416992   \n",
       "658                0.0                0.0                   0.0   \n",
       "\n",
       "              water_kg             nickel_kg              cobalt_kg  \\\n",
       "0    1140699076.637914                   0.0                    0.0   \n",
       "1                  0.0                   0.0                    0.0   \n",
       "2                  0.0  379516449875246.9375  18975822493762.347656   \n",
       "3                  0.0                   0.0                    0.0   \n",
       "4                  0.0                   0.0                    0.0   \n",
       "..                 ...                   ...                    ...   \n",
       "654  3423418327.799049      239639282.945933         34234183.27799   \n",
       "655  1333827325.988209       93367912.819175        13338273.259882   \n",
       "656                0.0                   0.0                    0.0   \n",
       "657                0.0   564013309425.842773     28200665471.292141   \n",
       "658                0.0                   0.0                    0.0   \n",
       "\n",
       "    magnesium silicate_kg iron silicate_kg aluminum_kg nickel-iron_kg  \\\n",
       "0                     0.0              0.0         0.0            0.0   \n",
       "1                     0.0              0.0         0.0            0.0   \n",
       "2                     0.0              0.0         0.0            0.0   \n",
       "3                     0.0              0.0         0.0            0.0   \n",
       "4                     0.0              0.0         0.0            0.0   \n",
       "..                    ...              ...         ...            ...   \n",
       "654                   0.0              0.0         0.0            0.0   \n",
       "655                   0.0              0.0         0.0            0.0   \n",
       "656                   0.0              0.0         0.0            0.0   \n",
       "657                   0.0              0.0         0.0            0.0   \n",
       "658                   0.0              0.0         0.0            0.0   \n",
       "\n",
       "    platinum_kg  \n",
       "0           0.0  \n",
       "1           0.0  \n",
       "2           0.0  \n",
       "3           0.0  \n",
       "4           0.0  \n",
       "..          ...  \n",
       "654         0.0  \n",
       "655         0.0  \n",
       "656         0.0  \n",
       "657         0.0  \n",
       "658         0.0  \n",
       "\n",
       "[659 rows x 15 columns]"
      ]
     },
     "execution_count": 103,
     "metadata": {},
     "output_type": "execute_result"
    }
   ],
   "source": [
    "acc_total_resources"
   ]
  },
  {
   "cell_type": "markdown",
   "id": "7316c22e",
   "metadata": {},
   "source": [
    "# Descriptive statistics on asteroids resources"
   ]
  },
  {
   "cell_type": "code",
   "execution_count": 108,
   "id": "27009035",
   "metadata": {
    "scrolled": true
   },
   "outputs": [
    {
     "data": {
      "text/plain": [
       "id                       a0003361a0025143a0089136a0099942a0101955a01384...\n",
       "new_spec                 DSXSqBXkOCgSQSKSqSqSqSqCVSSQXeCSqXcSqRTBXQBSqS...\n",
       "est_mass                                               2188240033473792.25\n",
       "hydrogen_kg                                            18473085070014.6875\n",
       "nitrogen_kg                                             78608872638.360352\n",
       "ammonia_kg                                              78608872638.360352\n",
       "iron_kg                                                39848249044930432.0\n",
       "water_kg                                             10769490695729.576172\n",
       "nickel_kg                                               4485890269460878.5\n",
       "cobalt_kg                                                224364507707006.0\n",
       "magnesium silicate_kg                                                  0.0\n",
       "iron silicate_kg                                                       0.0\n",
       "aluminum_kg                                          96866209137707.359375\n",
       "nickel-iron_kg                                          5769984839118919.0\n",
       "platinum_kg                                          17992810108765.742188\n",
       "dtype: object"
      ]
     },
     "execution_count": 108,
     "metadata": {},
     "output_type": "execute_result"
    }
   ],
   "source": [
    "acc_total_resources.sum(axis = 0)"
   ]
  },
  {
   "cell_type": "code",
   "execution_count": 114,
   "id": "58e9c566",
   "metadata": {},
   "outputs": [],
   "source": [
    "resources_list2 = list(acc_total_resources.columns)[3:]"
   ]
  },
  {
   "cell_type": "code",
   "execution_count": 115,
   "id": "914f1dd2",
   "metadata": {},
   "outputs": [],
   "source": [
    "sum_per_type = []\n",
    "for i in resources_list2:\n",
    "    sum_per_type.append(acc_total_resources[i].sum())"
   ]
  },
  {
   "cell_type": "code",
   "execution_count": 118,
   "id": "6ea5213d",
   "metadata": {},
   "outputs": [],
   "source": [
    "total_resources = pd.DataFrame({'resource': resources_list, 'total_kg': sum_per_type})"
   ]
  },
  {
   "cell_type": "code",
   "execution_count": 126,
   "id": "871943e5",
   "metadata": {},
   "outputs": [
    {
     "data": {
      "text/html": [
       "<div>\n",
       "<style scoped>\n",
       "    .dataframe tbody tr th:only-of-type {\n",
       "        vertical-align: middle;\n",
       "    }\n",
       "\n",
       "    .dataframe tbody tr th {\n",
       "        vertical-align: top;\n",
       "    }\n",
       "\n",
       "    .dataframe thead th {\n",
       "        text-align: right;\n",
       "    }\n",
       "</style>\n",
       "<table border=\"1\" class=\"dataframe\">\n",
       "  <thead>\n",
       "    <tr style=\"text-align: right;\">\n",
       "      <th></th>\n",
       "      <th>resource</th>\n",
       "      <th>total_kg</th>\n",
       "    </tr>\n",
       "  </thead>\n",
       "  <tbody>\n",
       "    <tr>\n",
       "      <th>0</th>\n",
       "      <td>hydrogen</td>\n",
       "      <td>1.847309e+13</td>\n",
       "    </tr>\n",
       "    <tr>\n",
       "      <th>1</th>\n",
       "      <td>nitrogen</td>\n",
       "      <td>7.860887e+10</td>\n",
       "    </tr>\n",
       "    <tr>\n",
       "      <th>2</th>\n",
       "      <td>ammonia</td>\n",
       "      <td>7.860887e+10</td>\n",
       "    </tr>\n",
       "    <tr>\n",
       "      <th>3</th>\n",
       "      <td>iron</td>\n",
       "      <td>3.984825e+16</td>\n",
       "    </tr>\n",
       "    <tr>\n",
       "      <th>4</th>\n",
       "      <td>water</td>\n",
       "      <td>1.076949e+13</td>\n",
       "    </tr>\n",
       "    <tr>\n",
       "      <th>5</th>\n",
       "      <td>nickel</td>\n",
       "      <td>4.485890e+15</td>\n",
       "    </tr>\n",
       "    <tr>\n",
       "      <th>6</th>\n",
       "      <td>cobalt</td>\n",
       "      <td>2.243645e+14</td>\n",
       "    </tr>\n",
       "    <tr>\n",
       "      <th>7</th>\n",
       "      <td>magnesium silicate</td>\n",
       "      <td>1.130150e-15</td>\n",
       "    </tr>\n",
       "    <tr>\n",
       "      <th>8</th>\n",
       "      <td>iron silicate</td>\n",
       "      <td>0.000000e+00</td>\n",
       "    </tr>\n",
       "    <tr>\n",
       "      <th>9</th>\n",
       "      <td>aluminum</td>\n",
       "      <td>9.686621e+13</td>\n",
       "    </tr>\n",
       "    <tr>\n",
       "      <th>10</th>\n",
       "      <td>nickel-iron</td>\n",
       "      <td>5.769985e+15</td>\n",
       "    </tr>\n",
       "    <tr>\n",
       "      <th>11</th>\n",
       "      <td>platinum</td>\n",
       "      <td>1.799281e+13</td>\n",
       "    </tr>\n",
       "  </tbody>\n",
       "</table>\n",
       "</div>"
      ],
      "text/plain": [
       "              resource      total_kg\n",
       "0             hydrogen  1.847309e+13\n",
       "1             nitrogen  7.860887e+10\n",
       "2              ammonia  7.860887e+10\n",
       "3                 iron  3.984825e+16\n",
       "4                water  1.076949e+13\n",
       "5               nickel  4.485890e+15\n",
       "6               cobalt  2.243645e+14\n",
       "7   magnesium silicate  1.130150e-15\n",
       "8        iron silicate  0.000000e+00\n",
       "9             aluminum  9.686621e+13\n",
       "10         nickel-iron  5.769985e+15\n",
       "11            platinum  1.799281e+13"
      ]
     },
     "execution_count": 126,
     "metadata": {},
     "output_type": "execute_result"
    }
   ],
   "source": [
    "total_resources"
   ]
  },
  {
   "cell_type": "code",
   "execution_count": 120,
   "id": "97f99907",
   "metadata": {},
   "outputs": [],
   "source": [
    "palette = sns.color_palette('Paired', 10)"
   ]
  },
  {
   "cell_type": "code",
   "execution_count": 125,
   "id": "dc4a66d6",
   "metadata": {},
   "outputs": [
    {
     "data": {
      "text/plain": [
       "<AxesSubplot:xlabel='resource', ylabel='total_kg'>"
      ]
     },
     "execution_count": 125,
     "metadata": {},
     "output_type": "execute_result"
    },
    {
     "data": {
      "image/png": "[encoded data removed]",
      "text/plain": [
       "<Figure size 432x288 with 1 Axes>"
      ]
     },
     "metadata": {
      "needs_background": "light"
     },
     "output_type": "display_data"
    }
   ],
   "source": [
    "sns.barplot(x='resource', y='total_kg', palette=palette,data=total_resources)"
   ]
  },
  {
   "cell_type": "code",
   "execution_count": 123,
   "id": "3779b716",
   "metadata": {},
   "outputs": [
    {
     "ename": "ValueError",
     "evalue": "Either `x` or `y` must be None for kind='count'",
     "output_type": "error",
     "traceback": [
      "\u001b[0;31m---------------------------------------------------------------------------\u001b[0m",
      "\u001b[0;31mValueError\u001b[0m                                Traceback (most recent call last)",
      "\u001b[0;32m<ipython-input-123-5d077efd53e2>\u001b[0m in \u001b[0;36m<module>\u001b[0;34m\u001b[0m\n\u001b[0;32m----> 1\u001b[0;31m \u001b[0msns\u001b[0m\u001b[0;34m.\u001b[0m\u001b[0mcatplot\u001b[0m\u001b[0;34m(\u001b[0m\u001b[0mx\u001b[0m\u001b[0;34m=\u001b[0m\u001b[0;34m'resource'\u001b[0m\u001b[0;34m,\u001b[0m \u001b[0my\u001b[0m\u001b[0;34m=\u001b[0m\u001b[0;34m'total_kg'\u001b[0m\u001b[0;34m,\u001b[0m \u001b[0mpalette\u001b[0m\u001b[0;34m=\u001b[0m\u001b[0mpalette\u001b[0m\u001b[0;34m,\u001b[0m \u001b[0mdata\u001b[0m\u001b[0;34m=\u001b[0m\u001b[0mtotal_resources\u001b[0m\u001b[0;34m,\u001b[0m \u001b[0mheight\u001b[0m\u001b[0;34m=\u001b[0m\u001b[0;36m5\u001b[0m\u001b[0;34m,\u001b[0m \u001b[0maspect\u001b[0m\u001b[0;34m=\u001b[0m\u001b[0;36m3\u001b[0m\u001b[0;34m,\u001b[0m \u001b[0mkind\u001b[0m\u001b[0;34m=\u001b[0m\u001b[0;34m'count'\u001b[0m\u001b[0;34m)\u001b[0m\u001b[0;34m;\u001b[0m\u001b[0;34m\u001b[0m\u001b[0;34m\u001b[0m\u001b[0m\n\u001b[0m\u001b[1;32m      2\u001b[0m \u001b[0msns\u001b[0m\u001b[0;34m.\u001b[0m\u001b[0mdespine\u001b[0m\u001b[0;34m(\u001b[0m\u001b[0;34m)\u001b[0m\u001b[0;34m\u001b[0m\u001b[0;34m\u001b[0m\u001b[0m\n\u001b[1;32m      3\u001b[0m \u001b[0mplt\u001b[0m\u001b[0;34m.\u001b[0m\u001b[0mshow\u001b[0m\u001b[0;34m(\u001b[0m\u001b[0;34m)\u001b[0m\u001b[0;34m\u001b[0m\u001b[0;34m\u001b[0m\u001b[0m\n",
      "\u001b[0;32m~/.pyenv/versions/3.8.6/envs/asteroid_mining/lib/python3.8/site-packages/seaborn/_decorators.py\u001b[0m in \u001b[0;36minner_f\u001b[0;34m(*args, **kwargs)\u001b[0m\n\u001b[1;32m     44\u001b[0m             )\n\u001b[1;32m     45\u001b[0m         \u001b[0mkwargs\u001b[0m\u001b[0;34m.\u001b[0m\u001b[0mupdate\u001b[0m\u001b[0;34m(\u001b[0m\u001b[0;34m{\u001b[0m\u001b[0mk\u001b[0m\u001b[0;34m:\u001b[0m \u001b[0marg\u001b[0m \u001b[0;32mfor\u001b[0m \u001b[0mk\u001b[0m\u001b[0;34m,\u001b[0m \u001b[0marg\u001b[0m \u001b[0;32min\u001b[0m \u001b[0mzip\u001b[0m\u001b[0;34m(\u001b[0m\u001b[0msig\u001b[0m\u001b[0;34m.\u001b[0m\u001b[0mparameters\u001b[0m\u001b[0;34m,\u001b[0m \u001b[0margs\u001b[0m\u001b[0;34m)\u001b[0m\u001b[0;34m}\u001b[0m\u001b[0;34m)\u001b[0m\u001b[0;34m\u001b[0m\u001b[0;34m\u001b[0m\u001b[0m\n\u001b[0;32m---> 46\u001b[0;31m         \u001b[0;32mreturn\u001b[0m \u001b[0mf\u001b[0m\u001b[0;34m(\u001b[0m\u001b[0;34m**\u001b[0m\u001b[0mkwargs\u001b[0m\u001b[0;34m)\u001b[0m\u001b[0;34m\u001b[0m\u001b[0;34m\u001b[0m\u001b[0m\n\u001b[0m\u001b[1;32m     47\u001b[0m     \u001b[0;32mreturn\u001b[0m \u001b[0minner_f\u001b[0m\u001b[0;34m\u001b[0m\u001b[0;34m\u001b[0m\u001b[0m\n\u001b[1;32m     48\u001b[0m \u001b[0;34m\u001b[0m\u001b[0m\n",
      "\u001b[0;32m~/.pyenv/versions/3.8.6/envs/asteroid_mining/lib/python3.8/site-packages/seaborn/categorical.py\u001b[0m in \u001b[0;36mcatplot\u001b[0;34m(x, y, hue, data, row, col, col_wrap, estimator, ci, n_boot, units, seed, order, hue_order, row_order, col_order, kind, height, aspect, orient, color, palette, legend, legend_out, sharex, sharey, margin_titles, facet_kws, **kwargs)\u001b[0m\n\u001b[1;32m   3762\u001b[0m             \u001b[0mx_\u001b[0m\u001b[0;34m,\u001b[0m \u001b[0my_\u001b[0m\u001b[0;34m,\u001b[0m \u001b[0morient\u001b[0m \u001b[0;34m=\u001b[0m \u001b[0mx\u001b[0m\u001b[0;34m,\u001b[0m \u001b[0mx\u001b[0m\u001b[0;34m,\u001b[0m \u001b[0;34m\"v\"\u001b[0m\u001b[0;34m\u001b[0m\u001b[0;34m\u001b[0m\u001b[0m\n\u001b[1;32m   3763\u001b[0m         \u001b[0;32melse\u001b[0m\u001b[0;34m:\u001b[0m\u001b[0;34m\u001b[0m\u001b[0;34m\u001b[0m\u001b[0m\n\u001b[0;32m-> 3764\u001b[0;31m             \u001b[0;32mraise\u001b[0m \u001b[0mValueError\u001b[0m\u001b[0;34m(\u001b[0m\u001b[0;34m\"Either `x` or `y` must be None for kind='count'\"\u001b[0m\u001b[0;34m)\u001b[0m\u001b[0;34m\u001b[0m\u001b[0;34m\u001b[0m\u001b[0m\n\u001b[0m\u001b[1;32m   3765\u001b[0m     \u001b[0;32melse\u001b[0m\u001b[0;34m:\u001b[0m\u001b[0;34m\u001b[0m\u001b[0;34m\u001b[0m\u001b[0m\n\u001b[1;32m   3766\u001b[0m         \u001b[0mx_\u001b[0m\u001b[0;34m,\u001b[0m \u001b[0my_\u001b[0m \u001b[0;34m=\u001b[0m \u001b[0mx\u001b[0m\u001b[0;34m,\u001b[0m \u001b[0my\u001b[0m\u001b[0;34m\u001b[0m\u001b[0;34m\u001b[0m\u001b[0m\n",
      "\u001b[0;31mValueError\u001b[0m: Either `x` or `y` must be None for kind='count'"
     ]
    }
   ],
   "source": [
    "sns.catplot(x='resource', y='total_kg', palette=palette, data=total_resources, height=5, aspect=3, kind='count', );\n",
    "sns.despine()\n",
    "plt.show()"
   ]
  },
  {
   "cell_type": "code",
   "execution_count": 127,
   "id": "4c6e7fd4",
   "metadata": {},
   "outputs": [
    {
     "data": {
      "text/plain": [
       "Index(['Unnamed: 0', 'id', 'spkid', 'full_name', 'pdes', 'name', 'prefix',\n",
       "       'neo', 'pha', 'H', 'G', 'M1', 'M2', 'K1', 'K2', 'PC', 'diameter',\n",
       "       'extent', 'albedo', 'rot_per', 'GM', 'BV', 'UB', 'IR', 'spec_B',\n",
       "       'spec_T', 'H_sigma', 'diameter_sigma', 'orbit_id', 'epoch', 'epoch_mjd',\n",
       "       'epoch_cal', 'equinox', 'e', 'a', 'q', 'i', 'om', 'w', 'ma', 'ad', 'n',\n",
       "       'tp', 'tp_cal', 'per', 'per_y', 'moid', 'moid_ld', 'moid_jup', 't_jup',\n",
       "       'sigma_e', 'sigma_a', 'sigma_q', 'sigma_i', 'sigma_om', 'sigma_w',\n",
       "       'sigma_ma', 'sigma_ad', 'sigma_n', 'sigma_tp', 'sigma_per', 'class',\n",
       "       'producer', 'data_arc', 'first_obs', 'last_obs', 'n_obs_used',\n",
       "       'n_del_obs_used', 'n_dop_obs_used', 'condition_code', 'rms', 'two_body',\n",
       "       'A1', 'A2', 'A3', 'DT', 'Object', 'Orbit ID', 'H (mag)',\n",
       "       'Estimated Diameter (m)', 'OCC',\n",
       "       'Min. delta-V [delta-V, dur.] (km/s), (d)',\n",
       "       'Min. Duration [delta-V, dur.] (km/s), (d)', 'Viable Trajectories',\n",
       "       'Next Optical Opportunity (yyyy-mm [Vp])',\n",
       "       'Next Goldstone Radar Opportunity (yyyy-mm [SNR])', 'spec_B_clean',\n",
       "       'new_spec', 'diameter_clean', 'est_volume', 'est_density', 'est_mass'],\n",
       "      dtype='object')"
      ]
     },
     "execution_count": 127,
     "metadata": {},
     "output_type": "execute_result"
    }
   ],
   "source": [
    "df_acc.columns"
   ]
  },
  {
   "cell_type": "code",
   "execution_count": 128,
   "id": "ab905333",
   "metadata": {},
   "outputs": [
    {
     "data": {
      "text/html": [
       "<div>\n",
       "<style scoped>\n",
       "    .dataframe tbody tr th:only-of-type {\n",
       "        vertical-align: middle;\n",
       "    }\n",
       "\n",
       "    .dataframe tbody tr th {\n",
       "        vertical-align: top;\n",
       "    }\n",
       "\n",
       "    .dataframe thead th {\n",
       "        text-align: right;\n",
       "    }\n",
       "</style>\n",
       "<table border=\"1\" class=\"dataframe\">\n",
       "  <thead>\n",
       "    <tr style=\"text-align: right;\">\n",
       "      <th></th>\n",
       "      <th>diameter_clean</th>\n",
       "    </tr>\n",
       "  </thead>\n",
       "  <tbody>\n",
       "    <tr>\n",
       "      <th>count</th>\n",
       "      <td>659.000000</td>\n",
       "    </tr>\n",
       "    <tr>\n",
       "      <th>mean</th>\n",
       "      <td>0.094003</td>\n",
       "    </tr>\n",
       "    <tr>\n",
       "      <th>std</th>\n",
       "      <td>0.120299</td>\n",
       "    </tr>\n",
       "    <tr>\n",
       "      <th>min</th>\n",
       "      <td>0.030000</td>\n",
       "    </tr>\n",
       "    <tr>\n",
       "      <th>25%</th>\n",
       "      <td>0.039500</td>\n",
       "    </tr>\n",
       "    <tr>\n",
       "      <th>50%</th>\n",
       "      <td>0.057500</td>\n",
       "    </tr>\n",
       "    <tr>\n",
       "      <th>75%</th>\n",
       "      <td>0.090500</td>\n",
       "    </tr>\n",
       "    <tr>\n",
       "      <th>max</th>\n",
       "      <td>1.398000</td>\n",
       "    </tr>\n",
       "  </tbody>\n",
       "</table>\n",
       "</div>"
      ],
      "text/plain": [
       "       diameter_clean\n",
       "count      659.000000\n",
       "mean         0.094003\n",
       "std          0.120299\n",
       "min          0.030000\n",
       "25%          0.039500\n",
       "50%          0.057500\n",
       "75%          0.090500\n",
       "max          1.398000"
      ]
     },
     "execution_count": 128,
     "metadata": {},
     "output_type": "execute_result"
    }
   ],
   "source": [
    "df_acc[['diameter_clean', 'est_mass', 'Next Optical Opportunity (yyyy-mm [Vp])']].describe()"
   ]
  },
  {
   "cell_type": "code",
   "execution_count": 132,
   "id": "33e6d492",
   "metadata": {},
   "outputs": [
    {
     "data": {
      "text/plain": [
       "count     659.000000\n",
       "mean       94.003035\n",
       "std       120.299228\n",
       "min        30.000000\n",
       "25%        39.500000\n",
       "50%        57.500000\n",
       "75%        90.500000\n",
       "max      1398.000000\n",
       "Name: diameter_clean, dtype: float64"
      ]
     },
     "execution_count": 132,
     "metadata": {},
     "output_type": "execute_result"
    }
   ],
   "source": [
    "diameter = df_acc['diameter_clean']*1000\n",
    "diameter.describe()"
   ]
  },
  {
   "cell_type": "code",
   "execution_count": 141,
   "id": "ba67d705",
   "metadata": {},
   "outputs": [
    {
     "data": {
      "text/plain": [
       "count       659.000000\n",
       "mean       3320.546333\n",
       "std       30464.901088\n",
       "min           2.799908\n",
       "25%          16.488388\n",
       "50%          45.188878\n",
       "75%         175.290101\n",
       "max      646157.218548\n",
       "Name: est_mass, dtype: float64"
      ]
     },
     "execution_count": 141,
     "metadata": {},
     "output_type": "execute_result"
    }
   ],
   "source": [
    "mass = df_acc['est_mass'] / 1e9\n",
    "mass = mass.astype('float64')\n",
    "mass.describe()"
   ]
  },
  {
   "cell_type": "code",
   "execution_count": 147,
   "id": "67bd3ab1",
   "metadata": {},
   "outputs": [
    {
     "data": {
      "text/plain": [
       "<AxesSubplot:xlabel='est_mass', ylabel='Count'>"
      ]
     },
     "execution_count": 147,
     "metadata": {},
     "output_type": "execute_result"
    },
    {
     "data": {
      "image/png": "[encoded data removed]",
      "text/plain": [
       "<Figure size 432x288 with 1 Axes>"
      ]
     },
     "metadata": {
      "needs_background": "light"
     },
     "output_type": "display_data"
    }
   ],
   "source": [
    "sns.histplot(mass[mass<20_000], bins=20)"
   ]
  },
  {
   "cell_type": "code",
   "execution_count": 148,
   "id": "0ba09d62",
   "metadata": {},
   "outputs": [],
   "source": [
    "col_analysis = ['id', 'name', 'diameter_clean', 'est_mass', 'Next Optical Opportunity (yyyy-mm [Vp])']"
   ]
  },
  {
   "cell_type": "code",
   "execution_count": 149,
   "id": "73911c89",
   "metadata": {},
   "outputs": [],
   "source": [
    "df_analysis = df_acc[col_analysis]"
   ]
  },
  {
   "cell_type": "code",
   "execution_count": 151,
   "id": "508e893c",
   "metadata": {},
   "outputs": [
    {
     "name": "stderr",
     "output_type": "stream",
     "text": [
      "<ipython-input-151-7c36dac17084>:1: SettingWithCopyWarning: \n",
      "A value is trying to be set on a copy of a slice from a DataFrame.\n",
      "Try using .loc[row_indexer,col_indexer] = value instead\n",
      "\n",
      "See the caveats in the documentation: https://pandas.pydata.org/pandas-docs/stable/user_guide/indexing.html#returning-a-view-versus-a-copy\n",
      "  df_analysis['mass_mT'] = df_acc['est_mass'] / 1e9\n",
      "<ipython-input-151-7c36dac17084>:2: SettingWithCopyWarning: \n",
      "A value is trying to be set on a copy of a slice from a DataFrame.\n",
      "Try using .loc[row_indexer,col_indexer] = value instead\n",
      "\n",
      "See the caveats in the documentation: https://pandas.pydata.org/pandas-docs/stable/user_guide/indexing.html#returning-a-view-versus-a-copy\n",
      "  df_analysis['mass_mT'] = df_analysis['mass_mT'].astype('float64')\n"
     ]
    }
   ],
   "source": [
    "df_analysis['mass_mT'] = df_acc['est_mass'] / 1e9\n",
    "df_analysis['mass_mT'] = df_analysis['mass_mT'].astype('float64')"
   ]
  },
  {
   "cell_type": "code",
   "execution_count": 152,
   "id": "ddb62319",
   "metadata": {},
   "outputs": [
    {
     "data": {
      "text/html": [
       "<div>\n",
       "<style scoped>\n",
       "    .dataframe tbody tr th:only-of-type {\n",
       "        vertical-align: middle;\n",
       "    }\n",
       "\n",
       "    .dataframe tbody tr th {\n",
       "        vertical-align: top;\n",
       "    }\n",
       "\n",
       "    .dataframe thead th {\n",
       "        text-align: right;\n",
       "    }\n",
       "</style>\n",
       "<table border=\"1\" class=\"dataframe\">\n",
       "  <thead>\n",
       "    <tr style=\"text-align: right;\">\n",
       "      <th></th>\n",
       "      <th>id</th>\n",
       "      <th>name</th>\n",
       "      <th>diameter_clean</th>\n",
       "      <th>est_mass</th>\n",
       "      <th>Next Optical Opportunity (yyyy-mm [Vp])</th>\n",
       "      <th>mass_mT</th>\n",
       "    </tr>\n",
       "  </thead>\n",
       "  <tbody>\n",
       "    <tr>\n",
       "      <th>1</th>\n",
       "      <td>a0025143</td>\n",
       "      <td>Itokawa</td>\n",
       "      <td>0.7720</td>\n",
       "      <td>108810416410242.265625</td>\n",
       "      <td>2021-06 [19.5]</td>\n",
       "      <td>108810.416410</td>\n",
       "    </tr>\n",
       "    <tr>\n",
       "      <th>5</th>\n",
       "      <td>a0138404</td>\n",
       "      <td>NaN</td>\n",
       "      <td>0.7200</td>\n",
       "      <td>173283254450786.75</td>\n",
       "      <td>2021-05 [17.7]</td>\n",
       "      <td>173283.254451</td>\n",
       "    </tr>\n",
       "    <tr>\n",
       "      <th>8</th>\n",
       "      <td>a0163899</td>\n",
       "      <td>NaN</td>\n",
       "      <td>1.3980</td>\n",
       "      <td>646157218547903.25</td>\n",
       "      <td>2021-10 [13.6]</td>\n",
       "      <td>646157.218548</td>\n",
       "    </tr>\n",
       "    <tr>\n",
       "      <th>238</th>\n",
       "      <td>bK10P49Y</td>\n",
       "      <td>NaN</td>\n",
       "      <td>1.1415</td>\n",
       "      <td>351758199859084.25</td>\n",
       "      <td>? 2037-10 [19.6] ?</td>\n",
       "      <td>351758.199859</td>\n",
       "    </tr>\n",
       "  </tbody>\n",
       "</table>\n",
       "</div>"
      ],
      "text/plain": [
       "           id     name  diameter_clean                est_mass  \\\n",
       "1    a0025143  Itokawa          0.7720  108810416410242.265625   \n",
       "5    a0138404      NaN          0.7200      173283254450786.75   \n",
       "8    a0163899      NaN          1.3980      646157218547903.25   \n",
       "238  bK10P49Y      NaN          1.1415      351758199859084.25   \n",
       "\n",
       "    Next Optical Opportunity (yyyy-mm [Vp])        mass_mT  \n",
       "1                            2021-06 [19.5]  108810.416410  \n",
       "5                            2021-05 [17.7]  173283.254451  \n",
       "8                            2021-10 [13.6]  646157.218548  \n",
       "238                      ? 2037-10 [19.6] ?  351758.199859  "
      ]
     },
     "execution_count": 152,
     "metadata": {},
     "output_type": "execute_result"
    }
   ],
   "source": [
    "df_analysis[df_analysis['mass_mT']> 100000]"
   ]
  },
  {
   "cell_type": "code",
   "execution_count": null,
   "id": "50ad412a",
   "metadata": {},
   "outputs": [],
   "source": []
  }
 ],
 "metadata": {
  "kernelspec": {
   "display_name": "Python 3",
   "language": "python",
   "name": "python3"
  },
  "language_info": {
   "codemirror_mode": {
    "name": "ipython",
    "version": 3
   },
   "file_extension": ".py",
   "mimetype": "text/x-python",
   "name": "python",
   "nbconvert_exporter": "python",
   "pygments_lexer": "ipython3",
   "version": "3.8.6"
  },
  "toc": {
   "base_numbering": 1,
   "nav_menu": {},
   "number_sections": true,
   "sideBar": true,
   "skip_h1_title": false,
   "title_cell": "Table of Contents",
   "title_sidebar": "Contents",
   "toc_cell": false,
   "toc_position": {},
   "toc_section_display": true,
   "toc_window_display": false
  }
 },
 "nbformat": 4,
 "nbformat_minor": 5
}
