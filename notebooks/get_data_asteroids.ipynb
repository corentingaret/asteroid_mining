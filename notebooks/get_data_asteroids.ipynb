{
 "cells": [
  {
   "cell_type": "code",
   "execution_count": 1,
   "id": "congressional-accent",
   "metadata": {},
   "outputs": [],
   "source": [
    "import numpy as np\n",
    "import pandas as pd\n",
    "import matplotlib.pyplot as plt\n",
    "import seaborn as sns"
   ]
  },
  {
   "cell_type": "markdown",
   "id": "graduate-adapter",
   "metadata": {},
   "source": [
    "# Import complete from asterank with all necessary info"
   ]
  },
  {
   "cell_type": "code",
   "execution_count": 4,
   "id": "split-explosion",
   "metadata": {},
   "outputs": [
    {
     "name": "stderr",
     "output_type": "stream",
     "text": [
      "/home/corentin/.pyenv/versions/3.8.6/envs/lewagon/lib/python3.8/site-packages/IPython/core/interactiveshell.py:3146: DtypeWarning: Columns (3,4,5,15,16,23,24,27,68,70) have mixed types.Specify dtype option on import or set low_memory=False.\n",
      "  has_raised = await self.run_ast_nodes(code_ast.body, cell_name,\n"
     ]
    }
   ],
   "source": [
    "complete = pd.read_csv('../data/asterank.csv')"
   ]
  },
  {
   "cell_type": "code",
   "execution_count": 8,
   "id": "center-penguin",
   "metadata": {},
   "outputs": [],
   "source": [
    "comp_col = list(complete.columns)"
   ]
  },
  {
   "cell_type": "code",
   "execution_count": 9,
   "id": "german-trader",
   "metadata": {},
   "outputs": [
    {
     "data": {
      "text/plain": [
       "(792975, 75)"
      ]
     },
     "execution_count": 9,
     "metadata": {},
     "output_type": "execute_result"
    }
   ],
   "source": [
    "complete.shape"
   ]
  },
  {
   "cell_type": "code",
   "execution_count": 12,
   "id": "exterior-charge",
   "metadata": {
    "collapsed": true
   },
   "outputs": [
    {
     "data": {
      "text/plain": [
       "['id',\n",
       " 'spkid',\n",
       " 'full_name',\n",
       " 'pdes',\n",
       " 'name',\n",
       " 'prefix',\n",
       " 'neo',\n",
       " 'pha',\n",
       " 'H',\n",
       " 'G',\n",
       " 'M1',\n",
       " 'M2',\n",
       " 'K1',\n",
       " 'K2',\n",
       " 'PC',\n",
       " 'diameter',\n",
       " 'extent',\n",
       " 'albedo',\n",
       " 'rot_per',\n",
       " 'GM',\n",
       " 'BV',\n",
       " 'UB',\n",
       " 'IR',\n",
       " 'spec_B',\n",
       " 'spec_T',\n",
       " 'H_sigma',\n",
       " 'diameter_sigma',\n",
       " 'orbit_id',\n",
       " 'epoch',\n",
       " 'epoch_mjd',\n",
       " 'epoch_cal',\n",
       " 'equinox',\n",
       " 'e',\n",
       " 'a',\n",
       " 'q',\n",
       " 'i',\n",
       " 'om',\n",
       " 'w',\n",
       " 'ma',\n",
       " 'ad',\n",
       " 'n',\n",
       " 'tp',\n",
       " 'tp_cal',\n",
       " 'per',\n",
       " 'per_y',\n",
       " 'moid',\n",
       " 'moid_ld',\n",
       " 'moid_jup',\n",
       " 't_jup',\n",
       " 'sigma_e',\n",
       " 'sigma_a',\n",
       " 'sigma_q',\n",
       " 'sigma_i',\n",
       " 'sigma_om',\n",
       " 'sigma_w',\n",
       " 'sigma_ma',\n",
       " 'sigma_ad',\n",
       " 'sigma_n',\n",
       " 'sigma_tp',\n",
       " 'sigma_per',\n",
       " 'class',\n",
       " 'producer',\n",
       " 'data_arc',\n",
       " 'first_obs',\n",
       " 'last_obs',\n",
       " 'n_obs_used',\n",
       " 'n_del_obs_used',\n",
       " 'n_dop_obs_used',\n",
       " 'condition_code',\n",
       " 'rms',\n",
       " 'two_body',\n",
       " 'A1',\n",
       " 'A2',\n",
       " 'A3',\n",
       " 'DT']"
      ]
     },
     "execution_count": 12,
     "metadata": {},
     "output_type": "execute_result"
    }
   ],
   "source": [
    "comp_col"
   ]
  },
  {
   "cell_type": "code",
   "execution_count": 15,
   "id": "critical-ordering",
   "metadata": {},
   "outputs": [
    {
     "data": {
      "text/plain": [
       "array(['C', 'B', 'Sk', 'V', 'S', nan, 'L', 'Ch', 'X', 'Sl', 'Xk', 'Cb',\n",
       "       'Sq', 'Cgh', 'Xc', 'Sa', 'Xe', 'K', 'T', 'Cg', 'Ld', 'A', 'D', 'R',\n",
       "       'Sr', 'Q', 'O', 'U', 'S:', 'S(IV)', 'Sq:', 'X:', 'K:', 'C:', 'V:'],\n",
       "      dtype=object)"
      ]
     },
     "execution_count": 15,
     "metadata": {},
     "output_type": "execute_result"
    }
   ],
   "source": [
    "complete['spec_B'].unique()"
   ]
  },
  {
   "cell_type": "markdown",
   "id": "ahead-dealing",
   "metadata": {},
   "source": [
    "# Import JPL NEO objects database retrieved 07/05"
   ]
  },
  {
   "cell_type": "code",
   "execution_count": 18,
   "id": "qualified-advantage",
   "metadata": {},
   "outputs": [],
   "source": [
    "neo_jpl = pd.read_csv('../data/neo_asteroids_jpl.csv')"
   ]
  },
  {
   "cell_type": "code",
   "execution_count": 22,
   "id": "phantom-alexandria",
   "metadata": {},
   "outputs": [
    {
     "data": {
      "text/html": [
       "<div>\n",
       "<style scoped>\n",
       "    .dataframe tbody tr th:only-of-type {\n",
       "        vertical-align: middle;\n",
       "    }\n",
       "\n",
       "    .dataframe tbody tr th {\n",
       "        vertical-align: top;\n",
       "    }\n",
       "\n",
       "    .dataframe thead th {\n",
       "        text-align: right;\n",
       "    }\n",
       "</style>\n",
       "<table border=\"1\" class=\"dataframe\">\n",
       "  <thead>\n",
       "    <tr style=\"text-align: right;\">\n",
       "      <th></th>\n",
       "      <th>id</th>\n",
       "      <th>full_name</th>\n",
       "      <th>a</th>\n",
       "      <th>e</th>\n",
       "      <th>i</th>\n",
       "      <th>om</th>\n",
       "      <th>w</th>\n",
       "      <th>q</th>\n",
       "      <th>ad</th>\n",
       "      <th>per_y</th>\n",
       "      <th>...</th>\n",
       "      <th>extent</th>\n",
       "      <th>albedo</th>\n",
       "      <th>rot_per</th>\n",
       "      <th>GM</th>\n",
       "      <th>BV</th>\n",
       "      <th>UB</th>\n",
       "      <th>IR</th>\n",
       "      <th>spec_B</th>\n",
       "      <th>spec_T</th>\n",
       "      <th>neo</th>\n",
       "    </tr>\n",
       "  </thead>\n",
       "  <tbody>\n",
       "    <tr>\n",
       "      <th>0</th>\n",
       "      <td>a0000433</td>\n",
       "      <td>433 Eros (A898 PA)</td>\n",
       "      <td>1.458167</td>\n",
       "      <td>0.222994</td>\n",
       "      <td>10.830513</td>\n",
       "      <td>304.299134</td>\n",
       "      <td>178.868934</td>\n",
       "      <td>1.133005</td>\n",
       "      <td>1.783330</td>\n",
       "      <td>1.760837</td>\n",
       "      <td>...</td>\n",
       "      <td>34.4x11.2x11.2</td>\n",
       "      <td>0.250</td>\n",
       "      <td>5.270</td>\n",
       "      <td>0.000446</td>\n",
       "      <td>0.921</td>\n",
       "      <td>0.531</td>\n",
       "      <td>NaN</td>\n",
       "      <td>S</td>\n",
       "      <td>S</td>\n",
       "      <td>Y</td>\n",
       "    </tr>\n",
       "    <tr>\n",
       "      <th>1</th>\n",
       "      <td>a0000719</td>\n",
       "      <td>719 Albert (A911 TB)</td>\n",
       "      <td>2.638378</td>\n",
       "      <td>0.546721</td>\n",
       "      <td>11.570400</td>\n",
       "      <td>183.858330</td>\n",
       "      <td>156.191216</td>\n",
       "      <td>1.195922</td>\n",
       "      <td>4.080833</td>\n",
       "      <td>4.285620</td>\n",
       "      <td>...</td>\n",
       "      <td>NaN</td>\n",
       "      <td>NaN</td>\n",
       "      <td>5.801</td>\n",
       "      <td>NaN</td>\n",
       "      <td>NaN</td>\n",
       "      <td>NaN</td>\n",
       "      <td>NaN</td>\n",
       "      <td>S</td>\n",
       "      <td>NaN</td>\n",
       "      <td>Y</td>\n",
       "    </tr>\n",
       "    <tr>\n",
       "      <th>2</th>\n",
       "      <td>a0000887</td>\n",
       "      <td>887 Alinda (A918 AA)</td>\n",
       "      <td>2.473534</td>\n",
       "      <td>0.570422</td>\n",
       "      <td>9.393848</td>\n",
       "      <td>110.433729</td>\n",
       "      <td>350.512508</td>\n",
       "      <td>1.062575</td>\n",
       "      <td>3.884493</td>\n",
       "      <td>3.890317</td>\n",
       "      <td>...</td>\n",
       "      <td>NaN</td>\n",
       "      <td>0.310</td>\n",
       "      <td>28.410</td>\n",
       "      <td>NaN</td>\n",
       "      <td>0.832</td>\n",
       "      <td>0.436</td>\n",
       "      <td>NaN</td>\n",
       "      <td>NaN</td>\n",
       "      <td>S</td>\n",
       "      <td>Y</td>\n",
       "    </tr>\n",
       "    <tr>\n",
       "      <th>3</th>\n",
       "      <td>a0001036</td>\n",
       "      <td>1036 Ganymed (A924 UB)</td>\n",
       "      <td>2.665194</td>\n",
       "      <td>0.533095</td>\n",
       "      <td>26.676143</td>\n",
       "      <td>215.544210</td>\n",
       "      <td>132.378538</td>\n",
       "      <td>1.244392</td>\n",
       "      <td>4.085995</td>\n",
       "      <td>4.351123</td>\n",
       "      <td>...</td>\n",
       "      <td>NaN</td>\n",
       "      <td>0.238</td>\n",
       "      <td>10.297</td>\n",
       "      <td>NaN</td>\n",
       "      <td>0.842</td>\n",
       "      <td>0.417</td>\n",
       "      <td>NaN</td>\n",
       "      <td>S</td>\n",
       "      <td>S</td>\n",
       "      <td>Y</td>\n",
       "    </tr>\n",
       "    <tr>\n",
       "      <th>4</th>\n",
       "      <td>a0001221</td>\n",
       "      <td>1221 Amor (1932 EA1)</td>\n",
       "      <td>1.919166</td>\n",
       "      <td>0.435488</td>\n",
       "      <td>11.880444</td>\n",
       "      <td>171.316487</td>\n",
       "      <td>26.677583</td>\n",
       "      <td>1.083392</td>\n",
       "      <td>2.754939</td>\n",
       "      <td>2.658746</td>\n",
       "      <td>...</td>\n",
       "      <td>NaN</td>\n",
       "      <td>NaN</td>\n",
       "      <td>NaN</td>\n",
       "      <td>NaN</td>\n",
       "      <td>NaN</td>\n",
       "      <td>NaN</td>\n",
       "      <td>NaN</td>\n",
       "      <td>NaN</td>\n",
       "      <td>NaN</td>\n",
       "      <td>Y</td>\n",
       "    </tr>\n",
       "  </tbody>\n",
       "</table>\n",
       "<p>5 rows × 27 columns</p>\n",
       "</div>"
      ],
      "text/plain": [
       "         id                 full_name         a         e          i  \\\n",
       "0  a0000433        433 Eros (A898 PA)  1.458167  0.222994  10.830513   \n",
       "1  a0000719      719 Albert (A911 TB)  2.638378  0.546721  11.570400   \n",
       "2  a0000887      887 Alinda (A918 AA)  2.473534  0.570422   9.393848   \n",
       "3  a0001036    1036 Ganymed (A924 UB)  2.665194  0.533095  26.676143   \n",
       "4  a0001221      1221 Amor (1932 EA1)  1.919166  0.435488  11.880444   \n",
       "\n",
       "           om           w         q        ad     per_y  ...          extent  \\\n",
       "0  304.299134  178.868934  1.133005  1.783330  1.760837  ...  34.4x11.2x11.2   \n",
       "1  183.858330  156.191216  1.195922  4.080833  4.285620  ...             NaN   \n",
       "2  110.433729  350.512508  1.062575  3.884493  3.890317  ...             NaN   \n",
       "3  215.544210  132.378538  1.244392  4.085995  4.351123  ...             NaN   \n",
       "4  171.316487   26.677583  1.083392  2.754939  2.658746  ...             NaN   \n",
       "\n",
       "   albedo  rot_per        GM     BV     UB  IR spec_B  spec_T  neo  \n",
       "0   0.250    5.270  0.000446  0.921  0.531 NaN      S       S    Y  \n",
       "1     NaN    5.801       NaN    NaN    NaN NaN      S     NaN    Y  \n",
       "2   0.310   28.410       NaN  0.832  0.436 NaN    NaN       S    Y  \n",
       "3   0.238   10.297       NaN  0.842  0.417 NaN      S       S    Y  \n",
       "4     NaN      NaN       NaN    NaN    NaN NaN    NaN     NaN    Y  \n",
       "\n",
       "[5 rows x 27 columns]"
      ]
     },
     "execution_count": 22,
     "metadata": {},
     "output_type": "execute_result"
    }
   ],
   "source": [
    "neo_jpl.head()"
   ]
  },
  {
   "cell_type": "code",
   "execution_count": 20,
   "id": "involved-candy",
   "metadata": {},
   "outputs": [
    {
     "data": {
      "text/plain": [
       "(25766, 27)"
      ]
     },
     "execution_count": 20,
     "metadata": {},
     "output_type": "execute_result"
    }
   ],
   "source": [
    "neo_jpl.shape"
   ]
  },
  {
   "cell_type": "code",
   "execution_count": 21,
   "id": "positive-genius",
   "metadata": {},
   "outputs": [
    {
     "data": {
      "text/html": [
       "<div>\n",
       "<style scoped>\n",
       "    .dataframe tbody tr th:only-of-type {\n",
       "        vertical-align: middle;\n",
       "    }\n",
       "\n",
       "    .dataframe tbody tr th {\n",
       "        vertical-align: top;\n",
       "    }\n",
       "\n",
       "    .dataframe thead th {\n",
       "        text-align: right;\n",
       "    }\n",
       "</style>\n",
       "<table border=\"1\" class=\"dataframe\">\n",
       "  <thead>\n",
       "    <tr style=\"text-align: right;\">\n",
       "      <th></th>\n",
       "      <th>id</th>\n",
       "      <th>spkid</th>\n",
       "      <th>full_name</th>\n",
       "      <th>pdes</th>\n",
       "      <th>name</th>\n",
       "      <th>prefix</th>\n",
       "      <th>neo</th>\n",
       "      <th>pha</th>\n",
       "      <th>H</th>\n",
       "      <th>G</th>\n",
       "      <th>...</th>\n",
       "      <th>n_obs_used</th>\n",
       "      <th>n_del_obs_used</th>\n",
       "      <th>n_dop_obs_used</th>\n",
       "      <th>condition_code</th>\n",
       "      <th>rms</th>\n",
       "      <th>two_body</th>\n",
       "      <th>A1</th>\n",
       "      <th>A2</th>\n",
       "      <th>A3</th>\n",
       "      <th>DT</th>\n",
       "    </tr>\n",
       "  </thead>\n",
       "  <tbody>\n",
       "    <tr>\n",
       "      <th>0</th>\n",
       "      <td>a0000001</td>\n",
       "      <td>2000001</td>\n",
       "      <td>1 Ceres</td>\n",
       "      <td>1</td>\n",
       "      <td>Ceres</td>\n",
       "      <td>NaN</td>\n",
       "      <td>N</td>\n",
       "      <td>N</td>\n",
       "      <td>3.34</td>\n",
       "      <td>0.12</td>\n",
       "      <td>...</td>\n",
       "      <td>5993.0</td>\n",
       "      <td>405.0</td>\n",
       "      <td>0.0</td>\n",
       "      <td>0</td>\n",
       "      <td>0.36954</td>\n",
       "      <td>NaN</td>\n",
       "      <td>NaN</td>\n",
       "      <td>NaN</td>\n",
       "      <td>NaN</td>\n",
       "      <td>NaN</td>\n",
       "    </tr>\n",
       "    <tr>\n",
       "      <th>1</th>\n",
       "      <td>a0000002</td>\n",
       "      <td>2000002</td>\n",
       "      <td>2 Pallas</td>\n",
       "      <td>2</td>\n",
       "      <td>Pallas</td>\n",
       "      <td>NaN</td>\n",
       "      <td>N</td>\n",
       "      <td>N</td>\n",
       "      <td>4.13</td>\n",
       "      <td>0.11</td>\n",
       "      <td>...</td>\n",
       "      <td>8441.0</td>\n",
       "      <td>NaN</td>\n",
       "      <td>NaN</td>\n",
       "      <td>0</td>\n",
       "      <td>0.35911</td>\n",
       "      <td>NaN</td>\n",
       "      <td>NaN</td>\n",
       "      <td>NaN</td>\n",
       "      <td>NaN</td>\n",
       "      <td>NaN</td>\n",
       "    </tr>\n",
       "    <tr>\n",
       "      <th>2</th>\n",
       "      <td>a0000003</td>\n",
       "      <td>2000003</td>\n",
       "      <td>3 Juno</td>\n",
       "      <td>3</td>\n",
       "      <td>Juno</td>\n",
       "      <td>NaN</td>\n",
       "      <td>N</td>\n",
       "      <td>N</td>\n",
       "      <td>5.33</td>\n",
       "      <td>0.32</td>\n",
       "      <td>...</td>\n",
       "      <td>7010.0</td>\n",
       "      <td>NaN</td>\n",
       "      <td>NaN</td>\n",
       "      <td>0</td>\n",
       "      <td>0.31378</td>\n",
       "      <td>NaN</td>\n",
       "      <td>NaN</td>\n",
       "      <td>NaN</td>\n",
       "      <td>NaN</td>\n",
       "      <td>NaN</td>\n",
       "    </tr>\n",
       "    <tr>\n",
       "      <th>3</th>\n",
       "      <td>a0000004</td>\n",
       "      <td>2000004</td>\n",
       "      <td>4 Vesta</td>\n",
       "      <td>4</td>\n",
       "      <td>Vesta</td>\n",
       "      <td>NaN</td>\n",
       "      <td>N</td>\n",
       "      <td>N</td>\n",
       "      <td>3.20</td>\n",
       "      <td>0.32</td>\n",
       "      <td>...</td>\n",
       "      <td>9325.0</td>\n",
       "      <td>2977.0</td>\n",
       "      <td>0.0</td>\n",
       "      <td>0</td>\n",
       "      <td>0.39592</td>\n",
       "      <td>NaN</td>\n",
       "      <td>NaN</td>\n",
       "      <td>NaN</td>\n",
       "      <td>NaN</td>\n",
       "      <td>NaN</td>\n",
       "    </tr>\n",
       "    <tr>\n",
       "      <th>4</th>\n",
       "      <td>a0000005</td>\n",
       "      <td>2000005</td>\n",
       "      <td>5 Astraea</td>\n",
       "      <td>5</td>\n",
       "      <td>Astraea</td>\n",
       "      <td>NaN</td>\n",
       "      <td>N</td>\n",
       "      <td>N</td>\n",
       "      <td>6.85</td>\n",
       "      <td>NaN</td>\n",
       "      <td>...</td>\n",
       "      <td>2695.0</td>\n",
       "      <td>NaN</td>\n",
       "      <td>NaN</td>\n",
       "      <td>0</td>\n",
       "      <td>0.49752</td>\n",
       "      <td>NaN</td>\n",
       "      <td>NaN</td>\n",
       "      <td>NaN</td>\n",
       "      <td>NaN</td>\n",
       "      <td>NaN</td>\n",
       "    </tr>\n",
       "  </tbody>\n",
       "</table>\n",
       "<p>5 rows × 75 columns</p>\n",
       "</div>"
      ],
      "text/plain": [
       "         id    spkid       full_name pdes     name prefix neo pha     H     G  \\\n",
       "0  a0000001  2000001         1 Ceres    1    Ceres    NaN   N   N  3.34  0.12   \n",
       "1  a0000002  2000002        2 Pallas    2   Pallas    NaN   N   N  4.13  0.11   \n",
       "2  a0000003  2000003          3 Juno    3     Juno    NaN   N   N  5.33  0.32   \n",
       "3  a0000004  2000004         4 Vesta    4    Vesta    NaN   N   N  3.20  0.32   \n",
       "4  a0000005  2000005       5 Astraea    5  Astraea    NaN   N   N  6.85   NaN   \n",
       "\n",
       "   ...  n_obs_used  n_del_obs_used  n_dop_obs_used  condition_code      rms  \\\n",
       "0  ...      5993.0           405.0             0.0               0  0.36954   \n",
       "1  ...      8441.0             NaN             NaN               0  0.35911   \n",
       "2  ...      7010.0             NaN             NaN               0  0.31378   \n",
       "3  ...      9325.0          2977.0             0.0               0  0.39592   \n",
       "4  ...      2695.0             NaN             NaN               0  0.49752   \n",
       "\n",
       "  two_body  A1  A2  A3  DT  \n",
       "0      NaN NaN NaN NaN NaN  \n",
       "1      NaN NaN NaN NaN NaN  \n",
       "2      NaN NaN NaN NaN NaN  \n",
       "3      NaN NaN NaN NaN NaN  \n",
       "4      NaN NaN NaN NaN NaN  \n",
       "\n",
       "[5 rows x 75 columns]"
      ]
     },
     "execution_count": 21,
     "metadata": {},
     "output_type": "execute_result"
    }
   ],
   "source": [
    "complete.head()"
   ]
  },
  {
   "cell_type": "markdown",
   "id": "thirty-surgeon",
   "metadata": {},
   "source": [
    "# Merge two databases to have all selected asteroids"
   ]
  },
  {
   "cell_type": "code",
   "execution_count": 42,
   "id": "incorrect-firmware",
   "metadata": {},
   "outputs": [],
   "source": [
    "df_neo = complete.merge(neo_jpl['id'], how='inner', on='id')"
   ]
  },
  {
   "cell_type": "code",
   "execution_count": 43,
   "id": "framed-neutral",
   "metadata": {},
   "outputs": [
    {
     "data": {
      "text/plain": [
       "(18788, 75)"
      ]
     },
     "execution_count": 43,
     "metadata": {},
     "output_type": "execute_result"
    }
   ],
   "source": [
    "df_neo.shape"
   ]
  },
  {
   "cell_type": "code",
   "execution_count": 44,
   "id": "south-prior",
   "metadata": {},
   "outputs": [
    {
     "data": {
      "text/plain": [
       "Index(['id', 'spkid', 'full_name', 'pdes', 'name', 'prefix', 'neo', 'pha', 'H',\n",
       "       'G', 'M1', 'M2', 'K1', 'K2', 'PC', 'diameter', 'extent', 'albedo',\n",
       "       'rot_per', 'GM', 'BV', 'UB', 'IR', 'spec_B', 'spec_T', 'H_sigma',\n",
       "       'diameter_sigma', 'orbit_id', 'epoch', 'epoch_mjd', 'epoch_cal',\n",
       "       'equinox', 'e', 'a', 'q', 'i', 'om', 'w', 'ma', 'ad', 'n', 'tp',\n",
       "       'tp_cal', 'per', 'per_y', 'moid', 'moid_ld', 'moid_jup', 't_jup',\n",
       "       'sigma_e', 'sigma_a', 'sigma_q', 'sigma_i', 'sigma_om', 'sigma_w',\n",
       "       'sigma_ma', 'sigma_ad', 'sigma_n', 'sigma_tp', 'sigma_per', 'class',\n",
       "       'producer', 'data_arc', 'first_obs', 'last_obs', 'n_obs_used',\n",
       "       'n_del_obs_used', 'n_dop_obs_used', 'condition_code', 'rms', 'two_body',\n",
       "       'A1', 'A2', 'A3', 'DT'],\n",
       "      dtype='object')"
      ]
     },
     "execution_count": 44,
     "metadata": {},
     "output_type": "execute_result"
    }
   ],
   "source": [
    "df_neo.columns"
   ]
  },
  {
   "cell_type": "code",
   "execution_count": 26,
   "id": "corrected-monday",
   "metadata": {},
   "outputs": [
    {
     "data": {
      "text/html": [
       "<div>\n",
       "<style scoped>\n",
       "    .dataframe tbody tr th:only-of-type {\n",
       "        vertical-align: middle;\n",
       "    }\n",
       "\n",
       "    .dataframe tbody tr th {\n",
       "        vertical-align: top;\n",
       "    }\n",
       "\n",
       "    .dataframe thead th {\n",
       "        text-align: right;\n",
       "    }\n",
       "</style>\n",
       "<table border=\"1\" class=\"dataframe\">\n",
       "  <thead>\n",
       "    <tr style=\"text-align: right;\">\n",
       "      <th></th>\n",
       "      <th>albedo_x</th>\n",
       "      <th>albedo_y</th>\n",
       "    </tr>\n",
       "  </thead>\n",
       "  <tbody>\n",
       "    <tr>\n",
       "      <th>0</th>\n",
       "      <td>0.250</td>\n",
       "      <td>0.250</td>\n",
       "    </tr>\n",
       "    <tr>\n",
       "      <th>1</th>\n",
       "      <td>NaN</td>\n",
       "      <td>NaN</td>\n",
       "    </tr>\n",
       "    <tr>\n",
       "      <th>2</th>\n",
       "      <td>0.310</td>\n",
       "      <td>0.310</td>\n",
       "    </tr>\n",
       "    <tr>\n",
       "      <th>3</th>\n",
       "      <td>0.238</td>\n",
       "      <td>0.238</td>\n",
       "    </tr>\n",
       "    <tr>\n",
       "      <th>4</th>\n",
       "      <td>NaN</td>\n",
       "      <td>NaN</td>\n",
       "    </tr>\n",
       "  </tbody>\n",
       "</table>\n",
       "</div>"
      ],
      "text/plain": [
       "   albedo_x  albedo_y\n",
       "0     0.250     0.250\n",
       "1       NaN       NaN\n",
       "2     0.310     0.310\n",
       "3     0.238     0.238\n",
       "4       NaN       NaN"
      ]
     },
     "execution_count": 26,
     "metadata": {},
     "output_type": "execute_result"
    }
   ],
   "source": [
    "df_neo[['albedo_x', 'albedo_y']].head()"
   ]
  },
  {
   "cell_type": "code",
   "execution_count": 31,
   "id": "soviet-hardware",
   "metadata": {},
   "outputs": [],
   "source": [
    "cols_to_use = neo_jpl.columns.difference(complete.columns)"
   ]
  },
  {
   "cell_type": "code",
   "execution_count": 33,
   "id": "young-gabriel",
   "metadata": {},
   "outputs": [],
   "source": [
    "cols_jpl = list(neo_jpl.columns)\n",
    "cols_comp = list(complete.columns)"
   ]
  },
  {
   "cell_type": "code",
   "execution_count": 40,
   "id": "affecting-ordering",
   "metadata": {},
   "outputs": [],
   "source": [
    "res = []\n",
    "for i in cols_jpl:\n",
    "    if i not in cols_comp:\n",
    "       res.append(i)"
   ]
  },
  {
   "cell_type": "code",
   "execution_count": 41,
   "id": "proprietary-racing",
   "metadata": {},
   "outputs": [
    {
     "data": {
      "text/plain": [
       "[]"
      ]
     },
     "execution_count": 41,
     "metadata": {},
     "output_type": "execute_result"
    }
   ],
   "source": [
    "res"
   ]
  },
  {
   "cell_type": "code",
   "execution_count": null,
   "id": "manual-revolution",
   "metadata": {},
   "outputs": [],
   "source": []
  },
  {
   "cell_type": "code",
   "execution_count": 29,
   "id": "tender-maker",
   "metadata": {},
   "outputs": [],
   "source": [
    "a = list(df_neo.columns)"
   ]
  },
  {
   "cell_type": "code",
   "execution_count": 1,
   "id": "incredible-frontier",
   "metadata": {},
   "outputs": [],
   "source": [
    "import os\n",
    "import sys"
   ]
  },
  {
   "cell_type": "code",
   "execution_count": 47,
   "id": "substantial-springer",
   "metadata": {},
   "outputs": [
    {
     "ename": "NameError",
     "evalue": "name '__file__' is not defined",
     "output_type": "error",
     "traceback": [
      "\u001b[0;31m---------------------------------------------------------------------------\u001b[0m",
      "\u001b[0;31mNameError\u001b[0m                                 Traceback (most recent call last)",
      "\u001b[0;32m<ipython-input-47-9bfff5861224>\u001b[0m in \u001b[0;36m<module>\u001b[0;34m\u001b[0m\n\u001b[0;32m----> 1\u001b[0;31m \u001b[0mrootdir\u001b[0m \u001b[0;34m=\u001b[0m \u001b[0mos\u001b[0m\u001b[0;34m.\u001b[0m\u001b[0mpath\u001b[0m\u001b[0;34m.\u001b[0m\u001b[0mdirname\u001b[0m\u001b[0;34m(\u001b[0m\u001b[0mos\u001b[0m\u001b[0;34m.\u001b[0m\u001b[0mpath\u001b[0m\u001b[0;34m.\u001b[0m\u001b[0mdirname\u001b[0m\u001b[0;34m(\u001b[0m\u001b[0m__file__\u001b[0m\u001b[0;34m)\u001b[0m\u001b[0;34m)\u001b[0m\u001b[0;34m\u001b[0m\u001b[0;34m\u001b[0m\u001b[0m\n\u001b[0m",
      "\u001b[0;31mNameError\u001b[0m: name '__file__' is not defined"
     ]
    }
   ],
   "source": [
    "rootdir = os.path.dirname(os.path.dirname(__file__))"
   ]
  },
  {
   "cell_type": "code",
   "execution_count": 2,
   "id": "rotary-level",
   "metadata": {},
   "outputs": [
    {
     "data": {
      "text/plain": [
       "'/home/corentin/code/corentingaret/asteroid_mining:/home/corentin/code/corentingaret/data-challenges/04-Decision-Science:'"
      ]
     },
     "execution_count": 2,
     "metadata": {},
     "output_type": "execute_result"
    }
   ],
   "source": [
    "os.environ['PYTHONPATH']"
   ]
  },
  {
   "cell_type": "code",
   "execution_count": 51,
   "id": "automated-schema",
   "metadata": {},
   "outputs": [
    {
     "data": {
      "text/plain": [
       "['/home/corentin/code/corentingaret/asteroid_mining/notebooks',\n",
       " '/home/corentin/code/corentingaret/data-challenges/04-Decision-Science',\n",
       " '/home/corentin/code/corentingaret/asteroid_mining/notebooks',\n",
       " '/home/corentin/.pyenv/versions/3.8.6/lib/python38.zip',\n",
       " '/home/corentin/.pyenv/versions/3.8.6/lib/python3.8',\n",
       " '/home/corentin/.pyenv/versions/3.8.6/lib/python3.8/lib-dynload',\n",
       " '',\n",
       " '/home/corentin/.pyenv/versions/3.8.6/envs/lewagon/lib/python3.8/site-packages',\n",
       " '/home/corentin/code/corentingaret/mlproject',\n",
       " '/home/corentin/code/corentingaret/test_package',\n",
       " '/home/corentin/code/corentingaret/toolbox_data',\n",
       " '/home/corentin/code/corentingaret/TaxiFareModel',\n",
       " '/home/corentin/code/Celine-Guan/backinthessr',\n",
       " '/home/corentin/.pyenv/versions/3.8.6/envs/lewagon/lib/python3.8/site-packages/IPython/extensions',\n",
       " '/home/corentin/.ipython']"
      ]
     },
     "execution_count": 51,
     "metadata": {},
     "output_type": "execute_result"
    }
   ],
   "source": [
    "sys.path"
   ]
  },
  {
   "cell_type": "code",
   "execution_count": 52,
   "id": "handmade-tower",
   "metadata": {},
   "outputs": [
    {
     "ename": "NameError",
     "evalue": "name '__file__' is not defined",
     "output_type": "error",
     "traceback": [
      "\u001b[0;31m---------------------------------------------------------------------------\u001b[0m",
      "\u001b[0;31mNameError\u001b[0m                                 Traceback (most recent call last)",
      "\u001b[0;32m<ipython-input-52-d3ab18d809ba>\u001b[0m in \u001b[0;36m<module>\u001b[0;34m\u001b[0m\n\u001b[0;32m----> 1\u001b[0;31m \u001b[0mos\u001b[0m\u001b[0;34m.\u001b[0m\u001b[0mpath\u001b[0m\u001b[0;34m.\u001b[0m\u001b[0mdirname\u001b[0m\u001b[0;34m(\u001b[0m\u001b[0mos\u001b[0m\u001b[0;34m.\u001b[0m\u001b[0mpath\u001b[0m\u001b[0;34m.\u001b[0m\u001b[0mdirname\u001b[0m\u001b[0;34m(\u001b[0m\u001b[0m__file__\u001b[0m\u001b[0;34m)\u001b[0m\u001b[0;34m)\u001b[0m\u001b[0;34m\u001b[0m\u001b[0;34m\u001b[0m\u001b[0m\n\u001b[0m",
      "\u001b[0;31mNameError\u001b[0m: name '__file__' is not defined"
     ]
    }
   ],
   "source": [
    "os.path.dirname(os.path.dirname(__file__))"
   ]
  },
  {
   "cell_type": "markdown",
   "id": "developmental-focus",
   "metadata": {},
   "source": [
    "# First solution"
   ]
  },
  {
   "cell_type": "code",
   "execution_count": 3,
   "id": "distant-drinking",
   "metadata": {},
   "outputs": [],
   "source": [
    "root_path = \"/home/corentin/code/corentingaret/asteroid_mining\""
   ]
  },
  {
   "cell_type": "code",
   "execution_count": 4,
   "id": "dried-pioneer",
   "metadata": {},
   "outputs": [
    {
     "data": {
      "text/plain": [
       "['/home/corentin/code/corentingaret/asteroid_mining/notebooks',\n",
       " '/home/corentin/code/corentingaret/asteroid_mining',\n",
       " '/home/corentin/code/corentingaret/data-challenges/04-Decision-Science',\n",
       " '/home/corentin/code/corentingaret/asteroid_mining/notebooks',\n",
       " '/home/corentin/.pyenv/versions/3.8.6/lib/python38.zip',\n",
       " '/home/corentin/.pyenv/versions/3.8.6/lib/python3.8',\n",
       " '/home/corentin/.pyenv/versions/3.8.6/lib/python3.8/lib-dynload',\n",
       " '',\n",
       " '/home/corentin/.pyenv/versions/3.8.6/envs/lewagon/lib/python3.8/site-packages',\n",
       " '/home/corentin/code/corentingaret/mlproject',\n",
       " '/home/corentin/code/corentingaret/test_package',\n",
       " '/home/corentin/code/corentingaret/toolbox_data',\n",
       " '/home/corentin/code/corentingaret/TaxiFareModel',\n",
       " '/home/corentin/code/Celine-Guan/backinthessr',\n",
       " '/home/corentin/.pyenv/versions/3.8.6/envs/lewagon/lib/python3.8/site-packages/IPython/extensions',\n",
       " '/home/corentin/.ipython']"
      ]
     },
     "execution_count": 4,
     "metadata": {},
     "output_type": "execute_result"
    }
   ],
   "source": [
    "sys.path"
   ]
  },
  {
   "cell_type": "code",
   "execution_count": 5,
   "id": "underlying-crisis",
   "metadata": {},
   "outputs": [
    {
     "data": {
      "text/plain": [
       "'/home/corentin/code/corentingaret/asteroid_mining/notebooks'"
      ]
     },
     "execution_count": 5,
     "metadata": {},
     "output_type": "execute_result"
    }
   ],
   "source": [
    "os.getcwd()"
   ]
  },
  {
   "cell_type": "code",
   "execution_count": 16,
   "id": "documentary-aspect",
   "metadata": {},
   "outputs": [
    {
     "name": "stdout",
     "output_type": "stream",
     "text": [
      "/home/corentin/code/corentingaret/data/raw_data\n"
     ]
    }
   ],
   "source": [
    "Data().get_data()"
   ]
  },
  {
   "cell_type": "code",
   "execution_count": 20,
   "id": "stopped-wellington",
   "metadata": {},
   "outputs": [
    {
     "name": "stdout",
     "output_type": "stream",
     "text": [
      "The autoreload extension is already loaded. To reload it, use:\n",
      "  %reload_ext autoreload\n"
     ]
    }
   ],
   "source": [
    "%load_ext autoreload\n",
    "%autoreload 2"
   ]
  },
  {
   "cell_type": "code",
   "execution_count": 21,
   "id": "swiss-granny",
   "metadata": {},
   "outputs": [
    {
     "ename": "ModuleNotFoundError",
     "evalue": "No module named 'estimate'",
     "output_type": "error",
     "traceback": [
      "\u001b[0;31m---------------------------------------------------------------------------\u001b[0m",
      "\u001b[0;31mModuleNotFoundError\u001b[0m                       Traceback (most recent call last)",
      "\u001b[0;32m<ipython-input-21-5b718a5331d8>\u001b[0m in \u001b[0;36m<module>\u001b[0;34m\u001b[0m\n\u001b[0;32m----> 1\u001b[0;31m \u001b[0;32mfrom\u001b[0m \u001b[0masteroid\u001b[0m \u001b[0;32mimport\u001b[0m \u001b[0mtest\u001b[0m\u001b[0;34m\u001b[0m\u001b[0;34m\u001b[0m\u001b[0m\n\u001b[0m",
      "\u001b[0;32m~/code/corentingaret/asteroid_mining/asteroid.py\u001b[0m in \u001b[0;36m<module>\u001b[0;34m\u001b[0m\n\u001b[1;32m      1\u001b[0m \u001b[0;32mimport\u001b[0m \u001b[0mmath\u001b[0m\u001b[0;34m\u001b[0m\u001b[0;34m\u001b[0m\u001b[0m\n\u001b[1;32m      2\u001b[0m \u001b[0;32mimport\u001b[0m \u001b[0mrandom\u001b[0m\u001b[0;34m\u001b[0m\u001b[0;34m\u001b[0m\u001b[0m\n\u001b[0;32m----> 3\u001b[0;31m \u001b[0;32mimport\u001b[0m \u001b[0mestimate\u001b[0m\u001b[0;34m\u001b[0m\u001b[0;34m\u001b[0m\u001b[0m\n\u001b[0m\u001b[1;32m      4\u001b[0m \u001b[0;34m\u001b[0m\u001b[0m\n\u001b[1;32m      5\u001b[0m \u001b[0;32mdef\u001b[0m \u001b[0mtest\u001b[0m\u001b[0;34m(\u001b[0m\u001b[0;34m)\u001b[0m\u001b[0;34m:\u001b[0m\u001b[0;34m\u001b[0m\u001b[0;34m\u001b[0m\u001b[0m\n",
      "\u001b[0;31mModuleNotFoundError\u001b[0m: No module named 'estimate'"
     ]
    }
   ],
   "source": [
    "from asteroid import test"
   ]
  },
  {
   "cell_type": "code",
   "execution_count": 27,
   "id": "conceptual-register",
   "metadata": {},
   "outputs": [
    {
     "name": "stderr",
     "output_type": "stream",
     "text": [
      "[autoreload of data failed: Traceback (most recent call last):\n",
      "  File \"/home/corentin/.pyenv/versions/3.8.6/envs/lewagon/lib/python3.8/site-packages/IPython/extensions/autoreload.py\", line 245, in check\n",
      "    superreload(m, reload, self.old_objects)\n",
      "  File \"/home/corentin/.pyenv/versions/3.8.6/envs/lewagon/lib/python3.8/site-packages/IPython/extensions/autoreload.py\", line 394, in superreload\n",
      "    module = reload(module)\n",
      "  File \"/home/corentin/.pyenv/versions/3.8.6/lib/python3.8/imp.py\", line 314, in reload\n",
      "    return importlib.reload(module)\n",
      "  File \"/home/corentin/.pyenv/versions/3.8.6/lib/python3.8/importlib/__init__.py\", line 169, in reload\n",
      "    _bootstrap._exec(spec, module)\n",
      "  File \"<frozen importlib._bootstrap>\", line 604, in _exec\n",
      "  File \"<frozen importlib._bootstrap_external>\", line 779, in exec_module\n",
      "  File \"<frozen importlib._bootstrap_external>\", line 916, in get_code\n",
      "  File \"<frozen importlib._bootstrap_external>\", line 846, in source_to_code\n",
      "  File \"<frozen importlib._bootstrap>\", line 219, in _call_with_frames_removed\n",
      "  File \"/home/corentin/code/corentingaret/asteroid_mining/data.py\", line 29\n",
      "    print('csv file saved!')\n",
      "    ^\n",
      "SyntaxError: invalid syntax\n",
      "]\n"
     ]
    }
   ],
   "source": [
    "from data import Data"
   ]
  },
  {
   "cell_type": "code",
   "execution_count": 31,
   "id": "smoking-extraction",
   "metadata": {},
   "outputs": [
    {
     "data": {
      "text/plain": [
       "'done'"
      ]
     },
     "execution_count": 31,
     "metadata": {},
     "output_type": "execute_result"
    }
   ],
   "source": [
    "Data().create_df_neo()"
   ]
  },
  {
   "cell_type": "code",
   "execution_count": 32,
   "id": "official-replica",
   "metadata": {},
   "outputs": [
    {
     "name": "stderr",
     "output_type": "stream",
     "text": [
      "/home/corentin/.pyenv/versions/3.8.6/envs/lewagon/lib/python3.8/site-packages/IPython/core/interactiveshell.py:3338: DtypeWarning: Columns (5,17,24,25) have mixed types.Specify dtype option on import or set low_memory=False.\n",
      "  if (await self.run_code(code, result,  async_=asy)):\n"
     ]
    },
    {
     "data": {
      "text/html": [
       "<div>\n",
       "<style scoped>\n",
       "    .dataframe tbody tr th:only-of-type {\n",
       "        vertical-align: middle;\n",
       "    }\n",
       "\n",
       "    .dataframe tbody tr th {\n",
       "        vertical-align: top;\n",
       "    }\n",
       "\n",
       "    .dataframe thead th {\n",
       "        text-align: right;\n",
       "    }\n",
       "</style>\n",
       "<table border=\"1\" class=\"dataframe\">\n",
       "  <thead>\n",
       "    <tr style=\"text-align: right;\">\n",
       "      <th></th>\n",
       "      <th>Unnamed: 0</th>\n",
       "      <th>id</th>\n",
       "      <th>spkid</th>\n",
       "      <th>full_name</th>\n",
       "      <th>pdes</th>\n",
       "      <th>name</th>\n",
       "      <th>prefix</th>\n",
       "      <th>neo</th>\n",
       "      <th>pha</th>\n",
       "      <th>H</th>\n",
       "      <th>...</th>\n",
       "      <th>n_obs_used</th>\n",
       "      <th>n_del_obs_used</th>\n",
       "      <th>n_dop_obs_used</th>\n",
       "      <th>condition_code</th>\n",
       "      <th>rms</th>\n",
       "      <th>two_body</th>\n",
       "      <th>A1</th>\n",
       "      <th>A2</th>\n",
       "      <th>A3</th>\n",
       "      <th>DT</th>\n",
       "    </tr>\n",
       "  </thead>\n",
       "  <tbody>\n",
       "    <tr>\n",
       "      <th>0</th>\n",
       "      <td>0</td>\n",
       "      <td>a0000433</td>\n",
       "      <td>2000433</td>\n",
       "      <td>433 Eros (1898 DQ)</td>\n",
       "      <td>433</td>\n",
       "      <td>Eros</td>\n",
       "      <td>NaN</td>\n",
       "      <td>Y</td>\n",
       "      <td>N</td>\n",
       "      <td>11.16</td>\n",
       "      <td>...</td>\n",
       "      <td>6231.0</td>\n",
       "      <td>1.0</td>\n",
       "      <td>3.0</td>\n",
       "      <td>0.0</td>\n",
       "      <td>0.36003</td>\n",
       "      <td>NaN</td>\n",
       "      <td>NaN</td>\n",
       "      <td>NaN</td>\n",
       "      <td>NaN</td>\n",
       "      <td>NaN</td>\n",
       "    </tr>\n",
       "    <tr>\n",
       "      <th>1</th>\n",
       "      <td>1</td>\n",
       "      <td>a0000719</td>\n",
       "      <td>2000719</td>\n",
       "      <td>719 Albert (1911 MT)</td>\n",
       "      <td>719</td>\n",
       "      <td>Albert</td>\n",
       "      <td>NaN</td>\n",
       "      <td>Y</td>\n",
       "      <td>N</td>\n",
       "      <td>15.40</td>\n",
       "      <td>...</td>\n",
       "      <td>1657.0</td>\n",
       "      <td>NaN</td>\n",
       "      <td>NaN</td>\n",
       "      <td>0.0</td>\n",
       "      <td>0.38568</td>\n",
       "      <td>NaN</td>\n",
       "      <td>NaN</td>\n",
       "      <td>NaN</td>\n",
       "      <td>NaN</td>\n",
       "      <td>NaN</td>\n",
       "    </tr>\n",
       "    <tr>\n",
       "      <th>2</th>\n",
       "      <td>2</td>\n",
       "      <td>a0000887</td>\n",
       "      <td>2000887</td>\n",
       "      <td>887 Alinda (1918 DB)</td>\n",
       "      <td>887</td>\n",
       "      <td>Alinda</td>\n",
       "      <td>NaN</td>\n",
       "      <td>Y</td>\n",
       "      <td>N</td>\n",
       "      <td>13.40</td>\n",
       "      <td>...</td>\n",
       "      <td>1189.0</td>\n",
       "      <td>NaN</td>\n",
       "      <td>NaN</td>\n",
       "      <td>0.0</td>\n",
       "      <td>0.49071</td>\n",
       "      <td>NaN</td>\n",
       "      <td>NaN</td>\n",
       "      <td>NaN</td>\n",
       "      <td>NaN</td>\n",
       "      <td>NaN</td>\n",
       "    </tr>\n",
       "    <tr>\n",
       "      <th>3</th>\n",
       "      <td>3</td>\n",
       "      <td>a0001036</td>\n",
       "      <td>2001036</td>\n",
       "      <td>1036 Ganymed (1924 TD)</td>\n",
       "      <td>1036</td>\n",
       "      <td>Ganymed</td>\n",
       "      <td>NaN</td>\n",
       "      <td>Y</td>\n",
       "      <td>N</td>\n",
       "      <td>9.45</td>\n",
       "      <td>...</td>\n",
       "      <td>5647.0</td>\n",
       "      <td>0.0</td>\n",
       "      <td>1.0</td>\n",
       "      <td>0.0</td>\n",
       "      <td>0.39158</td>\n",
       "      <td>NaN</td>\n",
       "      <td>NaN</td>\n",
       "      <td>NaN</td>\n",
       "      <td>NaN</td>\n",
       "      <td>NaN</td>\n",
       "    </tr>\n",
       "    <tr>\n",
       "      <th>4</th>\n",
       "      <td>4</td>\n",
       "      <td>a0001221</td>\n",
       "      <td>2001221</td>\n",
       "      <td>1221 Amor (1932 EA1)</td>\n",
       "      <td>1221</td>\n",
       "      <td>Amor</td>\n",
       "      <td>NaN</td>\n",
       "      <td>Y</td>\n",
       "      <td>N</td>\n",
       "      <td>17.70</td>\n",
       "      <td>...</td>\n",
       "      <td>467.0</td>\n",
       "      <td>NaN</td>\n",
       "      <td>NaN</td>\n",
       "      <td>0.0</td>\n",
       "      <td>0.45599</td>\n",
       "      <td>NaN</td>\n",
       "      <td>NaN</td>\n",
       "      <td>NaN</td>\n",
       "      <td>NaN</td>\n",
       "      <td>NaN</td>\n",
       "    </tr>\n",
       "  </tbody>\n",
       "</table>\n",
       "<p>5 rows × 76 columns</p>\n",
       "</div>"
      ],
      "text/plain": [
       "   Unnamed: 0        id    spkid                 full_name  pdes     name  \\\n",
       "0           0  a0000433  2000433        433 Eros (1898 DQ)   433     Eros   \n",
       "1           1  a0000719  2000719      719 Albert (1911 MT)   719   Albert   \n",
       "2           2  a0000887  2000887      887 Alinda (1918 DB)   887   Alinda   \n",
       "3           3  a0001036  2001036    1036 Ganymed (1924 TD)  1036  Ganymed   \n",
       "4           4  a0001221  2001221      1221 Amor (1932 EA1)  1221     Amor   \n",
       "\n",
       "   prefix neo pha      H  ...  n_obs_used  n_del_obs_used  n_dop_obs_used  \\\n",
       "0     NaN   Y   N  11.16  ...      6231.0             1.0             3.0   \n",
       "1     NaN   Y   N  15.40  ...      1657.0             NaN             NaN   \n",
       "2     NaN   Y   N  13.40  ...      1189.0             NaN             NaN   \n",
       "3     NaN   Y   N   9.45  ...      5647.0             0.0             1.0   \n",
       "4     NaN   Y   N  17.70  ...       467.0             NaN             NaN   \n",
       "\n",
       "   condition_code      rms  two_body  A1  A2  A3  DT  \n",
       "0             0.0  0.36003       NaN NaN NaN NaN NaN  \n",
       "1             0.0  0.38568       NaN NaN NaN NaN NaN  \n",
       "2             0.0  0.49071       NaN NaN NaN NaN NaN  \n",
       "3             0.0  0.39158       NaN NaN NaN NaN NaN  \n",
       "4             0.0  0.45599       NaN NaN NaN NaN NaN  \n",
       "\n",
       "[5 rows x 76 columns]"
      ]
     },
     "execution_count": 32,
     "metadata": {},
     "output_type": "execute_result"
    }
   ],
   "source": [
    "df = Data().get_data()\n",
    "df.head()"
   ]
  },
  {
   "cell_type": "code",
   "execution_count": 33,
   "id": "fancy-butter",
   "metadata": {},
   "outputs": [
    {
     "data": {
      "text/plain": [
       "Index(['Unnamed: 0', 'id', 'spkid', 'full_name', 'pdes', 'name', 'prefix',\n",
       "       'neo', 'pha', 'H', 'G', 'M1', 'M2', 'K1', 'K2', 'PC', 'diameter',\n",
       "       'extent', 'albedo', 'rot_per', 'GM', 'BV', 'UB', 'IR', 'spec_B',\n",
       "       'spec_T', 'H_sigma', 'diameter_sigma', 'orbit_id', 'epoch', 'epoch_mjd',\n",
       "       'epoch_cal', 'equinox', 'e', 'a', 'q', 'i', 'om', 'w', 'ma', 'ad', 'n',\n",
       "       'tp', 'tp_cal', 'per', 'per_y', 'moid', 'moid_ld', 'moid_jup', 't_jup',\n",
       "       'sigma_e', 'sigma_a', 'sigma_q', 'sigma_i', 'sigma_om', 'sigma_w',\n",
       "       'sigma_ma', 'sigma_ad', 'sigma_n', 'sigma_tp', 'sigma_per', 'class',\n",
       "       'producer', 'data_arc', 'first_obs', 'last_obs', 'n_obs_used',\n",
       "       'n_del_obs_used', 'n_dop_obs_used', 'condition_code', 'rms', 'two_body',\n",
       "       'A1', 'A2', 'A3', 'DT'],\n",
       "      dtype='object')"
      ]
     },
     "execution_count": 33,
     "metadata": {},
     "output_type": "execute_result"
    }
   ],
   "source": [
    "df.drop(columns="
   ]
  },
  {
   "cell_type": "code",
   "execution_count": 3,
   "id": "perceived-might",
   "metadata": {},
   "outputs": [],
   "source": [
    "df1 = pd.read_csv('../data/raw_data/cneos_asteroids.csv')"
   ]
  },
  {
   "cell_type": "code",
   "execution_count": 4,
   "id": "silver-fabric",
   "metadata": {},
   "outputs": [
    {
     "data": {
      "text/html": [
       "<div>\n",
       "<style scoped>\n",
       "    .dataframe tbody tr th:only-of-type {\n",
       "        vertical-align: middle;\n",
       "    }\n",
       "\n",
       "    .dataframe tbody tr th {\n",
       "        vertical-align: top;\n",
       "    }\n",
       "\n",
       "    .dataframe thead th {\n",
       "        text-align: right;\n",
       "    }\n",
       "</style>\n",
       "<table border=\"1\" class=\"dataframe\">\n",
       "  <thead>\n",
       "    <tr style=\"text-align: right;\">\n",
       "      <th></th>\n",
       "      <th>Object</th>\n",
       "      <th>Orbit ID</th>\n",
       "      <th>H (mag)</th>\n",
       "      <th>Estimated Diameter (m)</th>\n",
       "      <th>OCC</th>\n",
       "      <th>Min. delta-V [delta-V, dur.] (km/s), (d)</th>\n",
       "      <th>Min. Duration [delta-V, dur.] (km/s), (d)</th>\n",
       "      <th>Viable Trajectories</th>\n",
       "      <th>Next Optical Opportunity (yyyy-mm [Vp])</th>\n",
       "      <th>Next Goldstone Radar Opportunity (yyyy-mm [SNR])</th>\n",
       "      <th>Unnamed: 10</th>\n",
       "    </tr>\n",
       "  </thead>\n",
       "  <tbody>\n",
       "    <tr>\n",
       "      <th>0</th>\n",
       "      <td>(2000 SG344)</td>\n",
       "      <td>17</td>\n",
       "      <td>24.7</td>\n",
       "      <td>20 - 89</td>\n",
       "      <td>3</td>\n",
       "      <td>3.563, 346</td>\n",
       "      <td>5.952, 114</td>\n",
       "      <td>3302685</td>\n",
       "      <td>2028-04 [19.1]</td>\n",
       "      <td>2028-05 [58]</td>\n",
       "      <td>bK00SY4G</td>\n",
       "    </tr>\n",
       "    <tr>\n",
       "      <th>1</th>\n",
       "      <td>(2001 FR85)</td>\n",
       "      <td>13</td>\n",
       "      <td>24.8</td>\n",
       "      <td>19 - 85</td>\n",
       "      <td>3</td>\n",
       "      <td>4.610, 354</td>\n",
       "      <td>5.991, 162</td>\n",
       "      <td>1681641</td>\n",
       "      <td>2038-10 [21.1]</td>\n",
       "      <td>none</td>\n",
       "      <td>bK01F85R</td>\n",
       "    </tr>\n",
       "    <tr>\n",
       "      <th>2</th>\n",
       "      <td>(2006 BZ147)</td>\n",
       "      <td>13</td>\n",
       "      <td>25.4</td>\n",
       "      <td>14 - 65</td>\n",
       "      <td>3</td>\n",
       "      <td>4.242, 354</td>\n",
       "      <td>5.965, 250</td>\n",
       "      <td>1676518</td>\n",
       "      <td>2034-12 [19.2]</td>\n",
       "      <td>2035-02 [40]</td>\n",
       "      <td>bK06BE7Z</td>\n",
       "    </tr>\n",
       "    <tr>\n",
       "      <th>3</th>\n",
       "      <td>(2018 PM28)</td>\n",
       "      <td>5</td>\n",
       "      <td>25.7</td>\n",
       "      <td>13 - 56</td>\n",
       "      <td>4</td>\n",
       "      <td>5.113, 354</td>\n",
       "      <td>5.946, 218</td>\n",
       "      <td>1412351</td>\n",
       "      <td>2043-06 [21.4]</td>\n",
       "      <td>none</td>\n",
       "      <td>bK18P28M</td>\n",
       "    </tr>\n",
       "    <tr>\n",
       "      <th>4</th>\n",
       "      <td>(2017 SV19)</td>\n",
       "      <td>8</td>\n",
       "      <td>25.0</td>\n",
       "      <td>17 - 78</td>\n",
       "      <td>5</td>\n",
       "      <td>4.895, 354</td>\n",
       "      <td>5.989, 178</td>\n",
       "      <td>1255101</td>\n",
       "      <td>2028-09 [24.0]</td>\n",
       "      <td>none</td>\n",
       "      <td>bK17S19V</td>\n",
       "    </tr>\n",
       "  </tbody>\n",
       "</table>\n",
       "</div>"
      ],
      "text/plain": [
       "         Object  Orbit ID  H (mag) Estimated Diameter (m)  OCC  \\\n",
       "0  (2000 SG344)        17     24.7                20 - 89    3   \n",
       "1   (2001 FR85)        13     24.8                19 - 85    3   \n",
       "2  (2006 BZ147)        13     25.4                14 - 65    3   \n",
       "3   (2018 PM28)         5     25.7                13 - 56    4   \n",
       "4   (2017 SV19)         8     25.0                17 - 78    5   \n",
       "\n",
       "  Min. delta-V [delta-V, dur.] (km/s), (d)  \\\n",
       "0                               3.563, 346   \n",
       "1                               4.610, 354   \n",
       "2                               4.242, 354   \n",
       "3                               5.113, 354   \n",
       "4                               4.895, 354   \n",
       "\n",
       "  Min. Duration [delta-V, dur.] (km/s), (d)  Viable Trajectories  \\\n",
       "0                                5.952, 114              3302685   \n",
       "1                                5.991, 162              1681641   \n",
       "2                                5.965, 250              1676518   \n",
       "3                                5.946, 218              1412351   \n",
       "4                                5.989, 178              1255101   \n",
       "\n",
       "  Next Optical Opportunity (yyyy-mm [Vp])  \\\n",
       "0                          2028-04 [19.1]   \n",
       "1                          2038-10 [21.1]   \n",
       "2                          2034-12 [19.2]   \n",
       "3                          2043-06 [21.4]   \n",
       "4                          2028-09 [24.0]   \n",
       "\n",
       "  Next Goldstone Radar Opportunity (yyyy-mm [SNR]) Unnamed: 10  \n",
       "0                                     2028-05 [58]    bK00SY4G  \n",
       "1                                             none    bK01F85R  \n",
       "2                                     2035-02 [40]    bK06BE7Z  \n",
       "3                                             none    bK18P28M  \n",
       "4                                             none    bK17S19V  "
      ]
     },
     "execution_count": 4,
     "metadata": {},
     "output_type": "execute_result"
    }
   ],
   "source": [
    "df1.head()"
   ]
  },
  {
   "cell_type": "code",
   "execution_count": 5,
   "id": "trained-rover",
   "metadata": {},
   "outputs": [
    {
     "data": {
      "text/plain": [
       "(70, 11)"
      ]
     },
     "execution_count": 5,
     "metadata": {},
     "output_type": "execute_result"
    }
   ],
   "source": [
    "df1.shape"
   ]
  },
  {
   "cell_type": "code",
   "execution_count": 6,
   "id": "described-solid",
   "metadata": {},
   "outputs": [
    {
     "data": {
      "text/plain": [
       "Index(['Object', 'Orbit ID', 'H (mag)', 'Estimated Diameter (m)', 'OCC',\n",
       "       'Min. delta-V [delta-V, dur.] (km/s), (d)',\n",
       "       'Min. Duration [delta-V, dur.] (km/s), (d)', 'Viable Trajectories',\n",
       "       'Next Optical Opportunity (yyyy-mm [Vp])',\n",
       "       'Next Goldstone Radar Opportunity (yyyy-mm [SNR])', 'Unnamed: 10'],\n",
       "      dtype='object')"
      ]
     },
     "execution_count": 6,
     "metadata": {},
     "output_type": "execute_result"
    }
   ],
   "source": [
    "df1.columns"
   ]
  },
  {
   "cell_type": "code",
   "execution_count": 8,
   "id": "unlikely-qualification",
   "metadata": {},
   "outputs": [],
   "source": [
    "df1 = df1.rename(columns={'Unnamed: 10':'id'})"
   ]
  },
  {
   "cell_type": "code",
   "execution_count": null,
   "id": "stuck-rouge",
   "metadata": {},
   "outputs": [],
   "source": []
  }
 ],
 "metadata": {
  "kernelspec": {
   "display_name": "Python 3",
   "language": "python",
   "name": "python3"
  },
  "language_info": {
   "codemirror_mode": {
    "name": "ipython",
    "version": 3
   },
   "file_extension": ".py",
   "mimetype": "text/x-python",
   "name": "python",
   "nbconvert_exporter": "python",
   "pygments_lexer": "ipython3",
   "version": "3.8.6"
  },
  "toc": {
   "base_numbering": 1,
   "nav_menu": {},
   "number_sections": true,
   "sideBar": true,
   "skip_h1_title": false,
   "title_cell": "Table of Contents",
   "title_sidebar": "Contents",
   "toc_cell": false,
   "toc_position": {},
   "toc_section_display": true,
   "toc_window_display": false
  }
 },
 "nbformat": 4,
 "nbformat_minor": 5
}
